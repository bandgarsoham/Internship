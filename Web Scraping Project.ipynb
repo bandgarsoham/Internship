{
 "cells": [
  {
   "cell_type": "markdown",
   "id": "5f67dce2",
   "metadata": {},
   "source": [
    "### 1. Write a python program to display all the header tags from‘en.wikipedia.org/wiki/Main_Page’.\n"
   ]
  },
  {
   "cell_type": "code",
   "execution_count": 1,
   "id": "e1693f2f",
   "metadata": {},
   "outputs": [
    {
     "name": "stdout",
     "output_type": "stream",
     "text": [
      "Requirement already satisfied: bs4 in c:\\users\\soham\\anaconda3\\lib\\site-packages (0.0.1)\n",
      "Requirement already satisfied: beautifulsoup4 in c:\\users\\soham\\anaconda3\\lib\\site-packages (from bs4) (4.9.3)\n",
      "Requirement already satisfied: soupsieve>1.2 in c:\\users\\soham\\anaconda3\\lib\\site-packages (from beautifulsoup4->bs4) (2.2.1)\n",
      "Requirement already satisfied: requests in c:\\users\\soham\\anaconda3\\lib\\site-packages (2.25.1)\n",
      "Requirement already satisfied: certifi>=2017.4.17 in c:\\users\\soham\\anaconda3\\lib\\site-packages (from requests) (2020.12.5)\n",
      "Requirement already satisfied: urllib3<1.27,>=1.21.1 in c:\\users\\soham\\anaconda3\\lib\\site-packages (from requests) (1.26.4)\n",
      "Requirement already satisfied: chardet<5,>=3.0.2 in c:\\users\\soham\\anaconda3\\lib\\site-packages (from requests) (4.0.0)\n",
      "Requirement already satisfied: idna<3,>=2.5 in c:\\users\\soham\\anaconda3\\lib\\site-packages (from requests) (2.10)\n"
     ]
    }
   ],
   "source": [
    "!pip install bs4\n",
    "!pip install requests"
   ]
  },
  {
   "cell_type": "code",
   "execution_count": 2,
   "id": "43f209ef",
   "metadata": {},
   "outputs": [],
   "source": [
    "from bs4 import BeautifulSoup\n",
    "import requests"
   ]
  },
  {
   "cell_type": "code",
   "execution_count": 3,
   "id": "550127fa",
   "metadata": {},
   "outputs": [],
   "source": [
    "url=requests.get(\"https://en.wikipedia.org/wiki/Main_Page\")"
   ]
  },
  {
   "cell_type": "code",
   "execution_count": 4,
   "id": "6d83a050",
   "metadata": {},
   "outputs": [
    {
     "data": {
      "text/plain": [
       "200"
      ]
     },
     "execution_count": 4,
     "metadata": {},
     "output_type": "execute_result"
    }
   ],
   "source": [
    "url.status_code"
   ]
  },
  {
   "cell_type": "code",
   "execution_count": 5,
   "id": "006f140b",
   "metadata": {},
   "outputs": [],
   "source": [
    "Soup=BeautifulSoup(url.text,\"html.parser\")"
   ]
  },
  {
   "cell_type": "code",
   "execution_count": 6,
   "id": "9877686a",
   "metadata": {},
   "outputs": [],
   "source": [
    "story=Soup.find_all(['h1','h2','h3'])\n"
   ]
  },
  {
   "cell_type": "code",
   "execution_count": 7,
   "id": "d42c6720",
   "metadata": {},
   "outputs": [
    {
     "name": "stdout",
     "output_type": "stream",
     "text": [
      "<h1 class=\"firstHeading\" id=\"firstHeading\">Main Page</h1>\n",
      "<h2 class=\"mp-h2\" id=\"mp-tfa-h2\"><span id=\"From_today.27s_featured_article\"></span><span class=\"mw-headline\" id=\"From_today's_featured_article\">From today's featured article</span></h2>\n",
      "<h2 class=\"mp-h2\" id=\"mp-dyk-h2\"><span class=\"mw-headline\" id=\"Did_you_know_...\">Did you know ...</span></h2>\n",
      "<h2 class=\"mp-h2\" id=\"mp-itn-h2\"><span class=\"mw-headline\" id=\"In_the_news\">In the news</span></h2>\n",
      "<h2 class=\"mp-h2\" id=\"mp-otd-h2\"><span class=\"mw-headline\" id=\"On_this_day\">On this day</span></h2>\n",
      "<h2 class=\"mp-h2\" id=\"mp-tfp-h2\"><span id=\"Today.27s_featured_picture\"></span><span class=\"mw-headline\" id=\"Today's_featured_picture\">Today's featured picture</span></h2>\n",
      "<h2 class=\"mp-h2\" id=\"mp-other\"><span class=\"mw-headline\" id=\"Other_areas_of_Wikipedia\">Other areas of Wikipedia</span></h2>\n",
      "<h2 class=\"mp-h2\" id=\"mp-sister\"><span id=\"Wikipedia.27s_sister_projects\"></span><span class=\"mw-headline\" id=\"Wikipedia's_sister_projects\">Wikipedia's sister projects</span></h2>\n",
      "<h2 class=\"mp-h2\" id=\"mp-lang\"><span class=\"mw-headline\" id=\"Wikipedia_languages\">Wikipedia languages</span></h2>\n",
      "<h2>Navigation menu</h2>\n",
      "<h3 aria-label=\"\" class=\"vector-menu-heading\" id=\"p-personal-label\">\n",
      "<span>Personal tools</span>\n",
      "</h3>\n",
      "<h3 aria-label=\"\" class=\"vector-menu-heading\" id=\"p-namespaces-label\">\n",
      "<span>Namespaces</span>\n",
      "</h3>\n",
      "<h3 aria-label=\"Change language variant\" class=\"vector-menu-heading\" id=\"p-variants-label\">\n",
      "<span>Variants</span>\n",
      "<span class=\"vector-menu-checkbox-expanded\">expanded</span>\n",
      "<span class=\"vector-menu-checkbox-collapsed\">collapsed</span>\n",
      "</h3>\n",
      "<h3 aria-label=\"\" class=\"vector-menu-heading\" id=\"p-views-label\">\n",
      "<span>Views</span>\n",
      "</h3>\n",
      "<h3 aria-label=\"\" class=\"vector-menu-heading\" id=\"p-cactions-label\">\n",
      "<span>More</span>\n",
      "<span class=\"vector-menu-checkbox-expanded\">expanded</span>\n",
      "<span class=\"vector-menu-checkbox-collapsed\">collapsed</span>\n",
      "</h3>\n",
      "<h3>\n",
      "<label for=\"searchInput\">Search</label>\n",
      "</h3>\n",
      "<h3 aria-label=\"\" class=\"vector-menu-heading\" id=\"p-navigation-label\">\n",
      "<span>Navigation</span>\n",
      "</h3>\n",
      "<h3 aria-label=\"\" class=\"vector-menu-heading\" id=\"p-interaction-label\">\n",
      "<span>Contribute</span>\n",
      "</h3>\n",
      "<h3 aria-label=\"\" class=\"vector-menu-heading\" id=\"p-tb-label\">\n",
      "<span>Tools</span>\n",
      "</h3>\n",
      "<h3 aria-label=\"\" class=\"vector-menu-heading\" id=\"p-coll-print_export-label\">\n",
      "<span>Print/export</span>\n",
      "</h3>\n",
      "<h3 aria-label=\"\" class=\"vector-menu-heading\" id=\"p-wikibase-otherprojects-label\">\n",
      "<span>In other projects</span>\n",
      "</h3>\n",
      "<h3 aria-label=\"\" class=\"vector-menu-heading\" id=\"p-lang-label\">\n",
      "<span>Languages</span>\n",
      "</h3>\n"
     ]
    }
   ],
   "source": [
    "for i in story:\n",
    "    print(i)"
   ]
  },
  {
   "cell_type": "markdown",
   "id": "b7f6d372",
   "metadata": {},
   "source": [
    "###  2. Write a python program to display IMDB’s Top rated 100 movies’ data (i.e. Name, IMDB rating, Year of release.\n"
   ]
  },
  {
   "cell_type": "code",
   "execution_count": 8,
   "id": "2068f8cb",
   "metadata": {},
   "outputs": [],
   "source": [
    "from requests import get"
   ]
  },
  {
   "cell_type": "code",
   "execution_count": 9,
   "id": "068db365",
   "metadata": {},
   "outputs": [],
   "source": [
    "url=get(\"https://www.imdb.com/search/title/?count=100&groups=top_1000&sort=user_rating\")"
   ]
  },
  {
   "cell_type": "code",
   "execution_count": 10,
   "id": "4c4b2248",
   "metadata": {},
   "outputs": [],
   "source": [
    "request=url.text"
   ]
  },
  {
   "cell_type": "code",
   "execution_count": 11,
   "id": "e82a77f6",
   "metadata": {},
   "outputs": [],
   "source": [
    "from bs4 import BeautifulSoup as Soup\n"
   ]
  },
  {
   "cell_type": "code",
   "execution_count": 12,
   "id": "0d049fc9",
   "metadata": {},
   "outputs": [],
   "source": [
    "soup_data=Soup(request,\"html.parser\")"
   ]
  },
  {
   "cell_type": "code",
   "execution_count": 13,
   "id": "e200f746",
   "metadata": {},
   "outputs": [
    {
     "data": {
      "text/plain": [
       "'IMDb \"Top 1000\"\\n(Sorted by IMDb Rating Descending) - IMDb'"
      ]
     },
     "execution_count": 13,
     "metadata": {},
     "output_type": "execute_result"
    }
   ],
   "source": [
    "soup_data.title.text"
   ]
  },
  {
   "cell_type": "code",
   "execution_count": 14,
   "id": "1f3d37c1",
   "metadata": {},
   "outputs": [],
   "source": [
    "movies=soup_data.findAll('div',{'class':\"lister-item mode-advanced\"})"
   ]
  },
  {
   "cell_type": "code",
   "execution_count": 15,
   "id": "a60da29c",
   "metadata": {},
   "outputs": [],
   "source": [
    "first_movies=movies[0]"
   ]
  },
  {
   "cell_type": "code",
   "execution_count": 16,
   "id": "eabc22b0",
   "metadata": {},
   "outputs": [
    {
     "data": {
      "text/plain": [
       "'The Shawshank Redemption'"
      ]
     },
     "execution_count": 16,
     "metadata": {},
     "output_type": "execute_result"
    }
   ],
   "source": [
    "first_movies.h3.a.text"
   ]
  },
  {
   "cell_type": "code",
   "execution_count": 17,
   "id": "cccbdb45",
   "metadata": {},
   "outputs": [
    {
     "data": {
      "text/plain": [
       "'1994'"
      ]
     },
     "execution_count": 17,
     "metadata": {},
     "output_type": "execute_result"
    }
   ],
   "source": [
    "first_movies.find('span',{'class':\"lister-item-year text-muted unbold\"}).text[1:5]"
   ]
  },
  {
   "cell_type": "code",
   "execution_count": 18,
   "id": "14584d9d",
   "metadata": {},
   "outputs": [
    {
     "data": {
      "text/plain": [
       "'9.3'"
      ]
     },
     "execution_count": 18,
     "metadata": {},
     "output_type": "execute_result"
    }
   ],
   "source": [
    "first_movies.find('div',{'class':\"inline-block ratings-imdb-rating\"})['data-value']"
   ]
  },
  {
   "cell_type": "code",
   "execution_count": 19,
   "id": "cd569f81",
   "metadata": {},
   "outputs": [],
   "source": [
    "Name=[]\n",
    "Rating=[]\n",
    "Year=[]\n",
    "for i in movies:\n",
    "    Name.append(i.h3.a.text)\n",
    "    Rating.append(i.find('span',{\"class\":\"lister-item-year text-muted unbold\"}).text[1:5])\n",
    "    Year.append(i.find('div',{\"class\":\"inline-block ratings-imdb-rating\"})['data-value'])"
   ]
  },
  {
   "cell_type": "code",
   "execution_count": 20,
   "id": "71e6a341",
   "metadata": {},
   "outputs": [
    {
     "data": {
      "text/plain": [
       "['The Shawshank Redemption',\n",
       " 'The Godfather',\n",
       " 'Soorarai Pottru',\n",
       " 'The Dark Knight',\n",
       " 'The Godfather: Part II',\n",
       " '12 Angry Men',\n",
       " 'The Lord of the Rings: The Return of the King',\n",
       " 'Pulp Fiction',\n",
       " \"Schindler's List\",\n",
       " 'Inception',\n",
       " 'Dara iz Jasenovca',\n",
       " 'Fight Club',\n",
       " 'The Lord of the Rings: The Fellowship of the Ring',\n",
       " 'Forrest Gump',\n",
       " 'Il buono, il brutto, il cattivo',\n",
       " 'Shershaah',\n",
       " 'The Lord of the Rings: The Two Towers',\n",
       " 'The Matrix',\n",
       " 'Goodfellas',\n",
       " 'Star Wars: Episode V - The Empire Strikes Back',\n",
       " \"One Flew Over the Cuckoo's Nest\",\n",
       " 'Gisaengchung',\n",
       " 'Drishyam 2',\n",
       " 'Interstellar',\n",
       " 'Cidade de Deus',\n",
       " 'Sen to Chihiro no kamikakushi',\n",
       " 'Saving Private Ryan',\n",
       " 'The Green Mile',\n",
       " 'La vita è bella',\n",
       " 'Se7en',\n",
       " 'The Silence of the Lambs',\n",
       " 'Star Wars',\n",
       " 'Seppuku',\n",
       " 'Shichinin no samurai',\n",
       " \"It's a Wonderful Life\",\n",
       " 'Whiplash',\n",
       " 'The Intouchables',\n",
       " 'The Prestige',\n",
       " 'The Departed',\n",
       " 'The Pianist',\n",
       " 'Gladiator',\n",
       " 'American History X',\n",
       " 'The Usual Suspects',\n",
       " 'Léon',\n",
       " 'The Lion King',\n",
       " 'Terminator 2: Judgment Day',\n",
       " 'Nuovo Cinema Paradiso',\n",
       " 'Hotaru no haka',\n",
       " 'Back to the Future',\n",
       " 'Once Upon a Time in the West',\n",
       " 'Psycho',\n",
       " 'Pather Panchali',\n",
       " 'Rear Window',\n",
       " 'Casablanca',\n",
       " 'Modern Times',\n",
       " 'City Lights',\n",
       " 'Hamilton',\n",
       " 'Capharnaüm',\n",
       " 'Joker',\n",
       " 'Ratsasan',\n",
       " 'Ayla: The Daughter of War',\n",
       " 'Kimi no na wa.',\n",
       " 'Dangal',\n",
       " 'Spider-Man: Into the Spider-Verse',\n",
       " 'Avengers: Endgame',\n",
       " 'Avengers: Infinity War',\n",
       " 'Coco',\n",
       " 'Django Unchained',\n",
       " 'The Dark Knight Rises',\n",
       " '3 Idiots',\n",
       " 'Dune',\n",
       " 'Taare Zameen Par',\n",
       " 'WALL·E',\n",
       " 'The Lives of Others',\n",
       " 'Oldeuboi',\n",
       " 'Memento',\n",
       " 'Mononoke-hime',\n",
       " 'Raiders of the Lost Ark',\n",
       " 'The Shining',\n",
       " 'Apocalypse Now',\n",
       " 'Alien',\n",
       " 'Tengoku to jigoku',\n",
       " 'Dr. Strangelove or: How I Learned to Stop Worrying and Love the Bomb',\n",
       " 'Witness for the Prosecution',\n",
       " 'Paths of Glory',\n",
       " 'Sunset Blvd.',\n",
       " 'The Great Dictator',\n",
       " 'Chhichhore',\n",
       " '1917',\n",
       " 'Uri: The Surgical Strike',\n",
       " 'Tumbbad',\n",
       " 'K.G.F: Chapter 1',\n",
       " 'Vikram Vedha',\n",
       " 'Drishyam',\n",
       " 'Jagten',\n",
       " 'Jodaeiye Nader az Simin',\n",
       " 'Incendies',\n",
       " 'Kimetsu no Yaiba: Mugen Ressha-Hen',\n",
       " 'The Father',\n",
       " 'Inglourious Basterds']"
      ]
     },
     "execution_count": 20,
     "metadata": {},
     "output_type": "execute_result"
    }
   ],
   "source": [
    "Name"
   ]
  },
  {
   "cell_type": "code",
   "execution_count": 21,
   "id": "c3897de4",
   "metadata": {},
   "outputs": [],
   "source": [
    "data=list(zip(Name,Rating,Year))"
   ]
  },
  {
   "cell_type": "code",
   "execution_count": 22,
   "id": "482d80ac",
   "metadata": {},
   "outputs": [
    {
     "data": {
      "text/html": [
       "<div>\n",
       "<style scoped>\n",
       "    .dataframe tbody tr th:only-of-type {\n",
       "        vertical-align: middle;\n",
       "    }\n",
       "\n",
       "    .dataframe tbody tr th {\n",
       "        vertical-align: top;\n",
       "    }\n",
       "\n",
       "    .dataframe thead th {\n",
       "        text-align: right;\n",
       "    }\n",
       "</style>\n",
       "<table border=\"1\" class=\"dataframe\">\n",
       "  <thead>\n",
       "    <tr style=\"text-align: right;\">\n",
       "      <th></th>\n",
       "      <th>Name</th>\n",
       "      <th>IMDB Rating</th>\n",
       "      <th>Year of Release</th>\n",
       "    </tr>\n",
       "  </thead>\n",
       "  <tbody>\n",
       "    <tr>\n",
       "      <th>0</th>\n",
       "      <td>The Shawshank Redemption</td>\n",
       "      <td>1994</td>\n",
       "      <td>9.3</td>\n",
       "    </tr>\n",
       "    <tr>\n",
       "      <th>1</th>\n",
       "      <td>The Godfather</td>\n",
       "      <td>1972</td>\n",
       "      <td>9.2</td>\n",
       "    </tr>\n",
       "    <tr>\n",
       "      <th>2</th>\n",
       "      <td>Soorarai Pottru</td>\n",
       "      <td>2020</td>\n",
       "      <td>9.1</td>\n",
       "    </tr>\n",
       "    <tr>\n",
       "      <th>3</th>\n",
       "      <td>The Dark Knight</td>\n",
       "      <td>2008</td>\n",
       "      <td>9</td>\n",
       "    </tr>\n",
       "    <tr>\n",
       "      <th>4</th>\n",
       "      <td>The Godfather: Part II</td>\n",
       "      <td>1974</td>\n",
       "      <td>9</td>\n",
       "    </tr>\n",
       "  </tbody>\n",
       "</table>\n",
       "</div>"
      ],
      "text/plain": [
       "                       Name IMDB Rating Year of Release\n",
       "0  The Shawshank Redemption        1994             9.3\n",
       "1             The Godfather        1972             9.2\n",
       "2           Soorarai Pottru        2020             9.1\n",
       "3           The Dark Knight        2008               9\n",
       "4    The Godfather: Part II        1974               9"
      ]
     },
     "execution_count": 22,
     "metadata": {},
     "output_type": "execute_result"
    }
   ],
   "source": [
    "import pandas as pd\n",
    "df=pd.DataFrame(data,columns=['Name','IMDB Rating','Year of Release'])\n",
    "df.head()"
   ]
  },
  {
   "cell_type": "code",
   "execution_count": 23,
   "id": "a1135350",
   "metadata": {},
   "outputs": [
    {
     "data": {
      "text/plain": [
       "100"
      ]
     },
     "execution_count": 23,
     "metadata": {},
     "output_type": "execute_result"
    }
   ],
   "source": [
    "len(df)"
   ]
  },
  {
   "cell_type": "markdown",
   "id": "48af9aa4",
   "metadata": {},
   "source": [
    "### 3. Write a python program to display IMDB’s Top rated 100 Indian movies’ data (i.e. Name, IMDB rating, Year \n"
   ]
  },
  {
   "cell_type": "code",
   "execution_count": 24,
   "id": "224d7eee",
   "metadata": {},
   "outputs": [],
   "source": [
    "import pandas as pd\n",
    "from bs4 import BeautifulSoup\n",
    "import requests\n",
    "import re"
   ]
  },
  {
   "cell_type": "code",
   "execution_count": 25,
   "id": "01bd307a",
   "metadata": {},
   "outputs": [],
   "source": [
    "# Download IMDB's Top 250 Indian Movies Data\n",
    "url = 'https://www.imdb.com/india/top-rated-indian-movies/'\n",
    "response = requests.get(url)\n",
    "soup = BeautifulSoup(response.text, 'lxml')\n",
    "\n",
    "movies = soup.select('td.titleColumn')\n",
    "links = [a.attrs.get('href') for a in soup.select('td.titleColumn a')]\n",
    "\n",
    "ratings = [b.attrs.get('data-value') for b in soup.select('td.posterColumn span[name=ir]')]"
   ]
  },
  {
   "cell_type": "code",
   "execution_count": 26,
   "id": "9120c911",
   "metadata": {},
   "outputs": [],
   "source": [
    "Ranking = []\n",
    "Name = []\n",
    "Year = []\n",
    "Rating = []\n",
    "\n",
    "for index in range(0, len(movies)):\n",
    "    # Seperate movie into: 'place', 'title', 'year'\n",
    "    movie_string = movies[index].get_text()\n",
    "    movie = (' '.join(movie_string.split()).replace('.', ''))\n",
    "    movie_title = movie[len(str(index))+1:-7]\n",
    "    year = re.search('\\((.*?)\\)', movie_string).group(1)\n",
    "    place = movie[:len(str(index))-(len(movie))]\n",
    "    Ranking.append(index+1)\n",
    "    Name.append(movie_title)\n",
    "    Year.append(year)\n",
    "    Rating.append(ratings[index])"
   ]
  },
  {
   "cell_type": "code",
   "execution_count": 27,
   "id": "925add5a",
   "metadata": {},
   "outputs": [],
   "source": [
    "data = list(zip(Ranking, Name, Year, Rating))\n",
    "df = pd.DataFrame(data,columns=['Ranking', 'Name','Year','Rating'])\n",
    "df['Rating'] = df['Rating'].astype('float64')\n",
    "df['Rating'] = df['Rating'].round(decimals=1)"
   ]
  },
  {
   "cell_type": "code",
   "execution_count": 28,
   "id": "87600484",
   "metadata": {},
   "outputs": [
    {
     "data": {
      "text/html": [
       "<div>\n",
       "<style scoped>\n",
       "    .dataframe tbody tr th:only-of-type {\n",
       "        vertical-align: middle;\n",
       "    }\n",
       "\n",
       "    .dataframe tbody tr th {\n",
       "        vertical-align: top;\n",
       "    }\n",
       "\n",
       "    .dataframe thead th {\n",
       "        text-align: right;\n",
       "    }\n",
       "</style>\n",
       "<table border=\"1\" class=\"dataframe\">\n",
       "  <thead>\n",
       "    <tr style=\"text-align: right;\">\n",
       "      <th></th>\n",
       "      <th>Ranking</th>\n",
       "      <th>Name</th>\n",
       "      <th>Year</th>\n",
       "      <th>Rating</th>\n",
       "    </tr>\n",
       "  </thead>\n",
       "  <tbody>\n",
       "    <tr>\n",
       "      <th>0</th>\n",
       "      <td>1</td>\n",
       "      <td>Nayakan</td>\n",
       "      <td>1987</td>\n",
       "      <td>8.5</td>\n",
       "    </tr>\n",
       "    <tr>\n",
       "      <th>1</th>\n",
       "      <td>2</td>\n",
       "      <td>Anbe Sivam</td>\n",
       "      <td>2003</td>\n",
       "      <td>8.5</td>\n",
       "    </tr>\n",
       "    <tr>\n",
       "      <th>2</th>\n",
       "      <td>3</td>\n",
       "      <td>Pariyerum Perumal</td>\n",
       "      <td>2018</td>\n",
       "      <td>8.5</td>\n",
       "    </tr>\n",
       "    <tr>\n",
       "      <th>3</th>\n",
       "      <td>4</td>\n",
       "      <td>C/o Kancharapalem</td>\n",
       "      <td>2018</td>\n",
       "      <td>8.5</td>\n",
       "    </tr>\n",
       "    <tr>\n",
       "      <th>4</th>\n",
       "      <td>5</td>\n",
       "      <td>Golmaal</td>\n",
       "      <td>1979</td>\n",
       "      <td>8.5</td>\n",
       "    </tr>\n",
       "    <tr>\n",
       "      <th>...</th>\n",
       "      <td>...</td>\n",
       "      <td>...</td>\n",
       "      <td>...</td>\n",
       "      <td>...</td>\n",
       "    </tr>\n",
       "    <tr>\n",
       "      <th>95</th>\n",
       "      <td>96</td>\n",
       "      <td>Rang De Basanti</td>\n",
       "      <td>2006</td>\n",
       "      <td>8.1</td>\n",
       "    </tr>\n",
       "    <tr>\n",
       "      <th>96</th>\n",
       "      <td>97</td>\n",
       "      <td>OMG: Oh My God!</td>\n",
       "      <td>2012</td>\n",
       "      <td>8.1</td>\n",
       "    </tr>\n",
       "    <tr>\n",
       "      <th>97</th>\n",
       "      <td>98</td>\n",
       "      <td>Roja</td>\n",
       "      <td>1992</td>\n",
       "      <td>8.1</td>\n",
       "    </tr>\n",
       "    <tr>\n",
       "      <th>98</th>\n",
       "      <td>99</td>\n",
       "      <td>Uri: The Surgical Strike</td>\n",
       "      <td>2019</td>\n",
       "      <td>8.1</td>\n",
       "    </tr>\n",
       "    <tr>\n",
       "      <th>99</th>\n",
       "      <td>100</td>\n",
       "      <td>Lagaan: Once Upon a Time in India</td>\n",
       "      <td>2001</td>\n",
       "      <td>8.1</td>\n",
       "    </tr>\n",
       "  </tbody>\n",
       "</table>\n",
       "<p>100 rows × 4 columns</p>\n",
       "</div>"
      ],
      "text/plain": [
       "    Ranking                                Name  Year  Rating\n",
       "0         1                             Nayakan  1987     8.5\n",
       "1         2                          Anbe Sivam  2003     8.5\n",
       "2         3                   Pariyerum Perumal  2018     8.5\n",
       "3         4                   C/o Kancharapalem  2018     8.5\n",
       "4         5                             Golmaal  1979     8.5\n",
       "..      ...                                 ...   ...     ...\n",
       "95       96                     Rang De Basanti  2006     8.1\n",
       "96       97                     OMG: Oh My God!  2012     8.1\n",
       "97       98                                Roja  1992     8.1\n",
       "98       99            Uri: The Surgical Strike  2019     8.1\n",
       "99      100   Lagaan: Once Upon a Time in India  2001     8.1\n",
       "\n",
       "[100 rows x 4 columns]"
      ]
     },
     "execution_count": 28,
     "metadata": {},
     "output_type": "execute_result"
    }
   ],
   "source": [
    "# Top 100 indiab movies\n",
    "df[:100]"
   ]
  },
  {
   "cell_type": "code",
   "execution_count": 29,
   "id": "34d8cd80",
   "metadata": {},
   "outputs": [],
   "source": [
    "# Save 100 records to a csv file\n",
    "# df[:100].to_csv('top_100_indian_movies.csv', header=True, index=False)"
   ]
  },
  {
   "cell_type": "markdown",
   "id": "2d7bd7ee",
   "metadata": {},
   "source": [
    "### 4. Write a python program to scrap book name, author name, genre and book review of any 5 books from\n"
   ]
  },
  {
   "cell_type": "code",
   "execution_count": 30,
   "id": "8b86c8c4",
   "metadata": {},
   "outputs": [],
   "source": [
    "from requests import get"
   ]
  },
  {
   "cell_type": "code",
   "execution_count": 31,
   "id": "079228d9",
   "metadata": {},
   "outputs": [],
   "source": [
    "url=get(\"https://bookpage.com/reviews\")"
   ]
  },
  {
   "cell_type": "code",
   "execution_count": 32,
   "id": "603d7ef2",
   "metadata": {},
   "outputs": [],
   "source": [
    "request=url.text"
   ]
  },
  {
   "cell_type": "code",
   "execution_count": 33,
   "id": "0775f7da",
   "metadata": {},
   "outputs": [],
   "source": [
    "from bs4 import BeautifulSoup as Soup"
   ]
  },
  {
   "cell_type": "code",
   "execution_count": 34,
   "id": "891831b8",
   "metadata": {},
   "outputs": [],
   "source": [
    "soup_book=Soup(request,'html.parser')"
   ]
  },
  {
   "cell_type": "code",
   "execution_count": 35,
   "id": "4a8d8cd7",
   "metadata": {},
   "outputs": [
    {
     "data": {
      "text/plain": [
       "'Book Reviews | BookPage'"
      ]
     },
     "execution_count": 35,
     "metadata": {},
     "output_type": "execute_result"
    }
   ],
   "source": [
    "soup_book.title.text"
   ]
  },
  {
   "cell_type": "code",
   "execution_count": 36,
   "id": "6093506a",
   "metadata": {},
   "outputs": [],
   "source": [
    "book=soup_book.findAll(\"div\",{\"class\":\"bp-block article-info\"})"
   ]
  },
  {
   "cell_type": "code",
   "execution_count": 37,
   "id": "875071a0",
   "metadata": {},
   "outputs": [],
   "source": [
    "first_book=book[0]"
   ]
  },
  {
   "cell_type": "code",
   "execution_count": 38,
   "id": "06b468e2",
   "metadata": {},
   "outputs": [
    {
     "data": {
      "text/plain": [
       "'★ The Every'"
      ]
     },
     "execution_count": 38,
     "metadata": {},
     "output_type": "execute_result"
    }
   ],
   "source": [
    "first_book.find(\"h4\",{\"class\":\"italic\"}).text.replace(\"\\n\",\"\").strip() #name"
   ]
  },
  {
   "cell_type": "code",
   "execution_count": 39,
   "id": "721482f3",
   "metadata": {},
   "outputs": [
    {
     "data": {
      "text/plain": [
       "'Dave Eggers'"
      ]
     },
     "execution_count": 39,
     "metadata": {},
     "output_type": "execute_result"
    }
   ],
   "source": [
    "first_book.find(\"p\",{\"class\":\"sans bold\"}).text.strip()    #author name"
   ]
  },
  {
   "cell_type": "code",
   "execution_count": 40,
   "id": "bc3b66af",
   "metadata": {},
   "outputs": [
    {
     "data": {
      "text/plain": [
       "'Fiction / Satire'"
      ]
     },
     "execution_count": 40,
     "metadata": {},
     "output_type": "execute_result"
    }
   ],
   "source": [
    "first_book.find('p',{\"class\":\"genre-links hidden-phone\"}).text.replace(\"\\n\",\"\")             #genre"
   ]
  },
  {
   "cell_type": "code",
   "execution_count": 41,
   "id": "da95c27a",
   "metadata": {},
   "outputs": [
    {
     "data": {
      "text/plain": [
       "'Unplug your Alexa and toss your Apple Watch. The Every, a companion book to The Circle, will likely scare the bejesus out of you.'"
      ]
     },
     "execution_count": 41,
     "metadata": {},
     "output_type": "execute_result"
    }
   ],
   "source": [
    "first_book.find(\"p\",{\"class\":\"excerpt\"}).text.strip()                           #review"
   ]
  },
  {
   "cell_type": "code",
   "execution_count": 42,
   "id": "f155fdaf",
   "metadata": {},
   "outputs": [],
   "source": [
    "name=[]\n",
    "author=[]\n",
    "genre=[]\n",
    "review=[]\n",
    "for i in book:\n",
    "    name.append(i.find(\"h4\",{\"class\":\"italic\"}))   #name \n",
    "    author.append(i.find(\"p\",{\"class\":\"sans bold\"}).text.strip())    #author name\n",
    "    genre.append(i.find('p',{\"class\":\"genre-links hidden-phone\"}).text.replace(\"\\n\",\"\") ) #genre\n",
    "    review.append(i.find(\"p\",{\"class\":\"excerpt\"}).text)                         #review"
   ]
  },
  {
   "cell_type": "code",
   "execution_count": 43,
   "id": "aa369131",
   "metadata": {},
   "outputs": [],
   "source": [
    "data=list(zip(name,author,genre,review))"
   ]
  },
  {
   "cell_type": "code",
   "execution_count": 44,
   "id": "b6206cd2",
   "metadata": {},
   "outputs": [
    {
     "data": {
      "text/html": [
       "<div>\n",
       "<style scoped>\n",
       "    .dataframe tbody tr th:only-of-type {\n",
       "        vertical-align: middle;\n",
       "    }\n",
       "\n",
       "    .dataframe tbody tr th {\n",
       "        vertical-align: top;\n",
       "    }\n",
       "\n",
       "    .dataframe thead th {\n",
       "        text-align: right;\n",
       "    }\n",
       "</style>\n",
       "<table border=\"1\" class=\"dataframe\">\n",
       "  <thead>\n",
       "    <tr style=\"text-align: right;\">\n",
       "      <th></th>\n",
       "      <th>Book Name</th>\n",
       "      <th>Author Name</th>\n",
       "      <th>Genre</th>\n",
       "      <th>Book Review</th>\n",
       "    </tr>\n",
       "  </thead>\n",
       "  <tbody>\n",
       "    <tr>\n",
       "      <th>0</th>\n",
       "      <td>[\\n, [ , [★ ], The Every], \\n]</td>\n",
       "      <td>Dave Eggers</td>\n",
       "      <td>Fiction / Satire</td>\n",
       "      <td>\\nUnplug your Alexa and toss your Apple Watch....</td>\n",
       "    </tr>\n",
       "    <tr>\n",
       "      <th>1</th>\n",
       "      <td>[\\n, [ , [★ ], We Are Not Like Them], \\n]</td>\n",
       "      <td>Christine Pride, Jo Piazza</td>\n",
       "      <td>Fiction / Literary Fiction</td>\n",
       "      <td>\\nHopelessness is certainly a theme in We Are ...</td>\n",
       "    </tr>\n",
       "    <tr>\n",
       "      <th>2</th>\n",
       "      <td>[\\n, [ , [★ ], The Lincoln Highway], \\n]</td>\n",
       "      <td>Amor Towles</td>\n",
       "      <td>Fiction / Historical Fiction</td>\n",
       "      <td>\\nThe pages of Amor Towles’ novel are destined...</td>\n",
       "    </tr>\n",
       "    <tr>\n",
       "      <th>3</th>\n",
       "      <td>[\\n, [ , [★ ], Light From Uncommon Stars], \\n]</td>\n",
       "      <td>Ryka Aoki</td>\n",
       "      <td>Science Fiction &amp; Fantasy / Science Fiction</td>\n",
       "      <td>\\nIn addition to the novel’s all-the-feels poi...</td>\n",
       "    </tr>\n",
       "    <tr>\n",
       "      <th>4</th>\n",
       "      <td>[\\n, [Chasing Ghosts], \\n]</td>\n",
       "      <td>Marc Hartzman</td>\n",
       "      <td>Nonfiction / History / Spirituality</td>\n",
       "      <td>\\nMarc Hartzman gives a lighthearted account o...</td>\n",
       "    </tr>\n",
       "  </tbody>\n",
       "</table>\n",
       "</div>"
      ],
      "text/plain": [
       "                                        Book Name                 Author Name  \\\n",
       "0                  [\\n, [ , [★ ], The Every], \\n]                 Dave Eggers   \n",
       "1       [\\n, [ , [★ ], We Are Not Like Them], \\n]  Christine Pride, Jo Piazza   \n",
       "2        [\\n, [ , [★ ], The Lincoln Highway], \\n]                 Amor Towles   \n",
       "3  [\\n, [ , [★ ], Light From Uncommon Stars], \\n]                   Ryka Aoki   \n",
       "4                      [\\n, [Chasing Ghosts], \\n]               Marc Hartzman   \n",
       "\n",
       "                                         Genre  \\\n",
       "0                             Fiction / Satire   \n",
       "1                   Fiction / Literary Fiction   \n",
       "2                 Fiction / Historical Fiction   \n",
       "3  Science Fiction & Fantasy / Science Fiction   \n",
       "4          Nonfiction / History / Spirituality   \n",
       "\n",
       "                                         Book Review  \n",
       "0  \\nUnplug your Alexa and toss your Apple Watch....  \n",
       "1  \\nHopelessness is certainly a theme in We Are ...  \n",
       "2  \\nThe pages of Amor Towles’ novel are destined...  \n",
       "3  \\nIn addition to the novel’s all-the-feels poi...  \n",
       "4  \\nMarc Hartzman gives a lighthearted account o...  "
      ]
     },
     "execution_count": 44,
     "metadata": {},
     "output_type": "execute_result"
    }
   ],
   "source": [
    "import pandas as pd\n",
    "df=pd.DataFrame(data,columns=[\"Book Name\",\"Author Name\",\"Genre\",\"Book Review\"])\n",
    "df.head()"
   ]
  },
  {
   "cell_type": "code",
   "execution_count": null,
   "id": "32f4333e",
   "metadata": {},
   "outputs": [],
   "source": []
  },
  {
   "cell_type": "code",
   "execution_count": null,
   "id": "21027a59",
   "metadata": {},
   "outputs": [],
   "source": []
  }
 ],
 "metadata": {
  "kernelspec": {
   "display_name": "Python 3",
   "language": "python",
   "name": "python3"
  },
  "language_info": {
   "codemirror_mode": {
    "name": "ipython",
    "version": 3
   },
   "file_extension": ".py",
   "mimetype": "text/x-python",
   "name": "python",
   "nbconvert_exporter": "python",
   "pygments_lexer": "ipython3",
   "version": "3.8.8"
  }
 },
 "nbformat": 4,
 "nbformat_minor": 5
}
