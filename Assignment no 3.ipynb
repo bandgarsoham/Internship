{
 "cells": [
  {
   "cell_type": "markdown",
   "id": "261422f6",
   "metadata": {},
   "source": [
    "### WEB SCRAPING ASSIGNMENT 3"
   ]
  },
  {
   "cell_type": "markdown",
   "id": "148aa625",
   "metadata": {},
   "source": [
    "1. Write a python program which searches all the product under a particular product vertical\n",
    "from www.amazon.in. The product verticals to be searched will be taken as input from user.\n",
    "For e.g. If user input is ‘guitar’.Then search for guitars."
   ]
  },
  {
   "cell_type": "code",
   "execution_count": 1,
   "id": "70cfaebd",
   "metadata": {},
   "outputs": [],
   "source": [
    "import pandas as pd\n",
    "import selenium\n",
    "from selenium import webdriver\n",
    "from selenium.webdriver.common.by import By\n",
    "import time"
   ]
  },
  {
   "cell_type": "code",
   "execution_count": 2,
   "id": "d1423a90",
   "metadata": {},
   "outputs": [],
   "source": [
    "# path for chromedriver\n",
    "driver=webdriver.Chrome(r\"C:\\Program Files\\chromedriver.exe\")"
   ]
  },
  {
   "cell_type": "code",
   "execution_count": 3,
   "id": "484551b7",
   "metadata": {},
   "outputs": [],
   "source": [
    "driver=webdriver.Chrome(\"chromedriver.exe\")"
   ]
  },
  {
   "cell_type": "code",
   "execution_count": 4,
   "id": "e39eb65b",
   "metadata": {},
   "outputs": [
    {
     "name": "stdout",
     "output_type": "stream",
     "text": [
      "Current page:  Online Shopping site in India: Shop Online for Mobiles, Books, Watches, Shoes and More - Amazon.in\n"
     ]
    }
   ],
   "source": [
    "# enter keyword to search (URL)\n",
    "driver.get(\"https://www.amazon.in/\")\n",
    "\n",
    "time.sleep(3)\n",
    "# checking current window title\n",
    "print('Current page: ',driver.title)"
   ]
  },
  {
   "cell_type": "raw",
   "id": "df2ea082",
   "metadata": {},
   "source": [
    "# close popup\n",
    "driver.find_element(By.XPATH,\"//button[@class='_2KpZ6l _2doB4z']\").click()\n",
    "time.sleep(1)"
   ]
  },
  {
   "cell_type": "raw",
   "id": "dda0890d",
   "metadata": {},
   "source": [
    "# closing the 3 popup windows\n",
    "for _ in range(1):\n",
    "    driver.switch_to.window(driver.window_handles[-1])\n",
    "    time.sleep(1)\n",
    "    driver.close()\n",
    "driver.switch_to.window(driver.window_handles[-1])\n",
    "\n",
    "time.sleep(1)"
   ]
  },
  {
   "cell_type": "code",
   "execution_count": 5,
   "id": "7ed5f313",
   "metadata": {},
   "outputs": [],
   "source": [
    "# search box\n",
    "search_box = driver.find_element(By.XPATH,\"//input[@type='text']\")\n",
    "search_box.send_keys('guitars')\n",
    "time.sleep(1)\n",
    "\n",
    "# Search button\n",
    "search_button = driver.find_element(By.XPATH,\"//input[@id='nav-search-submit-button']\").click()\n",
    "time.sleep(2)"
   ]
  },
  {
   "cell_type": "markdown",
   "id": "c7050195",
   "metadata": {},
   "source": [
    "Q.2 In the above question, now scrape the following details of each product listed in first 3 pages \n",
    "of your search results and save it in a data frame and csv. In case if any product vertical has \n",
    "less than 3 pages in search results then scrape all the products available under that product \n",
    "vertical. Details to be scraped are: \"Brand Name\", \"Name of the Product\", \"Rating\", \"No. of \n",
    "Ratings\", \"Price\", \"Return/Exchange\", \"Expected Delivery\", \"Availability\", \"Other Details\" \n",
    "and “Product URL”. In case, if any of the details are missing for any of the product then \n",
    "replace it by “-“"
   ]
  },
  {
   "cell_type": "code",
   "execution_count": 9,
   "id": "10d65692",
   "metadata": {},
   "outputs": [
    {
     "data": {
      "text/plain": [
       "['GUITAR BRO - COMBO (Black Acoustic Guitar for Beginner, Guitar Learning Kit, Song Book, Video Lectures, Accessories like Pick, Bag)',\n",
       " 'Jasmine S35 Dreadnought Rosewood Acoustic Guitar - Natural',\n",
       " 'Jasmine S-34C Cutaway Rosewoood Acoustic Guitar - Natural',\n",
       " \"Crizer 4 String Guitar Children's Musical Instrument Educational Toy Guitar Ukulele Instruments Beginner Musical Sound Toys Best Gift for Children\",\n",
       " 'Juârez Acoustic Guitar, 38 Inch Cutaway, 038C with Bag, Strings, Pick and Strap, Black',\n",
       " 'Juarez Acoustic Guitar Kit, 38 Inch Cutaway, 38C with Bag, Strings, Pick and Strap, TBS Transparent Blue Sunburst']"
      ]
     },
     "execution_count": 9,
     "metadata": {},
     "output_type": "execute_result"
    }
   ],
   "source": [
    "brand_tag= driver.find_elements_by_xpath(\"//span[@class='a-size-base a-color-base a-text-normal']\")\n",
    "brand=[]\n",
    "for i in brand_tag:\n",
    "    brand.append(i.text.strip())\n",
    "brand[:6]"
   ]
  },
  {
   "cell_type": "code",
   "execution_count": 14,
   "id": "d5bb9f9f",
   "metadata": {},
   "outputs": [
    {
     "data": {
      "text/plain": [
       "['28', '90', '13,320', '4,484', '1,193', '727']"
      ]
     },
     "execution_count": 14,
     "metadata": {},
     "output_type": "execute_result"
    }
   ],
   "source": [
    "rating_tag= driver.find_elements_by_xpath('//span[@class=\"a-size-base\"]')\n",
    "rating=[]\n",
    "for i in rating_tag:\n",
    "    rating.append(i.text)\n",
    "rating[:6]"
   ]
  },
  {
   "cell_type": "code",
   "execution_count": 16,
   "id": "d9d7179a",
   "metadata": {},
   "outputs": [
    {
     "data": {
      "text/plain": [
       "['6,499', '12,825', '14,725', '1,099', '1,999', '1,999']"
      ]
     },
     "execution_count": 16,
     "metadata": {},
     "output_type": "execute_result"
    }
   ],
   "source": [
    "price_tag= driver.find_elements_by_xpath('//span[@class=\"a-price-whole\"]')\n",
    "price=[]\n",
    "for i in price_tag:\n",
    "    price.append(i.text)\n",
    "price[:6]"
   ]
  },
  {
   "cell_type": "code",
   "execution_count": 18,
   "id": "fdc51630",
   "metadata": {},
   "outputs": [
    {
     "data": {
      "text/plain": [
       "['Get it by Friday, October 29',\n",
       " 'Get it by Friday, October 29',\n",
       " 'Get it by Tomorrow, October 24',\n",
       " 'Get it by Tomorrow, October 24',\n",
       " 'Get it by Monday, October 25',\n",
       " 'Get it by Thursday, October 28']"
      ]
     },
     "execution_count": 18,
     "metadata": {},
     "output_type": "execute_result"
    }
   ],
   "source": [
    "delivery_tag= driver.find_elements_by_xpath('//div[@class=\"a-row s-align-children-center\"]')\n",
    "delivery=[]\n",
    "for i in delivery_tag:\n",
    "    delivery.append(i.text)\n",
    "delivery[:6]"
   ]
  },
  {
   "cell_type": "code",
   "execution_count": 21,
   "id": "cfc49163",
   "metadata": {},
   "outputs": [],
   "source": [
    " guitars = driver.find_elements(By.XPATH,\"//li[@class='a-normal']//li[@class='a-normal']\")"
   ]
  },
  {
   "cell_type": "code",
   "execution_count": 26,
   "id": "2dc7957b",
   "metadata": {},
   "outputs": [
    {
     "name": "stdout",
     "output_type": "stream",
     "text": [
      "44 44 65 68\n"
     ]
    }
   ],
   "source": [
    "print(len(price),len(delivery),len(brand),len(rating))"
   ]
  },
  {
   "cell_type": "code",
   "execution_count": 27,
   "id": "ddd3daef",
   "metadata": {},
   "outputs": [],
   "source": [
    "import pandas as pd\n",
    "df=pd.DataFrame({})\n",
    "df['Brand Name']=brand[:44]\n",
    "df['Price']=price[:44]\n",
    "df['Expected Delivery']=delivery[:44]\n",
    "df['No.of Rating']=rating[:44]"
   ]
  },
  {
   "cell_type": "code",
   "execution_count": 28,
   "id": "f6fea49e",
   "metadata": {},
   "outputs": [
    {
     "data": {
      "text/html": [
       "<div>\n",
       "<style scoped>\n",
       "    .dataframe tbody tr th:only-of-type {\n",
       "        vertical-align: middle;\n",
       "    }\n",
       "\n",
       "    .dataframe tbody tr th {\n",
       "        vertical-align: top;\n",
       "    }\n",
       "\n",
       "    .dataframe thead th {\n",
       "        text-align: right;\n",
       "    }\n",
       "</style>\n",
       "<table border=\"1\" class=\"dataframe\">\n",
       "  <thead>\n",
       "    <tr style=\"text-align: right;\">\n",
       "      <th></th>\n",
       "      <th>Brand Name</th>\n",
       "      <th>Price</th>\n",
       "      <th>Expected Delivery</th>\n",
       "      <th>No.of Rating</th>\n",
       "    </tr>\n",
       "  </thead>\n",
       "  <tbody>\n",
       "    <tr>\n",
       "      <th>0</th>\n",
       "      <td>GUITAR BRO - COMBO (Black Acoustic Guitar for ...</td>\n",
       "      <td>Get it by Friday, October 29</td>\n",
       "      <td>Get it by Friday, October 29</td>\n",
       "      <td>6,499</td>\n",
       "    </tr>\n",
       "    <tr>\n",
       "      <th>1</th>\n",
       "      <td>Jasmine S35 Dreadnought Rosewood Acoustic Guit...</td>\n",
       "      <td>Get it by Friday, October 29</td>\n",
       "      <td>Get it by Friday, October 29</td>\n",
       "      <td>12,825</td>\n",
       "    </tr>\n",
       "    <tr>\n",
       "      <th>2</th>\n",
       "      <td>Jasmine S-34C Cutaway Rosewoood Acoustic Guita...</td>\n",
       "      <td>Get it by Tomorrow, October 24</td>\n",
       "      <td>Get it by Tomorrow, October 24</td>\n",
       "      <td>14,725</td>\n",
       "    </tr>\n",
       "    <tr>\n",
       "      <th>3</th>\n",
       "      <td>Crizer 4 String Guitar Children's Musical Inst...</td>\n",
       "      <td>Get it by Tomorrow, October 24</td>\n",
       "      <td>Get it by Tomorrow, October 24</td>\n",
       "      <td>1,099</td>\n",
       "    </tr>\n",
       "    <tr>\n",
       "      <th>4</th>\n",
       "      <td>Juârez Acoustic Guitar, 38 Inch Cutaway, 038C ...</td>\n",
       "      <td>Get it by Monday, October 25</td>\n",
       "      <td>Get it by Monday, October 25</td>\n",
       "      <td>1,999</td>\n",
       "    </tr>\n",
       "  </tbody>\n",
       "</table>\n",
       "</div>"
      ],
      "text/plain": [
       "                                          Brand Name  \\\n",
       "0  GUITAR BRO - COMBO (Black Acoustic Guitar for ...   \n",
       "1  Jasmine S35 Dreadnought Rosewood Acoustic Guit...   \n",
       "2  Jasmine S-34C Cutaway Rosewoood Acoustic Guita...   \n",
       "3  Crizer 4 String Guitar Children's Musical Inst...   \n",
       "4  Juârez Acoustic Guitar, 38 Inch Cutaway, 038C ...   \n",
       "\n",
       "                            Price               Expected Delivery No.of Rating  \n",
       "0    Get it by Friday, October 29    Get it by Friday, October 29        6,499  \n",
       "1    Get it by Friday, October 29    Get it by Friday, October 29       12,825  \n",
       "2  Get it by Tomorrow, October 24  Get it by Tomorrow, October 24       14,725  \n",
       "3  Get it by Tomorrow, October 24  Get it by Tomorrow, October 24        1,099  \n",
       "4    Get it by Monday, October 25    Get it by Monday, October 25        1,999  "
      ]
     },
     "execution_count": 28,
     "metadata": {},
     "output_type": "execute_result"
    }
   ],
   "source": [
    "df.head()"
   ]
  },
  {
   "cell_type": "code",
   "execution_count": 29,
   "id": "6b81ef09",
   "metadata": {},
   "outputs": [],
   "source": [
    "driver.quit()"
   ]
  },
  {
   "cell_type": "markdown",
   "id": "fc966e26",
   "metadata": {},
   "source": [
    "###  Q.3 Write a python program to access the search bar and search button on images.google.com and \n",
    "### scrape 100 images each for keywords ‘fruits’, ‘cars’ and ‘Machine Learning’.\n"
   ]
  },
  {
   "cell_type": "raw",
   "id": "d774da3d",
   "metadata": {},
   "source": [
    "import time\n",
    "import pandas as pd\n",
    "from selenium import webdriver \n",
    "from selenium.webdriver.common.action_chains import ActionChains \n",
    "from selenium.webdriver.common.by import By\n",
    "from bs4 import BeautifulSoup\n",
    "\n",
    "# path for chromedriver\n",
    "driver=webdriver.Chrome(r\"C:\\Program Files\\chromedriver.exe\")\n",
    "driver=webdriver.Chrome('chromedriver.exe')\n",
    "\n",
    "\n",
    "# enter keyword to search (URL)\n",
    "keyword = \"https://images.google.com/\"\n",
    "driver.get(keyword)\n",
    "\n",
    "time.sleep(4)\n",
    "# checking current window title\n",
    "print('Current page: ',driver.title)"
   ]
  },
  {
   "cell_type": "raw",
   "id": "772ae509",
   "metadata": {},
   "source": [
    "import requests\n",
    "from bs4 import BeautifulSoup as Soup"
   ]
  },
  {
   "cell_type": "raw",
   "id": "d8f3656e",
   "metadata": {},
   "source": [
    "page=requests.get(\"https://images.google.com/\")\n",
    "page.content\n",
    "driver=BeautifulSoup(page.content)"
   ]
  },
  {
   "cell_type": "raw",
   "id": "b44c8d91",
   "metadata": {},
   "source": [
    "# search box\n",
    "search_box = driver.find_element(By.XPATH,\"//input[@class='gLFyf gsfi']\")\n",
    "search_box.send_keys('fruits')\n",
    "time.sleep(2)\n",
    "\n",
    "# Search button\n",
    "search_button = driver.find_element(By.XPATH,\"//span[@class='z1asCe MZy1Rb']\").click()\n",
    "time.sleep(5)"
   ]
  },
  {
   "cell_type": "raw",
   "id": "54fab016",
   "metadata": {},
   "source": [
    "image=driver.findAll('div',{'class':\"rg_i Q4LuWd\"})"
   ]
  },
  {
   "cell_type": "raw",
   "id": "f8bff0d4",
   "metadata": {},
   "source": [
    "img_tag=driver.find_elements_by_xpath('//img[@class=\"rg_i Q4LuWd\"]')\n",
    "image=[]\n",
    "for i in img_tag:\n",
    "    image.append(i.text)\n",
    "image"
   ]
  },
  {
   "cell_type": "markdown",
   "id": "ccca4069",
   "metadata": {},
   "source": [
    "Q.4 Write a python program to search for a smartphone(e.g.: Oneplus Nord, pixel 4A, etc.) on \n",
    "www.flipkart.com and scrape following details for all the search results displayed on 1st page. \n",
    "Details to be scraped: “Brand Name”, “Smartphone name”, “Colour”, “RAM”, \n",
    "“Storage(ROM)”, “Primary Camera”, “Secondary Camera”, “Display Size”, “Display \n",
    "Resolution”, “Processor”, “Processor Cores”, “Battery Capacity”, “Price”, “Product URL”. \n",
    "Incase if any of the details is missing then replace it by “- “. Save your results in a dataframe \n",
    "and CSV."
   ]
  },
  {
   "cell_type": "code",
   "execution_count": 17,
   "id": "107c75ef",
   "metadata": {},
   "outputs": [
    {
     "name": "stdout",
     "output_type": "stream",
     "text": [
      "Current page:  Online Shopping Site for Mobiles, Electronics, Furniture, Grocery, Lifestyle, Books & More. Best Offers!\n"
     ]
    }
   ],
   "source": [
    "import time\n",
    "import pandas as pd\n",
    "from selenium import webdriver \n",
    "from selenium.webdriver.common.action_chains import ActionChains \n",
    "from selenium.webdriver.common.by import By\n",
    "from bs4 import BeautifulSoup\n",
    "\n",
    "# path for chromedriver\n",
    "driver=webdriver.Chrome(r\"C:\\Program Files\\chromedriver.exe\")\n",
    "driver=webdriver.Chrome('chromedriver.exe')\n",
    "\n",
    "\n",
    "# enter keyword to search (URL)\n",
    "keyword = \"https://www.flipkart.com/\"\n",
    "driver.get(keyword)\n",
    "\n",
    "time.sleep(2)\n",
    "# checking current window title\n",
    "print('Current page: ',driver.title)"
   ]
  },
  {
   "cell_type": "code",
   "execution_count": null,
   "id": "dcb7771e",
   "metadata": {},
   "outputs": [],
   "source": [
    "# close popup\n",
    "driver.find_element(By.XPATH,\"//button[@class='_2KpZ6l _2doB4z']\").click()\n",
    "time.sleep(1)"
   ]
  },
  {
   "cell_type": "code",
   "execution_count": 18,
   "id": "11af5e4c",
   "metadata": {},
   "outputs": [],
   "source": [
    "# search box\n",
    "search_box = driver.find_element(By.XPATH,\"//input[@class='_3704LK']\")\n",
    "search_box.send_keys('Oneplus Nord, pixel 4A')\n",
    "time.sleep(2)\n",
    "\n",
    "# Search button\n",
    "search_button = driver.find_element(By.XPATH,\"//button[@class='L0Z3Pu']\").click()\n",
    "time.sleep(5)"
   ]
  },
  {
   "cell_type": "code",
   "execution_count": 23,
   "id": "547fe1f2",
   "metadata": {},
   "outputs": [
    {
     "data": {
      "text/plain": [
       "['ringme Reno Plus (Red, 16 GB)',\n",
       " 'ringme Reno Plus (Blue, 16 GB)',\n",
       " 'SAMSUNG Galaxy S10 Plus (Ceramic White, 1 TB)']"
      ]
     },
     "execution_count": 23,
     "metadata": {},
     "output_type": "execute_result"
    }
   ],
   "source": [
    "brand_tag= driver.find_elements_by_xpath('//div[@class=\"_4rR01T\"]')\n",
    "brand=[]\n",
    "for i in brand_tag:\n",
    "    brand.append(i.text.strip())\n",
    "brand[:3]"
   ]
  },
  {
   "cell_type": "code",
   "execution_count": 33,
   "id": "58174eb7",
   "metadata": {},
   "outputs": [
    {
     "data": {
      "text/plain": [
       "['2 GB RAM | 16 GB ROM\\n15.75 cm (6.2 inch) Display\\n8MP Rear Camera\\n3000 mAh Battery\\n3 Months',\n",
       " '2 GB RAM | 16 GB ROM\\n15.75 cm (6.2 inch) Display\\n8MP Rear Camera\\n3000 mAh Battery\\n3 Months',\n",
       " '12 GB RAM | 1 TB ROM | Expandable Upto 512 GB\\n16.26 cm (6.4 inch) Quad HD+ Display\\n16MP + 12MP | 10MP + 8MP Dual Front Camera\\n4100 mAh Lithium-ion Battery\\nExynos 9 9820 Processor\\nBrand Warranty of 1 Year Available for Mobile and 6 Months for Accessories']"
      ]
     },
     "execution_count": 33,
     "metadata": {},
     "output_type": "execute_result"
    }
   ],
   "source": [
    "details_tag= driver.find_elements_by_xpath('//ul[@class=\"_1xgFaf\"]')\n",
    "details=[]\n",
    "for i in details_tag:\n",
    "    details.append(i.text.strip())\n",
    "details[:3]"
   ]
  },
  {
   "cell_type": "code",
   "execution_count": 34,
   "id": "8c5a24f6",
   "metadata": {},
   "outputs": [
    {
     "data": {
      "text/plain": [
       "['₹4,799', '₹5,469', '₹1,17,990']"
      ]
     },
     "execution_count": 34,
     "metadata": {},
     "output_type": "execute_result"
    }
   ],
   "source": [
    "price_tag= driver.find_elements_by_xpath('//div[@class=\"_30jeq3 _1_WHN1\"]')\n",
    "price=[]\n",
    "for i in price_tag:\n",
    "    price.append(i.text.strip())\n",
    "price[:3]"
   ]
  },
  {
   "cell_type": "code",
   "execution_count": 35,
   "id": "dfa63e20",
   "metadata": {},
   "outputs": [
    {
     "data": {
      "text/plain": [
       "['74 Ratings & 9 Reviews', '74 Ratings & 9 Reviews', '24 Ratings & 5 Reviews']"
      ]
     },
     "execution_count": 35,
     "metadata": {},
     "output_type": "execute_result"
    }
   ],
   "source": [
    "Rating_tag= driver.find_elements_by_xpath('//span[@class=\"_2_R_DZ\"]')\n",
    "Rating=[]\n",
    "for i in Rating_tag:\n",
    "    Rating.append(i.text.strip())\n",
    "Rating[:3]"
   ]
  },
  {
   "cell_type": "code",
   "execution_count": 37,
   "id": "ed51ff69",
   "metadata": {},
   "outputs": [
    {
     "name": "stdout",
     "output_type": "stream",
     "text": [
      "13 13 13 13\n"
     ]
    }
   ],
   "source": [
    "print(len(brand),len(price),len(Rating),len(details))"
   ]
  },
  {
   "cell_type": "code",
   "execution_count": 40,
   "id": "f7fa339c",
   "metadata": {},
   "outputs": [
    {
     "data": {
      "text/html": [
       "<div>\n",
       "<style scoped>\n",
       "    .dataframe tbody tr th:only-of-type {\n",
       "        vertical-align: middle;\n",
       "    }\n",
       "\n",
       "    .dataframe tbody tr th {\n",
       "        vertical-align: top;\n",
       "    }\n",
       "\n",
       "    .dataframe thead th {\n",
       "        text-align: right;\n",
       "    }\n",
       "</style>\n",
       "<table border=\"1\" class=\"dataframe\">\n",
       "  <thead>\n",
       "    <tr style=\"text-align: right;\">\n",
       "      <th></th>\n",
       "      <th>Brand Name</th>\n",
       "      <th>Product Details</th>\n",
       "      <th>Price</th>\n",
       "      <th>NO. of Ratings</th>\n",
       "    </tr>\n",
       "  </thead>\n",
       "  <tbody>\n",
       "    <tr>\n",
       "      <th>0</th>\n",
       "      <td>₹4,799</td>\n",
       "      <td>2 GB RAM | 16 GB ROM\\n15.75 cm (6.2 inch) Disp...</td>\n",
       "      <td>₹4,799</td>\n",
       "      <td>74 Ratings &amp; 9 Reviews</td>\n",
       "    </tr>\n",
       "    <tr>\n",
       "      <th>1</th>\n",
       "      <td>₹5,469</td>\n",
       "      <td>2 GB RAM | 16 GB ROM\\n15.75 cm (6.2 inch) Disp...</td>\n",
       "      <td>₹5,469</td>\n",
       "      <td>74 Ratings &amp; 9 Reviews</td>\n",
       "    </tr>\n",
       "    <tr>\n",
       "      <th>2</th>\n",
       "      <td>₹1,17,990</td>\n",
       "      <td>12 GB RAM | 1 TB ROM | Expandable Upto 512 GB\\...</td>\n",
       "      <td>₹1,17,990</td>\n",
       "      <td>24 Ratings &amp; 5 Reviews</td>\n",
       "    </tr>\n",
       "    <tr>\n",
       "      <th>3</th>\n",
       "      <td>₹5,800</td>\n",
       "      <td>2 GB RAM | 16 GB ROM\\n12.7 cm (5 inch) Display...</td>\n",
       "      <td>₹5,800</td>\n",
       "      <td>146 Ratings &amp; 16 Reviews</td>\n",
       "    </tr>\n",
       "    <tr>\n",
       "      <th>4</th>\n",
       "      <td>₹8,999</td>\n",
       "      <td>3 GB RAM | 32 GB ROM | Expandable Upto 128 GB\\...</td>\n",
       "      <td>₹8,999</td>\n",
       "      <td>100 Ratings &amp; 22 Reviews</td>\n",
       "    </tr>\n",
       "    <tr>\n",
       "      <th>5</th>\n",
       "      <td>₹7,290</td>\n",
       "      <td>3 GB RAM | 32 GB ROM\\n12.7 cm (5 inch) HD Disp...</td>\n",
       "      <td>₹7,290</td>\n",
       "      <td>100 Ratings &amp; 22 Reviews</td>\n",
       "    </tr>\n",
       "    <tr>\n",
       "      <th>6</th>\n",
       "      <td>₹6,199</td>\n",
       "      <td>2 GB RAM | 16 GB ROM\\n12.7 cm (5 inch) Display...</td>\n",
       "      <td>₹6,199</td>\n",
       "      <td>20 Ratings &amp; 3 Reviews</td>\n",
       "    </tr>\n",
       "    <tr>\n",
       "      <th>7</th>\n",
       "      <td>₹5,509</td>\n",
       "      <td>2 GB RAM | 16 GB ROM\\n12.7 cm (5 inch) Display...</td>\n",
       "      <td>₹5,509</td>\n",
       "      <td>1 Ratings &amp; 1 Reviews</td>\n",
       "    </tr>\n",
       "    <tr>\n",
       "      <th>8</th>\n",
       "      <td>₹4,429</td>\n",
       "      <td>2 GB RAM | 16 GB ROM\\n13.97 cm (5.5 inch) Disp...</td>\n",
       "      <td>₹4,429</td>\n",
       "      <td>916 Ratings &amp; 80 Reviews</td>\n",
       "    </tr>\n",
       "    <tr>\n",
       "      <th>9</th>\n",
       "      <td>₹2,750</td>\n",
       "      <td>1 GB RAM | 8 GB ROM\\n10.16 cm (4 inch) Display...</td>\n",
       "      <td>₹2,750</td>\n",
       "      <td>768 Ratings &amp; 175 Reviews</td>\n",
       "    </tr>\n",
       "    <tr>\n",
       "      <th>10</th>\n",
       "      <td>₹7,409</td>\n",
       "      <td>3 GB RAM | 32 GB ROM\\n14.48 cm (5.7 inch) Disp...</td>\n",
       "      <td>₹7,409</td>\n",
       "      <td>966 Ratings &amp; 123 Reviews</td>\n",
       "    </tr>\n",
       "    <tr>\n",
       "      <th>11</th>\n",
       "      <td>₹9,900</td>\n",
       "      <td>6 GB RAM | 64 GB ROM\\n14.73 cm (5.8 inch) Disp...</td>\n",
       "      <td>₹9,900</td>\n",
       "      <td>61 Ratings &amp; 5 Reviews</td>\n",
       "    </tr>\n",
       "    <tr>\n",
       "      <th>12</th>\n",
       "      <td>₹4,949</td>\n",
       "      <td>3 GB RAM | 32 GB ROM | Expandable Upto 128 GB\\...</td>\n",
       "      <td>₹4,949</td>\n",
       "      <td>78 Ratings &amp; 19 Reviews</td>\n",
       "    </tr>\n",
       "  </tbody>\n",
       "</table>\n",
       "</div>"
      ],
      "text/plain": [
       "   Brand Name                                    Product Details      Price  \\\n",
       "0      ₹4,799  2 GB RAM | 16 GB ROM\\n15.75 cm (6.2 inch) Disp...     ₹4,799   \n",
       "1      ₹5,469  2 GB RAM | 16 GB ROM\\n15.75 cm (6.2 inch) Disp...     ₹5,469   \n",
       "2   ₹1,17,990  12 GB RAM | 1 TB ROM | Expandable Upto 512 GB\\...  ₹1,17,990   \n",
       "3      ₹5,800  2 GB RAM | 16 GB ROM\\n12.7 cm (5 inch) Display...     ₹5,800   \n",
       "4      ₹8,999  3 GB RAM | 32 GB ROM | Expandable Upto 128 GB\\...     ₹8,999   \n",
       "5      ₹7,290  3 GB RAM | 32 GB ROM\\n12.7 cm (5 inch) HD Disp...     ₹7,290   \n",
       "6      ₹6,199  2 GB RAM | 16 GB ROM\\n12.7 cm (5 inch) Display...     ₹6,199   \n",
       "7      ₹5,509  2 GB RAM | 16 GB ROM\\n12.7 cm (5 inch) Display...     ₹5,509   \n",
       "8      ₹4,429  2 GB RAM | 16 GB ROM\\n13.97 cm (5.5 inch) Disp...     ₹4,429   \n",
       "9      ₹2,750  1 GB RAM | 8 GB ROM\\n10.16 cm (4 inch) Display...     ₹2,750   \n",
       "10     ₹7,409  3 GB RAM | 32 GB ROM\\n14.48 cm (5.7 inch) Disp...     ₹7,409   \n",
       "11     ₹9,900  6 GB RAM | 64 GB ROM\\n14.73 cm (5.8 inch) Disp...     ₹9,900   \n",
       "12     ₹4,949  3 GB RAM | 32 GB ROM | Expandable Upto 128 GB\\...     ₹4,949   \n",
       "\n",
       "               NO. of Ratings  \n",
       "0      74 Ratings & 9 Reviews  \n",
       "1      74 Ratings & 9 Reviews  \n",
       "2      24 Ratings & 5 Reviews  \n",
       "3    146 Ratings & 16 Reviews  \n",
       "4    100 Ratings & 22 Reviews  \n",
       "5    100 Ratings & 22 Reviews  \n",
       "6      20 Ratings & 3 Reviews  \n",
       "7       1 Ratings & 1 Reviews  \n",
       "8    916 Ratings & 80 Reviews  \n",
       "9   768 Ratings & 175 Reviews  \n",
       "10  966 Ratings & 123 Reviews  \n",
       "11     61 Ratings & 5 Reviews  \n",
       "12    78 Ratings & 19 Reviews  "
      ]
     },
     "execution_count": 40,
     "metadata": {},
     "output_type": "execute_result"
    }
   ],
   "source": [
    "import pandas as pd\n",
    "dt=pd.DataFrame({})\n",
    "dt['Brand Name']=brand\n",
    "dt['Product Details']=details\n",
    "dt['Price']=price\n",
    "dt['NO. of Ratings']=Rating\n",
    "dt"
   ]
  },
  {
   "cell_type": "code",
   "execution_count": 42,
   "id": "92741337",
   "metadata": {},
   "outputs": [],
   "source": [
    "#dt.to_csv('oneplusflipkart.csv', index=False)"
   ]
  },
  {
   "cell_type": "code",
   "execution_count": 43,
   "id": "b8ea1947",
   "metadata": {},
   "outputs": [],
   "source": [
    "driver.quit()"
   ]
  },
  {
   "cell_type": "markdown",
   "id": "ae1a355f",
   "metadata": {},
   "source": [
    "### Q.5 Write a program to scrap geospatial coordinates (latitude, longitude) of a city searched on google maps."
   ]
  },
  {
   "cell_type": "code",
   "execution_count": 44,
   "id": "6b494640",
   "metadata": {},
   "outputs": [
    {
     "name": "stdout",
     "output_type": "stream",
     "text": [
      "Current page:  Google Maps\n"
     ]
    }
   ],
   "source": [
    "import time\n",
    "import pandas as pd\n",
    "from selenium import webdriver \n",
    "from selenium.webdriver.common.action_chains import ActionChains \n",
    "from selenium.webdriver.common.by import By\n",
    "from bs4 import BeautifulSoup\n",
    "\n",
    "# path for chromedriver\n",
    "driver=webdriver.Chrome(r\"C:\\Program Files\\chromedriver.exe\")\n",
    "driver=webdriver.Chrome('chromedriver.exe')\n",
    "\n",
    "\n",
    "# enter keyword to search (URL)\n",
    "keyword = \"https://www.google.com/maps/search/\"\n",
    "driver.get(keyword)\n",
    "\n",
    "time.sleep(4)\n",
    "# checking current window title\n",
    "print('Current page: ',driver.title)"
   ]
  },
  {
   "cell_type": "code",
   "execution_count": 45,
   "id": "3ca45b16",
   "metadata": {},
   "outputs": [],
   "source": [
    "# search box\n",
    "search_box = driver.find_element(By.XPATH,\"//input[@id='searchboxinput']\")\n",
    "search_box.send_keys('SANGLI')\n",
    "time.sleep(2)\n",
    "\n",
    "# Search button\n",
    "search_button = driver.find_element(By.XPATH,\"//button[@id='searchbox-searchbutton']\").click()\n",
    "time.sleep(5)"
   ]
  },
  {
   "cell_type": "code",
   "execution_count": 48,
   "id": "d4c2fb71",
   "metadata": {},
   "outputs": [],
   "source": [
    "driver.quit()"
   ]
  },
  {
   "cell_type": "markdown",
   "id": "8549c03f",
   "metadata": {},
   "source": [
    "### Q.6 Write a program to scrap details of all the funding deals for second quarter (i.e. July 20 –September 20) from trak.in."
   ]
  },
  {
   "cell_type": "code",
   "execution_count": 193,
   "id": "ab859616",
   "metadata": {},
   "outputs": [
    {
     "name": "stdout",
     "output_type": "stream",
     "text": [
      "Current page:  Trak.in – Indian Business of Tech, Mobile & Startups – Trak.in is a popular Indian Business, Technology, Mobile & Startup blog featuring trending News, views and analytical take on Technology, Business, Finance, Telecom, Mobile, startups & Social Media Space\n"
     ]
    }
   ],
   "source": [
    "import time\n",
    "import pandas as pd\n",
    "from selenium import webdriver \n",
    "from selenium.webdriver.common.action_chains import ActionChains \n",
    "from selenium.webdriver.common.by import By\n",
    "from bs4 import BeautifulSoup\n",
    "\n",
    "# path for chromedriver\n",
    "driver=webdriver.Chrome(r\"C:\\Program Files\\chromedriver.exe\")\n",
    "driver=webdriver.Chrome('chromedriver.exe')\n",
    "\n",
    "\n",
    "# enter keyword to search (URL)\n",
    "keyword = \"https://www.trak.in/\"\n",
    "driver.get(keyword)\n",
    "\n",
    "time.sleep(4)\n",
    "# checking current window title\n",
    "print('Current page: ',driver.title)"
   ]
  },
  {
   "cell_type": "code",
   "execution_count": 56,
   "id": "30b3b7bd",
   "metadata": {},
   "outputs": [],
   "source": [
    "# search box\n",
    "search_box = driver.find_element(By.XPATH,'//li[@class=\"bs-pretty-tabs-container menu-item-has-children menu-item better-anim-fade bsm-leave\"]')\n",
    "#search_box.send_keys('')\n",
    "time.sleep(2)\n",
    "\n",
    "# Search button\n",
    "#search_button = driver.find_element(By.XPATH,\"//button[@id='searchbox-searchbutton']\").click()\n",
    "#time.sleep(5)"
   ]
  },
  {
   "cell_type": "code",
   "execution_count": 59,
   "id": "1bb8b512",
   "metadata": {},
   "outputs": [
    {
     "data": {
      "text/plain": [
       "[\"Show\\n10\\n25\\n50\\n100\\nentries\\nSearch:\\nSr. No. Date (dd/mm/yyyy) Startup Name Industry / Vertical Sub-Vertical City / Location Investors' Name Investment Type Amount (In USD)\\n1 01/04/2021 BYJU’S Edu-tech Online tutoring Bengaluru Innoven Capital Series F 460,000,000\\n2 05/04/2021 Meesho E-commerce Online reselling platform Bengaluru SoftBank Vision Fund 2 Series E 300,000,000\\n3 14/04/2021 Swiggy Online Food Delivery Online Food Delivery Bengaluru Amansa Holdings, Carmignac, Falcon Edge Capital, Goldman Sachs, Think Investments Series J 343,000,000\\n4 07/04/2021 Groww FinTech Investment platform Bengaluru MC Global Edtech, B Capital, Baron, others Series D 83,000,000\\n5 14/04/2021 Beldara E-commerce Global B2B marketplace Mumbai Hindustan Media Ventures Venture 7,400,000\\nShowing 1 to 5 of 5 entries\\nPreviousNext\",\n",
       " \"Show\\n10\\n25\\n50\\n100\\nentries\\nSearch:\\nSr. No. Date (dd/mm/yyyy) Startup Name Industry / Vertical Sub-Vertical City / Location Investors' Name Investment Type Amount (In USD)\\n1 04/03/2021 DealShare E-commerce Online shopping platform Jaipur, Rajasthan Innoven Capital Debt Financing 250,000,000\\n2 31/03/2021 Uniphore Technology Conversational Service Automation (CSA) Palo Alto Sorenson Capital Partners Series D 140,000,000\\n3 30/03/2021 Dunzo E-commerce Hyper-local delivery app Bengaluru Krishtal Advisors Pte Ltd Series E 8,000,000\\n4 30/03/2021 BYJU’S Edu-tech Online tutoring Bengaluru MC Global Edtech, B Capital, Baron, others Series F 460,000,000\\n5 23/03/2021 SkilloVilla Edu-tech Career and job-oriented upskilling. Bengaluru Titan Capital, others Seed 300,000,000\\n6 25/03/2021 CityMall E-commerce Social ecommerce and online grocery platform Gurgaon Accel Partners Series A 11,000,000\\n7 26/03/2021 DotPe FinTech Commerce and payments platform to offline enterprise businesses. Gurgaon PayU Series A 27,500,000\\nShowing 1 to 7 of 7 entries\\nPreviousNext\",\n",
       " \"Show\\n10\\n25\\n50\\n100\\nentries\\nSearch:\\nSr. No. Date (dd/mm/yyyy) Startup Name Industry / Vertical Sub-Vertical City / Location Investors' Name Investment Type Amount (In USD)\\n1 11/02/2021 Doubtnut Edu Tech E-Learning Platform Gurgaon SIG Global, Sequoia Capital, WaterBridge Ventures and ON Mauritius Series B 2,500,000\\n2 22/02/2021 Zomato Hospitality Online Food Delivery Platform Gurgaon Tiger Global, Kora Venture 250,000,000\\n3 19/02/2021 Fingerlix Hospitality Semi-cooked food delivery app Mumbai Rhodium Trust, Accel Partners and Swiggy Series C 2,747,045.20\\n4 17/02/2021 Zolve FinTech Global Neobank Venture Mumbai Accel Partners and Lightspeed Venture Partners Seed 1,50,00,000\\n5 15/02/2021 KreditBee Finance Digital lending platform Bengaluru Azim Premji’s PremjiInvest and South Korea’s Mirae Asset Venture Series C 75,000,000\\n6 12/02/2021 Pepperfry E-commerce Multi-brand furniture brand Mumbai InnoVen Capital Debt Financing 4,773,958\\n7 12/02/2021 Grofers E-Commerce Online supermarket Gurgaon SoftBank Vision Fund (SVF) Unspecified 55,000,000\\n8 09/02/2021 Nothing Technology Consumer Technology Venture London GV Series A 15,000,000\\n9 09/02/2021 SplashLearn EdTech Game-based learning programme Gurgaon Owl Ventures Series C 18,000,000\\nShowing 1 to 9 of 9 entries\\nPreviousNext\",\n",
       " \"Show\\n10\\n25\\n50\\n100\\nentries\\nSearch:\\nSr. No. Date (dd/mm/yyyy) Startup Name Industry / Vertical Sub-Vertical City / Location Investors' Name Investment Type Amount (In USD)\\n1 15/01/2021 Digit Insurance Financial Services Insurance Services Bengaluru A91 Partners, Faering Capital, TVS Capital Funds Venture 1,80,00,000\\n2 28/01/2021 Bombay Shaving Company Consumer Goods Company Shave care, beard care, and skincare products New Delhi Reckitt Benckiser Venture 6,172,258.50\\n3 19/01/2021 DeHaat AgriTech Startup online marketplace for farm products and services Patna Prosus Ventures Series C 30,000,000\\n4 19/01/2021 Darwinbox SaaS HR Tech Mumbai Salesforce Ventures Seed 15,000,000\\n5 18/01/2021 mfine Health Tech Startup AI-powered telemedicine mobile app Bengaluru Heritas Capital Management Venture Round 16,000,000\\n6 18/01/2021 Udayy EdTech Online learning platform for kids in class 1-5 Gurgaon Sequoia Capital Seed Funding 15,000,000\\n7 11/01/2021 True Elements Food Startup Whole Food plant based Nashta Pune SIDBI Venture Capital Series 100,000,000\\n8 13/01/2021 Saveo B2B E-commerce Pharmacies Bengaluru Matrix Partners India, RTP Global, others Seed 4,000,000\\nShowing 1 to 8 of 8 entries\\nPreviousNext\",\n",
       " \"Show\\n10\\n25\\n50\\n100\\nentries\\nSearch:\\nSr. No. Date (dd/mm/yyyy) Startup Name Industry / Vertical Sub-Vertical City / Location Investors' Name Investment Type Amount (In USD)\\n1 15/12/2020 Bira 91 Food and Beverage Craft Beer New Delhi Nishant Mittal, Pankaj Chaddah and Shikha Sunil Chandak Funding 1,273,634.07\\n2 21/12/2020 Pine Labs Financial Services Payment Solutions Provider Noida Lone Pine Capital Secondary Market Undisclosed\\n3 15/12/2020 Zenoti Technology Provider Cloud-based software provider for the spa and salon industries Washington Advent International Series D 160,000,000\\n4 22/12/2020 Tax Buddy India FinTech Online tax adviser Mumbai Zenith Global Seed 1,000,000\\n5 15/12/2020 Delhivery Supply chain Transportation Gurgaon Steadview Capital Secondary Market 25,000,000\\n6 18/12/2020 PagarBook SaaS Employee management platform Bengaluru Sequoia Capital Series A 15,000,000\\nShowing 1 to 6 of 6 entries\\nPreviousNext\",\n",
       " \"Show\\n10\\n25\\n50\\n100\\nentries\\nSearch:\\nSr. No. Date (dd/mm/yyyy) Startup Name Industry / Vertical Sub-Vertical City / Location Investors' Name Investment Type Amount (In USD)\\n1 30/11/2020 Codingal EduTech Online coding platform Bengaluru Rebright Partners, Java Capital, and GSF Accelerator Seed 560,000\\n2 30/11/2020 CRED Financial Services Credit Card Behavior Services Bengaluru DST Global Series C 80,000,000\\n3 29/11/2020 Bira 91 Food and Beverage Craft Beer New Delhi Sofina, Sequoia Capital, Sixth Sense Ventures, Neoplux Bridge Funding 3,000,000\\n4 27/11/2020 Chumbak Lifestyle Gifting Startup Bengaluru Gaja Capital Fund (GCFII-A) Pre-series E 1,001,047.92\\n5 25/11/2020 Cityflo Transportation App-based bus commute startup Mumbai Lightbox Ventures Series A 7,700,000\\n6 25/11/2020 Shipsy SaaS Software Automation Of Logistics Gurgaon Sequoia Capital India’s Surge, Info Edge Series A 6,003,806\\n7 25/11/2020 Unacademy Edutech Online Learning Platform Bengaluru Tiger Global Management, Dragoneer Investment Group Venture 75,000,000-100,000,000\\n8 24/11/2020 Cashfree FinTech Payments and banking technology Bengaluru Matrix Partners India, SAIF Partners, Ward Ferry Management and Bertelsmann India Series B 35,300,000\\n9 30/11/2020 Credgenics Fintech Critical NPA reduction for Fintech lenders and banks Gurgaon Venture Capital firm, Accel Partners and DMI Finance Pre-Series A 3,500,000\\n10 23/11/2020 Country Delight Dairy Tech Milk delivery startup Gurugram Elevation Capital Series C 25,000,000\\nShowing 1 to 10 of 10 entries\\nPreviousNext\",\n",
       " \"Show\\n10\\n25\\n50\\n100\\nentries\\nSearch:\\nSr. No. Date (dd/mm/yyyy) Startup Name Industry / Vertical Sub-Vertical City / Location Investors' Name Investment Type Amount (In USD)\\n1 28/10/2020 Nykaa E-commerce Beauty, Fashion, Lifestyle, Wellness Mumbai Alia Bhatt Personal Investment NA\\n2 28/10/2020 Betterplace Digital Solutions Blue Collar Workforce Management Platform Bangalore Jungle Ventures Series B 10,000,000\\n3 28/10/2020 FlexiLoans FinTech Digital Lending Platform Mumbai Falguni and Sanjay Nayar Family Office Equity and Debt 20,160,000\\n4 27/10/2020 GetVantage FinTech Revenue-Based Financing Platform Mumbai Chiratae Ventures, Dream Incubators Seed 5,000,000\\n5 27/10/2020 FreshToHome E-commerce Food Delivery Bangalore Corporation of Dubai (ICD), Ascent Capital, DFC, the Allana Group\\nSeries C 121,000,000\\n6 27/10/2020 Origo AgriTech Agricultural Commodities Management Gurgaon Northern Arc Capital Debt 4,700,000\\n7 27/10/2020 Origo Advertising Online Video Editing Mumbai Sequoia Capital India Series A 15,000,000\\n8 15/10/2020 Treebo Hotels Hospitality Budget Hospitality Chain Bangalore Matrix Partners India, SAIF Partners, Ward Ferry Management and Bertelsmann India 6,000,000\\n9 26/10/2020 Hubilo Information Technology Virtual Events Platform Wilmington, Delaware, United States Lightspeed Venture Partners Seed 4,500,000\\n10 28/10/2020 CredAble FinTech Supply Chain Finance Mumbai Oaks Asset Management and V’Ocean Investment Follow-On 4,500,000\\nShowing 1 to 10 of 12 entries\\nPreviousNext\",\n",
       " \"Show\\n10\\n25\\n50\\n100\\nentries\\nSearch:\\nSr. No. Date (dd/mm/yyyy) Startup Name Industry / Vertical Sub-Vertical City / Location Investors' Name Investment Type Amount (In USD)\\n1 08/09/2020 Byju’s EduTech Online Tutoring Bangalore Silver Lake, Tiger Global, General Atlantic and Owl Ventures\\nPrivate Equity 500,000,000\\n2 12/09/2020 mCaffeine Personal Care Skincare & Haircare Mumbai Amicus Capital Private Equity I LLP, Amicus Capital Partners India Fund I and RP-SG Venture Fund 1 Series B 3,000,000\\n3 09/09/2020 Qshala EduTech Online Curiosity Platform for Kids Bangalore Rainmatter Capital Angel 370,000\\n4 02/09/2020 Winzo Online Gaming Online Gaming New Delhi Kalaari Capital Partners, IndigoEdge Management Consultancy Series B 15,500,000\\n5 09/09/2020 Hippo Video Video Customer Experience(CX) Platform Video Customer Experience(CX) Platform Newark, Delaware, United States of Amercia Alpha Wave Incubation, Exfinity Venture Partners and existing backers.\\nSeries A 4,500,000\\n6 07/09/2020 Melorra E-commerce Online Jewelry Store\\nBangalore Shadow Holdings, Lightbox. Debt Financing upto 8,900,000\\n7 07/09/2020 1mg E-commerce Online Pharmacy Gurgaon Gaja Capital, Tata Capital, Partners Group In Progress 100,000,000\\n8 31/08/2020 mfine HealthTech On-Demand Healthcare Services Bangalore Caretech Pte Inc Series B 5,400,000\\n9 31/08/2020 Apna Human Resources Recruitment Platform Bangalore Lightspeed India and Sequoia Capital India Series A 8,000,000\\n10 03/09/2020 Railofy Transportation WL & RAC protection platform Mumbai Chiratae Ventures Seed 950,000\\nShowing 1 to 10 of 11 entries\\nPreviousNext\",\n",
       " \"Show\\n10\\n25\\n50\\n100\\nentries\\nSearch:\\nSr. No. Date (dd/mm/yyyy) Startup Name Industry / Vertical Sub-Vertical City / Location Investors' Name Investment Type Amount (In USD)\\n1 15/08/2020 Practo HealthTech Health care and Wellness Bangalore A1A Company\\nSeries F 32,000,000\\n2 13/08/2020 Medlife E-commerce Online Pharmacy Bangalore Prasid Uno Family Trust and SC Credit Fund 23,000,000\\n3 13/08/2020 HungerBox\\nFoodTech Online Food Delivery Service Bangalore One97, Sabre Partners Trust, Pratithi Investment Trust, and Srihari Kumar Series D1 1,560,000\\n4 04/08/2020 Dunzo Hyper-local Logistics Online Delivery Services Bangalore Existing Backers In Progress 30,000,000\\n5 11/08/2020 Terra.do EduTech Online Climate School, E-learning Stanford, California, Stanford Angels and Entrepreneurs (India), BEENEXT Emerging Asia, Rainmatter Capital\\n\\nSeed 1,400,000\\n6 12/08/2020 Classplus EduTech E-learning, Online Tutoring\\n\\nNoida Falcon Edge In Progress upto 15,000,000\\n7 14/08/2020 Niyo FinTech Financial Services Bangalore Niyo Solutions Inc. 6,000,000\\n8 10/08/2020 ZestMoney FinTech Financial Services Bangalore Primrose Hills Ventures 10,670,000\\n9 07/08/2020 FreshToHome E-commerce Food Delivery Bangalore Ascent Capital Venture 16,200,000\\n10 13/08/2020 Eduvanz FinTech Financial Services Mumbai Sequoia India, Unitus Series A 5,000,000\\nShowing 1 to 10 of 12 entries\\nPreviousNext\",\n",
       " \"Show\\n10\\n25\\n50\\n100\\nentries\\nSearch:\\nSr. No. Date (dd/mm/yyyy) Startup Name Industry / Vertical Sub-Vertical City / Location Investors' Name Investment Type Amount (In USD)\\n1 15/07/2020 Flipkart E-commerce E-commerce Bangalore Walmart Inc\\nM&A 1,200,000,000\\n2 16/07/2020 Vedantu EduTech Online Tutoring Bangalore Coatue Management Series D 100,000,000\\n3 16/07/2020 Crio EduTech Learning Platform for Developers Bangalore 021 Capital pre-Series A 934,160\\n4 14/07/2020 goDutch FinTech Group Payments Mumbai Matrix India,Y Combinator, Global Founders Capital, Soma Capital, and VentureSouq. Seed 1,700,000\\n5 13/07/2020 Mystifly\\nAirfare Marketplace Ticketing, Airline Retailing, and Post-Ticketing Services Singapore and Bangalore Recruit Co. Ltd.\\n\\npre-Series B 3,300,000\\n6 09/07/2020 JetSynthesys Gaming and Entertainment Gaming and Entertainment\\n\\nPune Adar Poonawalla and Kris Gopalakrishnan.\\nVenture-Series Unknown 400,000\\n7 10/07/2020 gigIndia\\nMarketplace Crowd Sourcing, Freelance Pune Incubate Fund India and Beyond Next Ventures pre-Series A 974,200\\n8 15/07/2020 PumPumPum Automotive Rental Used Car-leasing platform Gurgaon Early Adapters Syndicate Seed 292,800\\n9 14/07/2020 FLYX OTT Player Streaming Social Network New York and Delhi Raj Mishra, founder of AIT Global Inc pre-Seed 200,000\\n10 13/07/2020 Open Appliances Pvt. Ltd. Information Technology Internet-of-Things Security Solutions Bangalore Unicorn India Ventures Venture-Series Unknown 500,000\\nShowing 1 to 10 of 10 entries\\nPreviousNext\",\n",
       " \"Show\\n10\\n25\\n50\\n100\\nentries\\nSearch:\\nSr. No. Date (dd/mm/yyyy) Startup Name Industry / Vertical Sub-Vertical City / Location Investors' Name Investment Type Amount (In USD)\\n1 18/06/2020 Drishti Technologies Technology Artificial Intelligence, Video Analytics Mumbai Sozo Ventures\\nSeries B 25,000,000\\n2 17/06/2020 Stellaps AgriTech Farming, Dairy Management Apps Bangalore Stride Ventures\\nDebt Financing NA\\n3 17/06/2020 Peppermint\\nIndustrial Robotics Industrial Robotics Mumbai Venture Catalysts and Naveen Kshatriya Seed NA\\n4 16/06/2020 Jai Kisan Rural FinTech AgriTech, Financial Services Mumbai Arkam Ventures and NABVENTURES Fund I Pre-Series A 3,934,941\\n5 16/06/2020 Biomoneta\\nBioTech HealthTech, Biotechnology Research Bangalore Beyond Next Ventures, ArthaVida Ventures and Dr. Aniruddha Malpani\\nSeed NA\\n6 15/06/2020 Sai Estate Management and Skills Institute EdTech Education\\n\\nMumbai Suniel Shetty\\nAngel NA\\n7 15/06/2020 LetsTransport\\n\\nLogistics Solution Provider Logistics, Transportation, Travel Bangalore Stride Ventures Venture - Series Unknown 1,311,647\\n8 10/06/2020 WayCool Foods AgriTech Food and Beverage Chennai Indusland Bank Series C 5,500,000\\n9 11/06/2020 Myelin Foundry Deep Tech AI Artificial Intelligence Bangalore Kris Gopalakrishnan’s family office — Pratithi.\\nSeed 1,000,000\\n10 10/06/2020 Hapramp Block Chain, Cryptocurrency Block Chain, Cryptocurrency Gurugram Anand Mahindra Seed 1,000,000\\nShowing 1 to 10 of 10 entries\\nPreviousNext\",\n",
       " \"Show\\n10\\n25\\n50\\n100\\nentries\\nSearch:\\nSr. No. Date (dd/mm/yyyy) Startup Name Industry / Vertical Sub-Vertical City / Location Investors' Name Investment Type Amount (In USD)\\n1 21/05/2020 leap.club Professional Network for Women Professional Network for Women Gurugram Whiteboard Capital (Sandeep Tandon’s VC fund), FirstCheque, Artha India Ventures, Sweta Rau (Founder, White Ventures), Amrish Rau (CEO Pinelabs, Founder Citrus Pay), Deepak Abbot (Former SVP, Paytm), and Harpreet Singh Grover (Co-founder, Co-Cubes) and others.\\nPre Seed 340,000\\n2 20/05/2020 Tring Advertising Celebrity Engagement Platform Mumbai Tencent, Ark Impact, KoKalyan Krishnamurthy of Flipkart, Sujeet Kumar of Udaan, Gaurav Munjal of Unacademy, Keshav Sanghi of VentureWorks India, Roman Saini of Unacademy, Hemesh Singh of Unacademy, and Sumit Jain of Opentalk amongst others.\\nAngel NA\\n3 20/05/2020 Khatabook\\nUtility Solutions Provider Financial Services, Accounting, Payments. Bangalore B Capital Group, Sequoia India, Partners of DST Global, Tencent, GGV, RTP Global, Hummingbird Ventures, Falcon Edge Capital, Rocketship.vc, Unilever Ventures, Kevin Weil, Alexander Will, Kunal Shah, Kunal Bahl, and Rohit Bansal\\n\\n\\nSeries B 60,000,000\\n4 19/05/2020 Vakilsearch LegalTech Online professional services platform for lawyers, corporate bodies, and professionals in India. Chennai Udaan co-founder, Sujeet Kumar Series A NA\\n5 19/05/2020 Lendingkart\\nFinTech Financial Services, Lending, Micro Lending. Ahmedabad Fullerton Financial Holdings Pte Ltd (FFH) and Bertelsmann India Investments, Sistema Asia Fund and India Quotient.\\nSeries D 42,000,000\\n6 21/05/2020 No Worry No Tension Healthcare (NWNT) Healthcare Emotional health and mental health wellness\\n\\nNew Delhi Amit Burman, Chairman of Dabur India,\\nPre Series A NA\\n7 05/05/2020 Classplus\\n\\nEduTech e-learning, education solutions. Noida RTP Global, lume Ventures, Sequoia Capital India's Surge, Spiral Ventures, and Strive. Series A 9,000,000\\n8 11/05/2020 Nykaa E-commerce Cosmetic and Beauty Products Mumbai Steadview Capital Series F 8,800,000\\n9 13/05/2020 Magicpin E-commerce E-commerce Gurugram Lightspeed Venture Partners, along with the participation of Moonstone Investments, WaterBridge Venture, The Bunting Family Private Fund, and Srivatsan Rajan\\nSeries C 4,000,000\\n10 18/05/2020 LetsTransport Logistics Solution Provider Logistics, Transportation, Travel Bangalore InnoVen Capital Venture - Series Unknown 1,700,000\\nShowing 1 to 10 of 10 entries\\nPreviousNext\",\n",
       " \"Show\\n10\\n25\\n50\\n100\\nentries\\nSearch:\\nSr. No. Date (dd/mm/yyyy) Startup Name Industry / Vertical Sub-Vertical City / Location Investors' Name Investment Type Amount (In USD)\\n1 09/04/2020 Vedantu EduTech Online Tutoring Bengaluru Legend Capital Series C1 12,560,000\\n2 06/04/2020 Swiggy Online Food Delivery Online Food Delivery Bengaluru Tencent, Ark Impact, Korea Investment Partners, Samsung Ventures, and Mirae Asset Capital Markets\\nSeries 1 43,000,000\\n3 08/04/2020 Zupee\\nGaming Gaming Gurugram Matrix Partners India, Falcon Edge Capital, WestCap Group, Orios Venture Partners and Smile Group\\n\\nSeries A 8,000,000\\n4 07/04/2020 DeHaat AgriTech AgriTech Patna Sequoia Capital India, FMO, Omnivore and AgFunder. Series A 12,000,000\\n5 15/04/2020 BigBasket\\nE-commerce Online Grocery Delivery Bengaluru Alibaba Group Debt Financing 50,000,000\\n6 08/04/2020 Fingerlix Food Delivery Ready-to-Cook Food Mumbai Accel, Zephyr Peacock, Swiggy, and RB Investments\\nSeries C 1,800,000\\n7 31/03/2020 Nykaa\\n\\nE-commerce Cosmetic and Beauty Products Mumbai Steadview Capital Series F 13,000,000\\n8 02/04/2020 Recko Digital Reconcilation and Financial Services AI-powered Reconciliation of Digital Transactions Bengaluru Vertex Ventures Southeast Asia and India and Prime Venture Partners Series A 6,000,000\\nShowing 1 to 8 of 8 entries\\nPreviousNext\",\n",
       " \"Show\\n10\\n25\\n50\\n100\\nentries\\nSearch:\\nSr. No. Date (dd/mm/yyyy) Startup Name Industry / Vertical Sub-Vertical City / Location Investors' Name Investment Type Amount (In USD)\\n1 04/03/2020 Soxytoes E-commerce Socks Noida Angel Networks Angel NA\\n2 02/03/2020 Chqbook.com Finance Financial Services Gurugram Aavishkaar Capital Series A 5,000,000\\n3 06/03/2020 Paperboat\\nE-commerce Beverages and Snacks Bengaluru Advent Management, A91 Emerging Fund, and Trifecta Venture.\\n\\nDebt Financing 4,000,000\\n4 13/03/2020 CollegeKhabri EduTech Education Bhopal Vdiec Global Angel NA\\n5 12/03/2020 FamPay\\nFinance Online Payment Bengaluru Y Combinator, Venture Highway, Sequoia India, and GFC (Global Founders Capital). Seed 4,700,000\\n6 12/03/2020 MultiLiving Real Estate Home Renting and Management Mumbai Lodha Ventures Series A 6,000,000\\n7 12/03/2020 Ola Electric\\nTransport Cab and Bike Taxi Bengaluru Pawan Munjal Family Trust Series B 1,000,000\\n8 12/03/2020 Mera Kisan Food Production Organic Products Pune Ajinkya Rahane Private Equity NA\\nShowing 1 to 8 of 8 entries\\nPreviousNext\",\n",
       " \"Show\\n10\\n25\\n50\\n100\\nentries\\nSearch:\\nSr. No. Date (dd/mm/yyyy) Startup Name Industry / Vertical Sub-Vertical City / Location Investors' Name Investment Type Amount (In USD)\\n1 03/02/2020 1mg E-commerce Medicine Gurugram Bill & Melinda Gates Foundation Venture Series 10,000,000\\n2 03/02/2020 RACEnergy Transportation Electric Vehicle Hyderabad GrowX Ventures Seed NA\\n3 31/01/2020 Adonmo\\nAdvertising Advertising Hyderabad BAce Capital Pre-Series A 3,000,000\\n4 31/01/2020 DoubtNut Education Online Tutoring Gurugram Tencent Holdings Series A 15,000,000\\n5 30/01/2020 MultiplyMyLeads Real Estate Real Estate New Delhi Frontline Strategy Funds and SucSEED Venture Partners. Venture Series NA\\n6 03/02/2020 Embibe EduTech AI based learning Mumbai Reliance Industries Limited (RIL) Venture Series 12,625,020\\n7 10/02/2020 FirstCry\\nE-commerce Baby Products Pune Softbank Vision Fund Series E 296,000,000\\n8 10/02/2020 Pepperfry E-commerce Furniture Mumbai Pidilite Industries Series F 37,000,000\\n9 18/02/2020 MaxWholesale E-commerce B2B platform for groceries New Delhi IAN Fund and Al Falaj Investment Co Series A 3,000,000\\n10 06/02/2020 Dot Information Technology and Services Information Technology and Services Gurgaon PayU and Fosun RZ Capital Seed 8,000,000\\nShowing 1 to 10 of 17 entries\\nPreviousNext\",\n",
       " \"Show\\n10\\n25\\n50\\n100\\nentries\\nSearch:\\nSr. No. Date (dd/mm/yyyy) Startup Name Industry / Vertical Sub-Vertical City / Location Investors' Name Investment Type Amount (In USD)\\n1 09/01/2020 BYJU’S E-Tech E-learning Bengaluru Tiger Global Management Private Equity Round 200,000,000\\n2 13/01/2020 Shuttl Transportation App based shuttle service Gurgaon Susquehanna Growth Equity Series C 8,048,394\\n3 09/01/2020 Mamaearth E-commerce Retailer of baby and toddler products Bengaluru Sequoia Capital India Series B 18,358,860\\n4 02/01/2020 https://www.wealthbucket.in/ FinTech Online Investment New Delhi Vinod Khatumal Pre-series A 3,000,000\\n5 02/01/2020 Fashor Fashion and Apparel Embroiled Clothes For Women Mumbai Sprout Venture Partners Seed Round 1,800,000\\n6 13/01/2020 Pando Logistics Open-market, freight management platform Chennai Chiratae Ventures Series A 9,000,000\\n7 10/01/2020 Zomato Hospitality Online Food Delivery Platform Gurgaon Ant Financial Private Equity Round 150,000,000\\nShowing 1 to 7 of 7 entries\\nPreviousNext\",\n",
       " \"Show\\n10\\n25\\n50\\n100\\nentries\\nSearch:\\nSr. No. Date (dd/mm/yyyy) Startup Name Industry / Vertical Sub-Vertical City / Location Investors' Name Investment Type Amount (In USD)\\n1 12/12/2019 Ecozen Technology Agritech Pune Sathguru Catalyzer Advisors Series A 6,000,000\\n2 06/12/2019 CarDekho E-Commerce Automobile Gurgaon Ping An Global Voyager Fund Series D 70,000,000\\n3 3/12/2019 Dhruva Space Aerospace Satellite Communication Bengaluru Mumbai Angels, Ravikanth Reddy Seed 50,000,000\\n4 13/12/2019 Rivigo Technology Logistics Services and Solutions Gurgaon SAIF Partners, Spring Canter Investment Ltd. Series F 20,000,000\\n5 17/12/2019 Healthians B2B-focused foodtech startup Food Solutions For Corporate Bengaluru Paytm, NPTK, Sabre Partners and Neoplux Series C 12,000,000\\n6 16/12/2019 Licious E-Commerce Online Meat And Seafood Ordering Startup Bengaluru Vertex Growth Fund Series E 30,000,000\\n7 16/12/2019 InCred Finance Non-Banking Financial Company Mumbai Debt Funding 5,900,000\\n8 14/12/2019 Trell Video Experience Discovery Platform Bengaluru Ruizheng Investment Seed Round 2,000,000\\n9 11/12/2019 Rein Games Gaming Real money based gaming startup Noida Manipal Education and Medical Group (MEMG) Seed Round 50,000,000\\n10 20/12/2019 Lenskart.com E-Commerce Online Eyewear Shopping Portal Faridabad SoftBank Vision Fund Series G 231,000,000\\nShowing 1 to 10 of 10 entries\\nPreviousNext\",\n",
       " \"Show\\n10\\n25\\n50\\n100\\nentries\\nSearch:\\nSr. No. Date (dd/mm/yyyy) Startup Name Industry / Vertical Sub-Vertical City / Location Investors' Name Investment Type Amount (In USD)\\n1 13/11/2019 Freshworks Software Business and customer engagement tools San Francisco Sequoia, CapitalG, Accel Series H 15,000,0000\\n2 14/11/2019 Misters Health and wellness Men's Health and Wellness brand Gurgaon Sauce.vc, Rainforest Ventures Series B 486,000\\n3 13/11/2019 Sunstone Eduversity Pvt. Ltd Education Elearning Gurgaon Prime Venture Partners, LetsVenture, PS1 Venture and GlobalLogic co-founder Rajul Garg Seed 1,500,000\\n4 17/11/2019 Burger Singh Food and Beverage Indian Burger Brand Gurgaon RB Investments Venture undisclosed\\n5 18/11/2019 Healthians Health and Wellness Healthcare services Gurgaon DG Daiwa Ventures, DG Incubation Series B 12,000,000\\n6 15/11/2019 Ninjacart B2B Marketing Agritech Bengaluru Trifecta Capital Advisors Debt Funding 26,000,000\\n7 20/11/2019 Aye Finance FinTech Financial Services To MSMEs Gurgaon FinTech Debt Funding 17,411,265\\n8 12/11/2019 SuperGaming Video Games Social gaming platform Pune Dream Incubator Seed Funding 1,300,000\\n9 20/11/2019 Clumio SaaS Recovery software San Jose, Altimeter Capital, Sutter Hill Ventures Series C 135,000,000\\n10 11/11/2019 eBikeGo Last Mile Transportation Electric bike rental Amritsar Startup Buddy Seed 300,000\\nShowing 1 to 10 of 15 entries\\nPreviousNext\",\n",
       " \"Show\\n10\\n25\\n50\\n100\\nentries\\nSearch:\\nSr. No. Date (dd/mm/yyyy) Startup Name Industry / Vertical Sub-Vertical City / Location Investors' Name Investment Type Amount (In USD)\\n1 04/10/2019 Dunzo Customer Service Delivery Service Bengaluru Lightbox Series D 4,50,00,000\\n2 02/10/2019 Udaan B2B Business development Bengaluru Altimeter Capital, DST Global Series D 58,50,00,000\\n3 21/10/2019 The Man Company\\nConsumer Goods Beauty and Grooming Gurgaon Ayushmann Khurana Corporate Round unknown\\nShowing 1 to 3 of 3 entries\\nPreviousNext\",\n",
       " \"Show\\n10\\n25\\n50\\n100\\nentries\\nSearch:\\nSr. No. Date (dd/mm/yyyy) Startup Name Industry / Vertical Sub-Vertical City / Location Investors' Name Investment Type Amount (In USD)  \\n1 05/09/2019 FPL Technologies FinTech Financial Services Pune Matrix Partners India, Sequoia India Maiden Round 4,500,000\\n2 04/09/2019 Cashflo FinTech Invoice discounting platform and SME lending marketplace Mumbai SAIF Partners Series A 3,300,000\\n3 04/09/2019 Digital F5 Advertising, Marketing Digital marketing firm Mumbai TIW Private Equity Private Equity Round 6,000,000\\n4 04/09/2019 3rdFlix SaaS Education Technology Hyderabad Exfinity Venture Partners pre-series A 5,000,000\\n5 04/09/2019 75F IoT Building automation system Burnsville Breakthrough Energy Ventures Series A 18,000,000\\n6 04/09/2019 Myelin Foundry Information Technology Deep-technology Bengaluru Endiya Partners Seed 10,00,000\\n7 04/09/2019 Atomberg Technology Consumer Technology Consumer Electronics, Home Appliances Mumbai A91 Partners Series A 10,000,000\\n8 04/09/2019 GOQii Health and Wellness Wearable Fitness Bands Menlo Park Bennett Coleman and Company Ltd (BCCL) Series C 450,000,000\\n9 03/09/2019 Vyapar App Accounting Mobile-based Accounting Software Bengaluru India Quotient, Axilor Ventures Series A 5,000,000\\nShowing 1 to 10 of 10 entries\\nPreviousNext\",\n",
       " \"Show\\n10\\n25\\n50\\n100\\nentries\\nSearch:\\nSr. No. Date (dd/mm/yyyy) Startup Name Industry / Vertical Sub-Vertical City / Location Investors' Name Investment Type Amount (In USD)\\n1 01/08/2019 CarDekho E-Commerce Automotive Gurgaon SC GG India Mobility Holdings LLC Series C 20,000,000\\n2 01/08/2019 Progcap Finance Supply Chain Management New Delhi Sequoia India Series A 5,000,000\\n3 01/08/2019 MyPetrolPump Retail Fuel Delivery Bengaluru Seed Funding Round 1,600,000\\n4 01/08/2019 Alteria Capital Finance VC Funds Mumbai Azim Premji, Binny Bansal Single Venture 140,000,000\\n5 01/08/2019 Pine Labs Information Technology Last-mile retail transaction technology Noida Pine Labs Pte Ltd Corporate Round 38,080,000\\n6 12/08/2019 Meesho E-Commerce Social Commerce Bengaluru Naspers Series D 125,000,000\\n7 13/08/2019 Cars24 E-Commerce Car Retail Gurugram MS Dhoni Series D 11,000,000\\n8 13/08/2019 Uniphore Customer Service Platform Conversational AI Palo Alto March Capital Partners Series C 51,000,000\\n9 23/08/2019 Zendrive Automotive Road Safety Analytics San Francisco XL Innovate Series B 37,000,000\\n10 23/08/2019 Lo! Foods Consumer Goods Low carb food for Diabetics Bengaluru Rashmi Daga (founder, FreshMenu), Raveen Sastry (co-founder, Myntra) and Mitesh Shah (finance chief, BookMyShow) Seed Round 500,000\\nShowing 1 to 10 of 17 entries\\nPreviousNext\",\n",
       " \"Show\\n10\\n25\\n50\\n100\\nentries\\nSearch:\\nSr. No. Date (dd/mm/yyyy) Startup Name Industry / Vertical Sub-Vertical City / Location Investors' Name Investment Type Amount (In USD)\\n1 02/07/2019 RenewBuy Finance Auto Insurance Gurgaon Lok Capital, IIFL Wealth Series B 19,000,000\\n2 02/07/2019 Atlan Information Technology Big Data Singapore WaterBridge Ventures Pre-Series A 2,500,000\\n3 01/07/2019 WizCounsel Compliance Consulting New Delhi Kapil Dev Angel 145,000\\n4 03/07/2019 Ola Cabs Transport Cabs Kormangala DIG Investment Ab, Deshe Holdings, Samih Toukan and Hussam Khoury Series J 1,000,000\\n5 01/07/2019 Uniphore Artificial Intelligence Speech Recognition Taramani March Capital Partners Series C 38,080,000\\n6 04/07/2019 Daalchini Technologies Food and Beverage Digital Vending Machine New Delhi Artha Venture Seed Round 500,000\\n7 10/07/2019 BYJU'S EdTech Education Bengaluru Qatar Investment Authority Private Equity Round 150,000,000\\n8 11/07/2019 Moglix E-Commerce Industrial Tools and Equipments Singapore Composite Capital Management, Sequoia Capital India, Tiger Global Management Series D 60,000,000\\n9 10/07/2019 Ezyhaul Tech Logistics Singapore Undisclosed Series B 16,000,000\\n10 10/07/2019 Indus OS Tech Smartphone Operating System Andheri Ventureast Series B 5,750,000\\nShowing 1 to 10 of 13 entries\\nPreviousNext\",\n",
       " \"Show\\n10\\n25\\n50\\n100\\nentries\\nSearch:\\nSr. No. Date (dd/mm/yyyy) Startup Name Industry / Vertical Sub-Vertical City / Location Investors' Name Investment Type Amount (In USD)\\n1 05/06/2019 NoBroker E-Commerce Real Estate Bengaluru General Atlantic Series C 5,10,00,000\\n2 04/06/2019 Bira91 Food and Beverage Brewery New Delhi Anicut Capital Debt Funding 1,00,00,000\\n3 03/06/2019 FabHotels E-Commerce Hospitality Gurgaon Goldman Sachs, Accel Partners and Qualcomm 48,89,975.54\\n4 03/06/2019 Avail Finance Finance FinTech Bengaluru Matrix Partners Series A 90,00,000\\n5 04/06/2019 BharatPe Finance FinTech New Delhi Insight Partners Series B 7,50,00,000\\n6 04/06/2019 Recykal Waste Management Service Optimization Hyderabad Triton Investment Advisors, Pidilite Industries director Ajay Parekh pre-Series A 26,000,000\\n7 03/06/2019 Agara Labs Deep-Tech Artificial Intelligence Bengaluru Blume Ventures and RTP Global pre-Series A 25,00,000\\n8 06/06/2019 Sistema.bio Agriculture Hybrid Reactor Biodigestor Nairobi Shell Foundation, DILA CAPITAL, Engie RDE Fund, EcoEnterprise Fund, EDFIMC (ElectriFI), Endeavor Catalyst Fund, CoCapital, Triodos, Alpha Mundi, and Lendahand 27,39,034.68\\n9 06/06/2019 Chakr Innovation Energy Renewable Energy New Delhi IAN Fund Series A 26,000,000\\n10 06/06/2019 Pratilipi Digital Media E-Books Bengaluru Qiming Venture Partners Series B 1,51,09,500.00\\nShowing 1 to 10 of 15 entries\\nPreviousNext\",\n",
       " \"Show\\n10\\n25\\n50\\n100\\nentries\\nSearch:\\nSr. No. Date (dd/mm/yyyy) Startup Name Industry / Vertical Sub-Vertical City / Location Investors' Name Investment Type Amount (In USD)\\n1 06/05/2019 Ola Electric Transport Cabs Bengaluru Tata Sons Series A undisclosed\\n2 06/05/2019 Saahas Zero Waste Waste Management Service Optimization Bengaluru C4D Partners Venture - Series Unknown 868,600\\n3 05/05/2019 StyleDotMe E-commerce Fashion and Shopping Delhi Indian Angel Network and other angel investors, Innov8 founder Ritesh Malik, Josh Talks founders Supriya Paul and Shobha Banga, and former Hero Corporate president Rohit Chanana Bridge Round undisclosed\\n4 01/05/2019 BlackBuck Transport Logistics Bengaluru Goldman Sachs Investment Partners and Silicon Valley-based Accel, Wellington, Sequoia Capital, B Capital, LightStreet, Sands Capital and International Finance Corporation, Series D 150,000,000\\n5 02/05/2019 Zenoti Saas Beauty and Wellness Industry Hyderabad Tiger Global Management Series C 50,000,000\\n6 28/05/2019 Ather Energy Automobile Electric Vehicle Bengaluru Sachin Bansal Series C 5,10,00,000\\n7 28/05/2019 FreshVnF Agtech Fresh Agriculture Produces Mumbai Equanimity Ventures Seed Round 14,00,00,000\\n8 30/05/2019 GlowRoad E-commerce Retail Bengaluru Korea Investment Partners, Vertex Ventures Series B 1,15,00,000\\n9 31/05/2019 Bira91 Food and Beverage Brewery New Delhi Sixth Sense Ventures Series B 56,00,000\\nShowing 1 to 9 of 9 entries\\nPreviousNext\",\n",
       " \"Show\\n10\\n25\\n50\\n100\\nentries\\nSearch:\\nSr. No. Date (dd/mm/yyyy) Startup Name Industry / Vertical Sub-Vertical City / Location Investors' Name Investment Type Amount (In USD)\\n1 16/04/2019 Kuvera Finance Wealth Management Bengaluru Eight Roads Series A 45,000,000\\n2 12/04/2019 Medlife E-commerce Online Medicine Bengaluru Prasid Uno Family Trust Private Equity 17,000,000\\n3 10/04/2019 Kabadiwala E-commerce Waste Management Bhopal Unilever, Beehive Capital Advisor, ABCOM Investments, Parekh Marine Transport, Private Equity 430,665\\n4 13/04/2019 Tripoto Social Media Travel New Delhi Orchid India, Hornbill Orchid India Fund, Chiratae Ventures (formerly IDG Ventures), 3one4 Capital, Lasmer NV Series B 3,591,375\\n5 12/04/2019 Azah Health and Wellness Organic wellness Gurugram Unnamed angel investors Seed Funding 200,000\\n6 11/04/2019 Setu Fintech Banking Bengaluru Lightspeed India Partners Seed Funding 3,500,000\\n7 10/04/2019 Toppr Edtech E-learning Mumbai Milestone Debt and Preference capital 6,320,820\\n8 10/04/2019 Craftsvilla E-commerce Fashion and Apparel Mumbai Supera Pte Ltd Inhouse Funding 2,443,495\\n9 10/04/2019 Unacademy Edtech E-learning Bengaluru Kalyan Krishnamurthy Seed/ Angel Funding 307,000\\n10 11/04/2019 CleverTap SaaS Mobile analytics and marketing Mumbai Sequoia India, Tiger Global Management, Accel Partners Series B 26,000,000\\nShowing 1 to 10 of 14 entries\\nPreviousNext\",\n",
       " \"Show\\n10\\n25\\n50\\n100\\nentries\\nSearch:\\nSr. No. Date (dd/mm/yyyy) Startup Name Industry / Vertical Sub-Vertical City / Location Investors' Name Investment Type Amount (In USD)\\n1 1/02/2019 FleetX AI Logistics Gurgaon India Quotient and LetsVenture’s Angel Fund Pre Series A Undisclosed\\n2 8/02/2019 Zilingo Ecommerce Fashion & Apparel India/Singapore Sequoia Capital and Temasek Holdings, EDBI, Burda Principal Investments, and Sofina Series D 226,000,000\\n3 13/02/2019 NanoClean Global Nanotechnology Anti-Pollution New Delhi LetsVenture, PitchRight Venture, 91SpringBoard, AL Nour International Holdings and Mark V Investments Series A 600,000\\n4 14/02/2018 OyoRooms Hospitality Budget Rooms Gurgaon DiDi Chuxing Equity 100,000,000\\nShowing 1 to 4 of 4 entries\\nPreviousNext\",\n",
       " \"Show\\n10\\n25\\n50\\n100\\nentries\\nSearch:\\nSr. No. Date (dd/mm/yyyy) Startup Name Industry / Vertical Sub-Vertical City / Location Investors' Name Investment Type Amount (In USD)\\n1 03/01/2019 CarDekho Automobile Online Marketplace Jaipur Sequoia India, Hillhouse Capital, Alphabet’s growth investment arm Capital G and Axis Bank Series C 110,000,000\\n2 04/01/2019 Vyome Therapeutics Inc. Health and Wellness Specialty pharmaceutical India/US Iron Pillar, Perceptive Advisors, Romulus Capital and Kalaari Capital Series D 22,000,000\\n3 04/01/2019 Samunnati Financial Intermediation & Services Pvt. Ltd Finance Non-banking financial company Chennai MASSIF, a Dutch government fund Debt-Funding 5,000,000\\n4 04/12/2018 Manch Social Media Hyperlocal Content Delhi Stellaris Venture Partners Seed Funding 700,000\\nShowing 1 to 4 of 4 entries\\nPreviousNext\",\n",
       " \"Show\\n10\\n25\\n50\\n100\\nentries\\nSearch:\\nSr. No. Date (dd/mm/yyyy) Startup Name Industry / Vertical Sub-Vertical City / Location Investors' Name Investment Type Amount (In USD)\\n1 01/12/2018 UrbanClap Technologies Pvt. Ltd Services Platform Home services marketplace New Delhi Steadview Capital and Vy Capital. Series D 50,000,000\\n2 02/12/2018 Guiddoo Travel Tech Platform for travel agents Mumbai Individual Investors Pre-Series A 800,000\\n3 02/12/2018 Career Anna Online Education Video-based certification, trainings Gurugram Individual Investors Pre-Series A 572,000\\n4 04/12/2018 Nagpur Wholesale Online Marketplace eCommerce Nagpur Omphalos Ventures India LLP Seed Funding 143,000\\n5 06/12/2018 ShopKirana B2B eCommerce Indore Info Edge, AET Fund, Akatsuki and Incubate Fund from Japan and Better Capital AngelList syndicate. Seed Funding 2,000,000\\n6 06/12/2018 BuildSupply SaaS, Ecommerce Real Estate, ERP Gurugram Venture Highway, GREE Ventures, Space Matrix, Individual Investors Series A 3,500,000\\nShowing 1 to 6 of 6 entries\\nPreviousNext\",\n",
       " \"Show\\n10\\n25\\n50\\n100\\nentries\\nSearch:\\nSr. No. Date (dd/mm/yyyy) Startup Name Industry / Vertical Sub-Vertical City / Location Investors' Name Investment Type Amount (In USD)\\n1 01/11/2018 GoDesi Food and Beverage Regional Flavours Bengaluru Lead Angels Network Seed/ Angel Funding 1,38,995\\n2 03/11/2018 Veritas Finance Ltd. NBFC MSME Finance Chennai Norwest Venture Partners, CDC Group, the UK’s Development Finance Institution and P Surendra Pai Series D 27,799,000\\n3 06/11/2018 Meesho Ecommerce Social Commerce Bengaluru Shunwei Capital, DST Partners and RPS Ventures Series C 50,000,000\\n4 08/11/2018 Mobile Premier League Gaming Mobile e-Sports Bengaluru Undisclosed Series A 5,00,000\\n5 8/11/2018 A&R Bon Vivants Food Meat Retail Chain Jaipur RB Investments, Singapore Equity 1,000,000\\n6 12/11/2018 Blackbuck Food Tech POS For Online Ordering New York, Bengaluru Tiger Global Series A 1,000,000\\n7 12/11/2018 MilkBAsket Food Micro-delivery grocery service New Delhi Mayfield Fund Series B 1,300,000\\n8 13/11/2018 DriveU Transport On-Demand Drivers Bengaluru Stevens Creek Ventures Mezzanine 1,000,000\\n9 14/11/2018 CleanseCar Services Car Wash Bengaluru Venture Catalysts Seed/ Angel Funding 500,000\\n10 19/11/2018 Automation Anywhere Automation Robotics California SoftBank Vision Fund Series B 300,000,000\\nShowing 1 to 10 of 18 entries\\nPreviousNext\",\n",
       " \"Show\\n10\\n25\\n50\\n100\\nentries\\nSearch:\\nSr. No. Date (dd/mm/yyyy) Startup Name Industry / Vertical Sub-Vertical City / Location Investors' Name Investment Type Amount (In USD)\\n1 01/10/2018 Northmist Fashion Mens Wear Delhi Prashant Jaiswal Seed/ Angel Funding N/A\\n2 02/10/2018 Origo Commodities India Pvt. Ltd Logistics Supply Chain Hyderabad Cooperative Oikocredit, Caspian and Hivos-Triodos Fund Seed/ Angel Funding 11,000,000\\n3 04/10/2018 Grover Zampa Food Wine Mumbai Ravi Viswanathan Private Equity 8,200,000\\n4 05/10/2018 Droom Automobile New and Used Cars Platform Gurgaon ZigExN Series E 30,00,000\\n5 11/10/2018 Innov8 Real Estate Co-Working New Delhi Credence Family Office Pre-Series A 4,000,000\\n6 12/10/2018 Blackbuck Logistics Tech Largest Trucking Platform Bengaluru Sequoia Capital India Private Funding 14,680,000\\n7 12/10/2018 LetsTransport Logistics Tech Book Trucks Online Bengaluru Fosun International Series C 12,000,000\\nShowing 1 to 7 of 7 entries\\nPreviousNext\",\n",
       " \"Show\\n10\\n25\\n50\\n100\\nentries\\nSearch:\\nSr. No. Date (dd/mm/yyyy) Startup Name Industry / Vertical Sub-Vertical City / Location Investors' Name Investment Type Amount (In USD)\\n1 01/09/2018 Netmeds Consumer Internet Online Pharmacy Chain Chennai Sistema Asia Fund, Sistema JSFC and Tanncam Investment Private Equity 35,000,000\\n2 03/09/2018 Udaan B2B Platform Logistics and Shipping Bengaluru DST Global and Lightspeed Venture Partners’ global fund. Private Equity 225,000,000\\n3 03/09/2018 Daily hunt Consumer Internet News and ebooks Mobile App  Bengaluru Falcon Edge Private Equity 63,90,000\\n4 04/09/2018 3HCare Healthcare Healthcare Service Provider Delhi N/A Seed / Angel Funding 1,000,000\\n5 04/09/2018 HappyGoEasy Consumer Internet Online Travel Agecy Gurugram Korea Investment Partners (KIP), Samsung and China-based CITIC Capital and others Private Equity N/A\\n6 05/09/2018 Nykaa Consumer Internet Online Marketplace For Multi-brand Beauty Cosmetic and Wellness Products Mumbai Lighthouse Private Equity 15,72,00,000\\n7 05/09/2018 Mad Street Den Technology Computer Vision And Artificial Intelligence (Ai) Platform Chennai KDDI  Private Equity N/A\\n8 06/09/2018 Dream11 Consumer Internet Online Gaming Platform Mumbai Tencent, Kalaari Capital and Private equity firm Multiples Alternate Asset Management Private Equity 100,000,000\\n9 10/09/2018 MamaEarth Healthcare Online Marketplace For Mother and Babycare Products Gurugram Stellaris Ventures & Others Private Equity 4,000,000\\n10 11/09/2018 AutoGrid Technology AI-Based Energy Optimisation and Control Provider Bengaluru CLP Holdings Group, Innogy, Ørstead, and Tenaska Private Equity 32,000,000\\nShowing 1 to 10 of 14 entries\\nPreviousNext\",\n",
       " \"Show\\n10\\n25\\n50\\n100\\nentries\\nSearch:\\nSr. No. Date (dd/mm/yyyy) Startup Name Industry / Vertical Sub-Vertical City / Location Investors' Name Investment Type Amount (In USD)\\n1 01/08/2018 dishq Food-Tech Personalisation Technology Firm Focusing On The Food And Beverage Industry Bengaluru Farm To Fork, Arts Alliance, The Syndicate Fund, Sven Hensen, Zeroth and Artesian Venture Partners Seed/ Angel Funding 400,000\\n2 01/08/2018 HealthFin Finance Patient Financing Platform Pune Axilor, Sprout Venture Partners and others Seed/ Angel Funding N/A\\n3 02/08/2018 Samosa Labs Consumer Internet Social Media and Chat Entertainment Platform Hyderabad Xiaomi and Sequoia Capital India Private Equity 7,000,000\\n4 03/08/2018 ZiffyHomes Consumer Internet Online Home Rental Marketplace Gurugram Y Combinator Private Equity 120,000\\n5 07/08/2018 My OmNamo Consumer Internet Holy Platform Offering Customised Puja Packages To Individuals and Corporates Mumbai N/A Seed/ Angel Funding 1,000,000\\n6 07/08/2018 ShopX Consumer Internet Assisted E-commerce Platform Bengaluru Fung Strategic Holdings Private Equity 35,000,000\\n7 07/08/2018 MakeMyTrip Consumer Internet Online Travel Aggregator Gurugram MakeMyTrip Limited Private Equity 10,000,000\\n8 08/08/2018 Hansel io Consumer Internet Real-time Mobile App Management Bengaluru Vertex Ventures Seed/ Angel Funding 40,00,000\\n9 08/08/2018 Metro Bikes Consumer Internet Online Bike Rental Marketplace Bengaluru Sequoia Capital India Advisors, Accel Partners and G Raghunandan Private Equity 12,200,000\\n10 08/08/2018 Phone Pe Consumer Internet UPI Payments App Bengaluru Flipkart Private Equity 66,000,000\\nShowing 1 to 10 of 25 entries\\nPreviousNext\",\n",
       " \"Show\\n10\\n25\\n50\\n100\\nentries\\nSearch:\\nSr. No. Date (dd/mm/yyyy) Startup Name Industry / Vertical Sub-Vertical City / Location Investors' Name Investment Type Amount (In USD)\\n1 01/07/2018 Leena AI Technology HR Virtual Agent For Employees Gurugram Y Combinator Seed/ Angel Funding N/A\\n2 02/07/2018 Biryani By Kilo Consumer Internet Online Food Delivery Gurugram Ajay Relan and Vinay Mittal Seed/ Angel Funding 1,000,000\\n3 04/07/2018 Anchanto IT E-commerce Fulfilment Platform Pune MDI Ventures & Telkom Indonesia Private Equity 4,000,000\\n4 05/072018 Loan Tap Consumer Internet Online Lending Platform For Salaried Professionals Mumbai Shunwei Capital, Tuscan Ventures, Ashish Goenka, VC firms India Quotient and Kae Capital Private Equity 62,50,000\\n5 06/07/2018 PolicyBazaar Consumer Internet Online Insurance Selling Platform Gurugram Info Edge (India) Ltd and Temasek Private Equity 2,7700,000\\n6 09/07/2018 zippserv Consumer Internet Online Platform For Risk-Assessment Services For Real Estate Investments Bengaluru Info Edge (India) Ltd Seed/ Angel Funding 440,000\\n7 09/07/2018 Groww Consumer Internet Online Platform That Sells Direct Plans Of Mutual Funds Bengaluru Insignia Ventures Partners, Lightbridge Partners & Kairos Seed/ Angel Funding 1,100,000\\n8 10/07/2018 Avenue Growth Consumer Internet Online Platform That Connects Brands With Freelance Sales Professionals Gurugram Avtar Monga, chief operating office at IDFC Bank, Aditya Malik & Others Seed/ Angel Funding 437,000\\n9 10/07/2018 iNICU Healthcare Med-tech Platform Providing Care For Newborns Delhi Venture Catalysts Seed/ Angel Funding N/A\\n10 10/07/2018 Kinara Capital Finance Lending Platform For Micro and Small Enterprises Bengaluru ResponsAbility Private Equity 5,000,000\\nShowing 1 to 10 of 36 entries\\nPreviousNext\",\n",
       " \"Show\\n10\\n25\\n50\\n100\\nentries\\nSearch:\\nSr. No. Date (dd/mm/yyyy) Startup Name Industry / Vertical Sub-Vertical City / Location Investors' Name Investment Type Amount (In USD)\\n1 01/10/2018 Northmist Fashion Mens Wear Delhi Prashant Jaiswal Seed/ Angel Funding N/A\\n2 02/10/2018 Origo Commodities India Pvt. Ltd Logistics Supply Chain Hyderabad Cooperative Oikocredit, Caspian and Hivos-Triodos Fund Seed/ Angel Funding 11,000,000\\n3 04/10/2018 Grover Zampa Food Wine Mumbai Ravi Viswanathan Private Equity 8,200,000\\n4 05/10/2018 Droom Automobile New and Used Cars Platform Gurgaon ZigExN Series E 30,00,000\\n5 11/10/2018 Innov8 Real Estate Co-Working New Delhi Credence Family Office Pre-Series A 4,000,000\\n6 12/10/2018 Blackbuck Logistics Tech Largest Trucking Platform Bengaluru Sequoia Capital India Private Funding 14,680,000\\n7 12/10/2018 LetsTransport Logistics Tech Book Trucks Online Bengaluru Fosun International Series C 12,000,000\\nShowing 1 to 7 of 7 entries\\nPreviousNext\",\n",
       " \"Show\\n10\\n25\\n50\\n100\\nentries\\nSearch:\\nSr. No. Date (dd/mm/yyyy) Startup Name Industry / Vertical Sub-Vertical City / Location Investors' Name Investment Type Amount (In USD)\\n1 01/09/2018 Netmeds Consumer Internet Online Pharmacy Chain Chennai Sistema Asia Fund, Sistema JSFC and Tanncam Investment Private Equity 35,000,000\\n2 03/09/2018 Udaan B2B Platform Logistics and Shipping Bengaluru DST Global and Lightspeed Venture Partners’ global fund. Private Equity 225,000,000\\n3 03/09/2018 Daily hunt Consumer Internet News and ebooks Mobile App  Bengaluru Falcon Edge Private Equity 63,90,000\\n4 04/09/2018 3HCare Healthcare Healthcare Service Provider Delhi N/A Seed / Angel Funding 1,000,000\\n5 04/09/2018 HappyGoEasy Consumer Internet Online Travel Agecy Gurugram Korea Investment Partners (KIP), Samsung and China-based CITIC Capital and others Private Equity N/A\\n6 05/09/2018 Nykaa Consumer Internet Online Marketplace For Multi-brand Beauty Cosmetic and Wellness Products Mumbai Lighthouse Private Equity 15,72,00,000\\n7 05/09/2018 Mad Street Den Technology Computer Vision And Artificial Intelligence (Ai) Platform Chennai KDDI  Private Equity N/A\\n8 06/09/2018 Dream11 Consumer Internet Online Gaming Platform Mumbai Tencent, Kalaari Capital and Private equity firm Multiples Alternate Asset Management Private Equity 100,000,000\\n9 10/09/2018 MamaEarth Healthcare Online Marketplace For Mother and Babycare Products Gurugram Stellaris Ventures & Others Private Equity 4,000,000\\n10 11/09/2018 AutoGrid Technology AI-Based Energy Optimisation and Control Provider Bengaluru CLP Holdings Group, Innogy, Ørstead, and Tenaska Private Equity 32,000,000\\nShowing 1 to 10 of 14 entries\\nPreviousNext\",\n",
       " \"Show\\n10\\n25\\n50\\n100\\nentries\\nSearch:\\nSr. No. Date (dd/mm/yyyy) Startup Name Industry / Vertical Sub-Vertical City / Location Investors' Name Investment Type Amount (In USD)\\n1 01/08/2018 dishq Food-Tech Personalisation Technology Firm Focusing On The Food And Beverage Industry Bengaluru Farm To Fork, Arts Alliance, The Syndicate Fund, Sven Hensen, Zeroth and Artesian Venture Partners Seed/ Angel Funding 400,000\\n2 01/08/2018 HealthFin Finance Patient Financing Platform Pune Axilor, Sprout Venture Partners and others Seed/ Angel Funding N/A\\n3 02/08/2018 Samosa Labs Consumer Internet Social Media and Chat Entertainment Platform Hyderabad Xiaomi and Sequoia Capital India Private Equity 7,000,000\\n4 03/08/2018 ZiffyHomes Consumer Internet Online Home Rental Marketplace Gurugram Y Combinator Private Equity 120,000\\n5 07/08/2018 My OmNamo Consumer Internet Holy Platform Offering Customised Puja Packages To Individuals and Corporates Mumbai N/A Seed/ Angel Funding 1,000,000\\n6 07/08/2018 ShopX Consumer Internet Assisted E-commerce Platform Bengaluru Fung Strategic Holdings Private Equity 35,000,000\\n7 07/08/2018 MakeMyTrip Consumer Internet Online Travel Aggregator Gurugram MakeMyTrip Limited Private Equity 10,000,000\\n8 08/08/2018 Hansel io Consumer Internet Real-time Mobile App Management Bengaluru Vertex Ventures Seed/ Angel Funding 40,00,000\\n9 08/08/2018 Metro Bikes Consumer Internet Online Bike Rental Marketplace Bengaluru Sequoia Capital India Advisors, Accel Partners and G Raghunandan Private Equity 12,200,000\\n10 08/08/2018 Phone Pe Consumer Internet UPI Payments App Bengaluru Flipkart Private Equity 66,000,000\\nShowing 1 to 10 of 25 entries\\nPreviousNext\",\n",
       " \"Show\\n10\\n25\\n50\\n100\\nentries\\nSearch:\\nSr. No. Date (dd/mm/yyyy) Startup Name Industry / Vertical Sub-Vertical City / Location Investors' Name Investment Type Amount (In USD)\\n1 01/07/2018 Leena AI Technology HR Virtual Agent For Employees Gurugram Y Combinator Seed/ Angel Funding N/A\\n2 02/07/2018 Biryani By Kilo Consumer Internet Online Food Delivery Gurugram Ajay Relan and Vinay Mittal Seed/ Angel Funding 1,000,000\\n3 04/07/2018 Anchanto IT E-commerce Fulfilment Platform Pune MDI Ventures & Telkom Indonesia Private Equity 4,000,000\\n4 05/072018 Loan Tap Consumer Internet Online Lending Platform For Salaried Professionals Mumbai Shunwei Capital, Tuscan Ventures, Ashish Goenka, VC firms India Quotient and Kae Capital Private Equity 62,50,000\\n5 06/07/2018 PolicyBazaar Consumer Internet Online Insurance Selling Platform Gurugram Info Edge (India) Ltd and Temasek Private Equity 2,7700,000\\n6 09/07/2018 zippserv Consumer Internet Online Platform For Risk-Assessment Services For Real Estate Investments Bengaluru Info Edge (India) Ltd Seed/ Angel Funding 440,000\\n7 09/07/2018 Groww Consumer Internet Online Platform That Sells Direct Plans Of Mutual Funds Bengaluru Insignia Ventures Partners, Lightbridge Partners & Kairos Seed/ Angel Funding 1,100,000\\n8 10/07/2018 Avenue Growth Consumer Internet Online Platform That Connects Brands With Freelance Sales Professionals Gurugram Avtar Monga, chief operating office at IDFC Bank, Aditya Malik & Others Seed/ Angel Funding 437,000\\n9 10/07/2018 iNICU Healthcare Med-tech Platform Providing Care For Newborns Delhi Venture Catalysts Seed/ Angel Funding N/A\\n10 10/07/2018 Kinara Capital Finance Lending Platform For Micro and Small Enterprises Bengaluru ResponsAbility Private Equity 5,000,000\\nShowing 1 to 10 of 36 entries\\nPreviousNext\",\n",
       " \"Show\\n10\\n25\\n50\\n100\\nentries\\nSearch:\\nSr. No. Date (dd/mm/yyyy) Startup Name Industry / Vertical Sub-Vertical City / Location Investors' Name Investment Type Amount (In USD)\\n1 01/10/2018 Northmist Fashion Mens Wear Delhi Prashant Jaiswal Seed/ Angel Funding N/A\\n2 02/10/2018 Origo Commodities India Pvt. Ltd Logistics Supply Chain Hyderabad Cooperative Oikocredit, Caspian and Hivos-Triodos Fund Seed/ Angel Funding 11,000,000\\n3 04/10/2018 Grover Zampa Food Wine Mumbai Ravi Viswanathan Private Equity 8,200,000\\n4 05/10/2018 Droom Automobile New and Used Cars Platform Gurgaon ZigExN Series E 30,00,000\\n5 11/10/2018 Innov8 Real Estate Co-Working New Delhi Credence Family Office Pre-Series A 4,000,000\\n6 12/10/2018 Blackbuck Logistics Tech Largest Trucking Platform Bengaluru Sequoia Capital India Private Funding 14,680,000\\n7 12/10/2018 LetsTransport Logistics Tech Book Trucks Online Bengaluru Fosun International Series C 12,000,000\\nShowing 1 to 7 of 7 entries\\nPreviousNext\",\n",
       " \"Show\\n10\\n25\\n50\\n100\\nentries\\nSearch:\\nSr. No. Date (dd/mm/yyyy) Startup Name Industry / Vertical Sub-Vertical City / Location Investors' Name Investment Type Amount (In USD)\\n1 01/09/2018 Netmeds Consumer Internet Online Pharmacy Chain Chennai Sistema Asia Fund, Sistema JSFC and Tanncam Investment Private Equity 35,000,000\\n2 03/09/2018 Udaan B2B Platform Logistics and Shipping Bengaluru DST Global and Lightspeed Venture Partners’ global fund. Private Equity 225,000,000\\n3 03/09/2018 Daily hunt Consumer Internet News and ebooks Mobile App  Bengaluru Falcon Edge Private Equity 63,90,000\\n4 04/09/2018 3HCare Healthcare Healthcare Service Provider Delhi N/A Seed / Angel Funding 1,000,000\\n5 04/09/2018 HappyGoEasy Consumer Internet Online Travel Agecy Gurugram Korea Investment Partners (KIP), Samsung and China-based CITIC Capital and others Private Equity N/A\\n6 05/09/2018 Nykaa Consumer Internet Online Marketplace For Multi-brand Beauty Cosmetic and Wellness Products Mumbai Lighthouse Private Equity 15,72,00,000\\n7 05/09/2018 Mad Street Den Technology Computer Vision And Artificial Intelligence (Ai) Platform Chennai KDDI  Private Equity N/A\\n8 06/09/2018 Dream11 Consumer Internet Online Gaming Platform Mumbai Tencent, Kalaari Capital and Private equity firm Multiples Alternate Asset Management Private Equity 100,000,000\\n9 10/09/2018 MamaEarth Healthcare Online Marketplace For Mother and Babycare Products Gurugram Stellaris Ventures & Others Private Equity 4,000,000\\n10 11/09/2018 AutoGrid Technology AI-Based Energy Optimisation and Control Provider Bengaluru CLP Holdings Group, Innogy, Ørstead, and Tenaska Private Equity 32,000,000\\nShowing 1 to 10 of 14 entries\\nPreviousNext\",\n",
       " \"Show\\n10\\n25\\n50\\n100\\nentries\\nSearch:\\nSr. No. Date (dd/mm/yyyy) Startup Name Industry / Vertical Sub-Vertical City / Location Investors' Name Investment Type Amount (In USD)\\n1 01/08/2018 dishq Food-Tech Personalisation Technology Firm Focusing On The Food And Beverage Industry Bengaluru Farm To Fork, Arts Alliance, The Syndicate Fund, Sven Hensen, Zeroth and Artesian Venture Partners Seed/ Angel Funding 400,000\\n2 01/08/2018 HealthFin Finance Patient Financing Platform Pune Axilor, Sprout Venture Partners and others Seed/ Angel Funding N/A\\n3 02/08/2018 Samosa Labs Consumer Internet Social Media and Chat Entertainment Platform Hyderabad Xiaomi and Sequoia Capital India Private Equity 7,000,000\\n4 03/08/2018 ZiffyHomes Consumer Internet Online Home Rental Marketplace Gurugram Y Combinator Private Equity 120,000\\n5 07/08/2018 My OmNamo Consumer Internet Holy Platform Offering Customised Puja Packages To Individuals and Corporates Mumbai N/A Seed/ Angel Funding 1,000,000\\n6 07/08/2018 ShopX Consumer Internet Assisted E-commerce Platform Bengaluru Fung Strategic Holdings Private Equity 35,000,000\\n7 07/08/2018 MakeMyTrip Consumer Internet Online Travel Aggregator Gurugram MakeMyTrip Limited Private Equity 10,000,000\\n8 08/08/2018 Hansel io Consumer Internet Real-time Mobile App Management Bengaluru Vertex Ventures Seed/ Angel Funding 40,00,000\\n9 08/08/2018 Metro Bikes Consumer Internet Online Bike Rental Marketplace Bengaluru Sequoia Capital India Advisors, Accel Partners and G Raghunandan Private Equity 12,200,000\\n10 08/08/2018 Phone Pe Consumer Internet UPI Payments App Bengaluru Flipkart Private Equity 66,000,000\\nShowing 1 to 10 of 25 entries\\nPreviousNext\",\n",
       " \"Show\\n10\\n25\\n50\\n100\\nentries\\nSearch:\\nSr. No. Date (dd/mm/yyyy) Startup Name Industry / Vertical Sub-Vertical City / Location Investors' Name Investment Type Amount (In USD)\\n1 01/07/2018 Leena AI Technology HR Virtual Agent For Employees Gurugram Y Combinator Seed/ Angel Funding N/A\\n2 02/07/2018 Biryani By Kilo Consumer Internet Online Food Delivery Gurugram Ajay Relan and Vinay Mittal Seed/ Angel Funding 1,000,000\\n3 04/07/2018 Anchanto IT E-commerce Fulfilment Platform Pune MDI Ventures & Telkom Indonesia Private Equity 4,000,000\\n4 05/072018 Loan Tap Consumer Internet Online Lending Platform For Salaried Professionals Mumbai Shunwei Capital, Tuscan Ventures, Ashish Goenka, VC firms India Quotient and Kae Capital Private Equity 62,50,000\\n5 06/07/2018 PolicyBazaar Consumer Internet Online Insurance Selling Platform Gurugram Info Edge (India) Ltd and Temasek Private Equity 2,7700,000\\n6 09/07/2018 zippserv Consumer Internet Online Platform For Risk-Assessment Services For Real Estate Investments Bengaluru Info Edge (India) Ltd Seed/ Angel Funding 440,000\\n7 09/07/2018 Groww Consumer Internet Online Platform That Sells Direct Plans Of Mutual Funds Bengaluru Insignia Ventures Partners, Lightbridge Partners & Kairos Seed/ Angel Funding 1,100,000\\n8 10/07/2018 Avenue Growth Consumer Internet Online Platform That Connects Brands With Freelance Sales Professionals Gurugram Avtar Monga, chief operating office at IDFC Bank, Aditya Malik & Others Seed/ Angel Funding 437,000\\n9 10/07/2018 iNICU Healthcare Med-tech Platform Providing Care For Newborns Delhi Venture Catalysts Seed/ Angel Funding N/A\\n10 10/07/2018 Kinara Capital Finance Lending Platform For Micro and Small Enterprises Bengaluru ResponsAbility Private Equity 5,000,000\\nShowing 1 to 10 of 36 entries\\nPreviousNext\",\n",
       " \"Show\\n10\\n25\\n50\\n100\\nentries\\nSearch:\\nSr. No. Date (dd/mm/yyyy) Startup Name Industry / Vertical Sub-Vertical City / Location Investors' Name Investment Type Amount (In USD)\\n1 01/10/2018 Northmist Fashion Mens Wear Delhi Prashant Jaiswal Seed/ Angel Funding N/A\\n2 02/10/2018 Origo Commodities India Pvt. Ltd Logistics Supply Chain Hyderabad Cooperative Oikocredit, Caspian and Hivos-Triodos Fund Seed/ Angel Funding 11,000,000\\n3 04/10/2018 Grover Zampa Food Wine Mumbai Ravi Viswanathan Private Equity 8,200,000\\n4 05/10/2018 Droom Automobile New and Used Cars Platform Gurgaon ZigExN Series E 30,00,000\\n5 11/10/2018 Innov8 Real Estate Co-Working New Delhi Credence Family Office Pre-Series A 4,000,000\\n6 12/10/2018 Blackbuck Logistics Tech Largest Trucking Platform Bengaluru Sequoia Capital India Private Funding 14,680,000\\n7 12/10/2018 LetsTransport Logistics Tech Book Trucks Online Bengaluru Fosun International Series C 12,000,000\\nShowing 1 to 7 of 7 entries\\nPreviousNext\",\n",
       " \"Show\\n10\\n25\\n50\\n100\\nentries\\nSearch:\\nSr. No. Date (dd/mm/yyyy) Startup Name Industry / Vertical Sub-Vertical City / Location Investors' Name Investment Type Amount (In USD)\\n1 01/09/2018 Netmeds Consumer Internet Online Pharmacy Chain Chennai Sistema Asia Fund, Sistema JSFC and Tanncam Investment Private Equity 35,000,000\\n2 03/09/2018 Udaan B2B Platform Logistics and Shipping Bengaluru DST Global and Lightspeed Venture Partners’ global fund. Private Equity 225,000,000\\n3 03/09/2018 Daily hunt Consumer Internet News and ebooks Mobile App  Bengaluru Falcon Edge Private Equity 63,90,000\\n4 04/09/2018 3HCare Healthcare Healthcare Service Provider Delhi N/A Seed / Angel Funding 1,000,000\\n5 04/09/2018 HappyGoEasy Consumer Internet Online Travel Agecy Gurugram Korea Investment Partners (KIP), Samsung and China-based CITIC Capital and others Private Equity N/A\\n6 05/09/2018 Nykaa Consumer Internet Online Marketplace For Multi-brand Beauty Cosmetic and Wellness Products Mumbai Lighthouse Private Equity 15,72,00,000\\n7 05/09/2018 Mad Street Den Technology Computer Vision And Artificial Intelligence (Ai) Platform Chennai KDDI  Private Equity N/A\\n8 06/09/2018 Dream11 Consumer Internet Online Gaming Platform Mumbai Tencent, Kalaari Capital and Private equity firm Multiples Alternate Asset Management Private Equity 100,000,000\\n9 10/09/2018 MamaEarth Healthcare Online Marketplace For Mother and Babycare Products Gurugram Stellaris Ventures & Others Private Equity 4,000,000\\n10 11/09/2018 AutoGrid Technology AI-Based Energy Optimisation and Control Provider Bengaluru CLP Holdings Group, Innogy, Ørstead, and Tenaska Private Equity 32,000,000\\nShowing 1 to 10 of 14 entries\\nPreviousNext\",\n",
       " \"Show\\n10\\n25\\n50\\n100\\nentries\\nSearch:\\nSr. No. Date (dd/mm/yyyy) Startup Name Industry / Vertical Sub-Vertical City / Location Investors' Name Investment Type Amount (In USD)\\n1 01/08/2018 dishq Food-Tech Personalisation Technology Firm Focusing On The Food And Beverage Industry Bengaluru Farm To Fork, Arts Alliance, The Syndicate Fund, Sven Hensen, Zeroth and Artesian Venture Partners Seed/ Angel Funding 400,000\\n2 01/08/2018 HealthFin Finance Patient Financing Platform Pune Axilor, Sprout Venture Partners and others Seed/ Angel Funding N/A\\n3 02/08/2018 Samosa Labs Consumer Internet Social Media and Chat Entertainment Platform Hyderabad Xiaomi and Sequoia Capital India Private Equity 7,000,000\\n4 03/08/2018 ZiffyHomes Consumer Internet Online Home Rental Marketplace Gurugram Y Combinator Private Equity 120,000\\n5 07/08/2018 My OmNamo Consumer Internet Holy Platform Offering Customised Puja Packages To Individuals and Corporates Mumbai N/A Seed/ Angel Funding 1,000,000\\n6 07/08/2018 ShopX Consumer Internet Assisted E-commerce Platform Bengaluru Fung Strategic Holdings Private Equity 35,000,000\\n7 07/08/2018 MakeMyTrip Consumer Internet Online Travel Aggregator Gurugram MakeMyTrip Limited Private Equity 10,000,000\\n8 08/08/2018 Hansel io Consumer Internet Real-time Mobile App Management Bengaluru Vertex Ventures Seed/ Angel Funding 40,00,000\\n9 08/08/2018 Metro Bikes Consumer Internet Online Bike Rental Marketplace Bengaluru Sequoia Capital India Advisors, Accel Partners and G Raghunandan Private Equity 12,200,000\\n10 08/08/2018 Phone Pe Consumer Internet UPI Payments App Bengaluru Flipkart Private Equity 66,000,000\\nShowing 1 to 10 of 25 entries\\nPreviousNext\",\n",
       " \"Show\\n10\\n25\\n50\\n100\\nentries\\nSearch:\\nSr. No. Date (dd/mm/yyyy) Startup Name Industry / Vertical Sub-Vertical City / Location Investors' Name Investment Type Amount (In USD)\\n1 01/07/2018 Leena AI Technology HR Virtual Agent For Employees Gurugram Y Combinator Seed/ Angel Funding N/A\\n2 02/07/2018 Biryani By Kilo Consumer Internet Online Food Delivery Gurugram Ajay Relan and Vinay Mittal Seed/ Angel Funding 1,000,000\\n3 04/07/2018 Anchanto IT E-commerce Fulfilment Platform Pune MDI Ventures & Telkom Indonesia Private Equity 4,000,000\\n4 05/072018 Loan Tap Consumer Internet Online Lending Platform For Salaried Professionals Mumbai Shunwei Capital, Tuscan Ventures, Ashish Goenka, VC firms India Quotient and Kae Capital Private Equity 62,50,000\\n5 06/07/2018 PolicyBazaar Consumer Internet Online Insurance Selling Platform Gurugram Info Edge (India) Ltd and Temasek Private Equity 2,7700,000\\n6 09/07/2018 zippserv Consumer Internet Online Platform For Risk-Assessment Services For Real Estate Investments Bengaluru Info Edge (India) Ltd Seed/ Angel Funding 440,000\\n7 09/07/2018 Groww Consumer Internet Online Platform That Sells Direct Plans Of Mutual Funds Bengaluru Insignia Ventures Partners, Lightbridge Partners & Kairos Seed/ Angel Funding 1,100,000\\n8 10/07/2018 Avenue Growth Consumer Internet Online Platform That Connects Brands With Freelance Sales Professionals Gurugram Avtar Monga, chief operating office at IDFC Bank, Aditya Malik & Others Seed/ Angel Funding 437,000\\n9 10/07/2018 iNICU Healthcare Med-tech Platform Providing Care For Newborns Delhi Venture Catalysts Seed/ Angel Funding N/A\\n10 10/07/2018 Kinara Capital Finance Lending Platform For Micro and Small Enterprises Bengaluru ResponsAbility Private Equity 5,000,000\\nShowing 1 to 10 of 36 entries\\nPreviousNext\"]"
      ]
     },
     "execution_count": 59,
     "metadata": {},
     "output_type": "execute_result"
    }
   ],
   "source": [
    "Rating_tag= driver.find_elements_by_xpath('//div[@class=\"dataTables_wrapper no-footer\"]')\n",
    "Rating=[]\n",
    "for i in Rating_tag:\n",
    "    Rating.append(i.text.strip())\n",
    "Rating"
   ]
  },
  {
   "cell_type": "code",
   "execution_count": 61,
   "id": "586f6f9b",
   "metadata": {},
   "outputs": [],
   "source": [
    "driver.quit()"
   ]
  },
  {
   "cell_type": "markdown",
   "id": "f751a875",
   "metadata": {},
   "source": [
    "### Question-7 Write a program to scrap all the available details of best gaming laptops from digit.in."
   ]
  },
  {
   "cell_type": "markdown",
   "id": "69ca7c02",
   "metadata": {},
   "source": [
    "Q.8-Write a python program to scrape the details for all billionaires from www.forbes.com. \n",
    "Details to be scrapped: “Rank”, “Name”, “Net worth”, “Age”, “Citizenship”, “Source”, \n",
    "“Industry”"
   ]
  },
  {
   "cell_type": "code",
   "execution_count": 75,
   "id": "d5fec88b",
   "metadata": {},
   "outputs": [
    {
     "name": "stdout",
     "output_type": "stream",
     "text": [
      "Current page:  The Forbes 400 2021\n"
     ]
    }
   ],
   "source": [
    "import time\n",
    "import pandas as pd\n",
    "from selenium import webdriver \n",
    "from selenium.webdriver.common.action_chains import ActionChains \n",
    "from selenium.webdriver.common.by import By\n",
    "from bs4 import BeautifulSoup\n",
    "\n",
    "# path for chromedriver\n",
    "driver=webdriver.Chrome(r\"C:\\Program Files\\chromedriver.exe\")\n",
    "driver=webdriver.Chrome('chromedriver.exe')\n",
    "\n",
    "\n",
    "# enter keyword to search (URL)\n",
    "keyword = \"https://www.forbes.com/forbes-400//\"\n",
    "driver.get(keyword)\n",
    "\n",
    "time.sleep(4)\n",
    "# checking current window title\n",
    "print('Current page: ',driver.title)"
   ]
  },
  {
   "cell_type": "code",
   "execution_count": 90,
   "id": "977e2044",
   "metadata": {},
   "outputs": [
    {
     "data": {
      "text/plain": [
       "['Jeff Bezos', 'Elon Musk', 'Mark Zuckerberg']"
      ]
     },
     "execution_count": 90,
     "metadata": {},
     "output_type": "execute_result"
    }
   ],
   "source": [
    "name_tag= driver.find_elements_by_xpath('//div[@class=\"personName\"]')\n",
    "name=[]\n",
    "for i in name_tag:\n",
    "    name.append(i.text.strip())\n",
    "name[:3]"
   ]
  },
  {
   "cell_type": "code",
   "execution_count": 92,
   "id": "65f317ac",
   "metadata": {},
   "outputs": [
    {
     "data": {
      "text/plain": [
       "['$201 B', '$190.5 B', '$134.5 B', '$134 B', '$123 B']"
      ]
     },
     "execution_count": 92,
     "metadata": {},
     "output_type": "execute_result"
    }
   ],
   "source": [
    "rank_tag= driver.find_elements_by_xpath('//div[@class=\"netWorth\"]')\n",
    "rank=[]\n",
    "for i in rank_tag:\n",
    "    rank.append(i.text.strip())\n",
    "rank[:5]"
   ]
  },
  {
   "cell_type": "code",
   "execution_count": 93,
   "id": "4136c6ad",
   "metadata": {},
   "outputs": [
    {
     "data": {
      "text/plain": [
       "['57', '50', '37']"
      ]
     },
     "execution_count": 93,
     "metadata": {},
     "output_type": "execute_result"
    }
   ],
   "source": [
    "age_tag= driver.find_elements_by_xpath('//div[@class=\"age\"]')\n",
    "age=[]\n",
    "for i in age_tag:\n",
    "    age.append(i.text.strip())\n",
    "age[:3]"
   ]
  },
  {
   "cell_type": "code",
   "execution_count": 94,
   "id": "14275a10",
   "metadata": {},
   "outputs": [
    {
     "data": {
      "text/plain": [
       "['Washington', 'Texas', 'California']"
      ]
     },
     "execution_count": 94,
     "metadata": {},
     "output_type": "execute_result"
    }
   ],
   "source": [
    "place_tag= driver.find_elements_by_xpath('//div[@class=\"state\"]')\n",
    "place=[]\n",
    "for i in place_tag:\n",
    "    place.append(i.text.strip())\n",
    "place[:3]"
   ]
  },
  {
   "cell_type": "code",
   "execution_count": 95,
   "id": "4c1f3979",
   "metadata": {},
   "outputs": [
    {
     "data": {
      "text/plain": [
       "['Amazon', 'Tesla, SpaceX', 'Facebook']"
      ]
     },
     "execution_count": 95,
     "metadata": {},
     "output_type": "execute_result"
    }
   ],
   "source": [
    "source_tag= driver.find_elements_by_xpath('//div[@class=\"source\"]')\n",
    "source=[]\n",
    "for i in source_tag:\n",
    "    source.append(i.text.strip())\n",
    "source[:3]"
   ]
  },
  {
   "cell_type": "code",
   "execution_count": 100,
   "id": "29bf506d",
   "metadata": {},
   "outputs": [],
   "source": [
    "ds=pd.DataFrame({})\n",
    "ds['Name']=name\n",
    "ds['Net Worth']=rank\n",
    "ds['Age']=age\n",
    "ds['Citizenship']=place\n",
    "ds['Industry']=source"
   ]
  },
  {
   "cell_type": "code",
   "execution_count": 102,
   "id": "2ba3af34",
   "metadata": {},
   "outputs": [
    {
     "data": {
      "text/html": [
       "<div>\n",
       "<style scoped>\n",
       "    .dataframe tbody tr th:only-of-type {\n",
       "        vertical-align: middle;\n",
       "    }\n",
       "\n",
       "    .dataframe tbody tr th {\n",
       "        vertical-align: top;\n",
       "    }\n",
       "\n",
       "    .dataframe thead th {\n",
       "        text-align: right;\n",
       "    }\n",
       "</style>\n",
       "<table border=\"1\" class=\"dataframe\">\n",
       "  <thead>\n",
       "    <tr style=\"text-align: right;\">\n",
       "      <th></th>\n",
       "      <th>Name</th>\n",
       "      <th>Net Worth</th>\n",
       "      <th>Age</th>\n",
       "      <th>Citizenship</th>\n",
       "      <th>Industry</th>\n",
       "    </tr>\n",
       "  </thead>\n",
       "  <tbody>\n",
       "    <tr>\n",
       "      <th>0</th>\n",
       "      <td>Jeff Bezos</td>\n",
       "      <td>$201 B</td>\n",
       "      <td>57</td>\n",
       "      <td>Washington</td>\n",
       "      <td>Amazon</td>\n",
       "    </tr>\n",
       "    <tr>\n",
       "      <th>1</th>\n",
       "      <td>Elon Musk</td>\n",
       "      <td>$190.5 B</td>\n",
       "      <td>50</td>\n",
       "      <td>Texas</td>\n",
       "      <td>Tesla, SpaceX</td>\n",
       "    </tr>\n",
       "    <tr>\n",
       "      <th>2</th>\n",
       "      <td>Mark Zuckerberg</td>\n",
       "      <td>$134.5 B</td>\n",
       "      <td>37</td>\n",
       "      <td>California</td>\n",
       "      <td>Facebook</td>\n",
       "    </tr>\n",
       "    <tr>\n",
       "      <th>3</th>\n",
       "      <td>Bill Gates</td>\n",
       "      <td>$134 B</td>\n",
       "      <td>65</td>\n",
       "      <td>Washington</td>\n",
       "      <td>Microsoft</td>\n",
       "    </tr>\n",
       "    <tr>\n",
       "      <th>4</th>\n",
       "      <td>Larry Page</td>\n",
       "      <td>$123 B</td>\n",
       "      <td>48</td>\n",
       "      <td>California</td>\n",
       "      <td>Google</td>\n",
       "    </tr>\n",
       "    <tr>\n",
       "      <th>...</th>\n",
       "      <td>...</td>\n",
       "      <td>...</td>\n",
       "      <td>...</td>\n",
       "      <td>...</td>\n",
       "      <td>...</td>\n",
       "    </tr>\n",
       "    <tr>\n",
       "      <th>195</th>\n",
       "      <td>Charles Dolan &amp; family</td>\n",
       "      <td>$5.6 B</td>\n",
       "      <td>94</td>\n",
       "      <td>New York</td>\n",
       "      <td>cable television</td>\n",
       "    </tr>\n",
       "    <tr>\n",
       "      <th>196</th>\n",
       "      <td>Dagmar Dolby &amp; family</td>\n",
       "      <td>$5.6 B</td>\n",
       "      <td>80</td>\n",
       "      <td>California</td>\n",
       "      <td>Dolby Laboratories</td>\n",
       "    </tr>\n",
       "    <tr>\n",
       "      <th>197</th>\n",
       "      <td>Charles B. Johnson</td>\n",
       "      <td>$5.6 B</td>\n",
       "      <td>88</td>\n",
       "      <td>Florida</td>\n",
       "      <td>money management</td>\n",
       "    </tr>\n",
       "    <tr>\n",
       "      <th>198</th>\n",
       "      <td>Eric Smidt</td>\n",
       "      <td>$5.6 B</td>\n",
       "      <td>61</td>\n",
       "      <td>California</td>\n",
       "      <td>hardware stores</td>\n",
       "    </tr>\n",
       "    <tr>\n",
       "      <th>199</th>\n",
       "      <td>Bubba Cathy</td>\n",
       "      <td>$5.5 B</td>\n",
       "      <td>67</td>\n",
       "      <td>Georgia</td>\n",
       "      <td>Chick-fil-A</td>\n",
       "    </tr>\n",
       "  </tbody>\n",
       "</table>\n",
       "<p>200 rows × 5 columns</p>\n",
       "</div>"
      ],
      "text/plain": [
       "                       Name Net Worth Age Citizenship            Industry\n",
       "0                Jeff Bezos    $201 B  57  Washington              Amazon\n",
       "1                 Elon Musk  $190.5 B  50       Texas       Tesla, SpaceX\n",
       "2           Mark Zuckerberg  $134.5 B  37  California            Facebook\n",
       "3                Bill Gates    $134 B  65  Washington           Microsoft\n",
       "4                Larry Page    $123 B  48  California              Google\n",
       "..                      ...       ...  ..         ...                 ...\n",
       "195  Charles Dolan & family    $5.6 B  94    New York    cable television\n",
       "196   Dagmar Dolby & family    $5.6 B  80  California  Dolby Laboratories\n",
       "197      Charles B. Johnson    $5.6 B  88     Florida    money management\n",
       "198              Eric Smidt    $5.6 B  61  California     hardware stores\n",
       "199             Bubba Cathy    $5.5 B  67     Georgia         Chick-fil-A\n",
       "\n",
       "[200 rows x 5 columns]"
      ]
     },
     "execution_count": 102,
     "metadata": {},
     "output_type": "execute_result"
    }
   ],
   "source": [
    "ds"
   ]
  },
  {
   "cell_type": "code",
   "execution_count": 101,
   "id": "6c43b192",
   "metadata": {},
   "outputs": [],
   "source": [
    "#ds.to_csv('top100.csv', index=False)"
   ]
  },
  {
   "cell_type": "code",
   "execution_count": 104,
   "id": "4674d0e5",
   "metadata": {},
   "outputs": [],
   "source": [
    "driver.quit()"
   ]
  },
  {
   "cell_type": "markdown",
   "id": "9da97f9c",
   "metadata": {},
   "source": [
    "### Q.9 Write a program to extract at least 500 Comments, Comment upvote and time when comment was posted from any YouTube Video."
   ]
  },
  {
   "cell_type": "code",
   "execution_count": 107,
   "id": "d22085e5",
   "metadata": {},
   "outputs": [
    {
     "name": "stdout",
     "output_type": "stream",
     "text": [
      "Current page:  YouTube\n"
     ]
    }
   ],
   "source": [
    "import time\n",
    "import pandas as pd\n",
    "from selenium import webdriver \n",
    "from selenium.webdriver.common.action_chains import ActionChains \n",
    "from selenium.webdriver.common.by import By\n",
    "from bs4 import BeautifulSoup\n",
    "\n",
    "# path for chromedriver\n",
    "driver=webdriver.Chrome(r\"C:\\Program Files\\chromedriver.exe\")\n",
    "driver=webdriver.Chrome('chromedriver.exe')\n",
    "\n",
    "\n",
    "# enter keyword to search (URL)\n",
    "keyword = \"https://www.youtube.com/\"\n",
    "driver.get(keyword)\n",
    "\n",
    "time.sleep(4)\n",
    "# checking current window title\n",
    "print('Current page: ',driver.title)"
   ]
  },
  {
   "cell_type": "code",
   "execution_count": 109,
   "id": "62825980",
   "metadata": {},
   "outputs": [],
   "source": [
    "# search box\n",
    "search_box = driver.find_element(By.XPATH,'//input[@id=\"search\"]')\n",
    "search_box.send_keys('Tu mala mi Tula')\n",
    "time.sleep(2)\n",
    "\n",
    "# Search button\n",
    "search_button = driver.find_element(By.XPATH,'//button[@id=\"search-icon-legacy\"]').click()\n",
    "time.sleep(5)"
   ]
  },
  {
   "cell_type": "code",
   "execution_count": 110,
   "id": "57a362e9",
   "metadata": {},
   "outputs": [],
   "source": [
    "# Search button\n",
    "search_button = driver.find_element(By.XPATH,'//a[@class=\"yt-simple-endpoint style-scope ytd-video-renderer\"]').click()\n",
    "time.sleep(5)"
   ]
  },
  {
   "cell_type": "code",
   "execution_count": 139,
   "id": "1d2d8a34",
   "metadata": {},
   "outputs": [
    {
     "data": {
      "text/plain": [
       "['',\n",
       " \"This song is far better than many bollywood songs! Don't know why it is so calming and relaxing.\",\n",
       " '',\n",
       " 'Best song ever ❤️💯...with the best couple 💞.. missing u a lot Shri - Janhavi 💌💫',\n",
       " '',\n",
       " 'This song touches my heart, very soothing song \\nJust feel the lyrics 😇😇',\n",
       " '',\n",
       " 'This song is great and voice and timings and lyrics the best all no word to express only Devine 👍',\n",
       " '',\n",
       " 'Best couple ever seen!!!!!❤',\n",
       " '',\n",
       " 'This song heals the soul.... Can listen to it 1000 time without being bored',\n",
       " '',\n",
       " 'Evergreen song....❤️✨\\nStill I miss tejashree and shashank as couple 🥺💖',\n",
       " '',\n",
       " 'Nice song 👌👌👌',\n",
       " '',\n",
       " 'After listening to song I remembered my golden days of 2nd class when the serial was started.I miss that days😭',\n",
       " '',\n",
       " 'Best song ever seen!!!!❤']"
      ]
     },
     "execution_count": 139,
     "metadata": {},
     "output_type": "execute_result"
    }
   ],
   "source": [
    "comments_tag= driver.find_elements_by_xpath('//yt-formatted-string[@class=\"style-scope ytd-comment-renderer\"]')\n",
    "comments=[]\n",
    "for i in comments_tag:\n",
    "    comments.append(i.text.strip())\n",
    "comments[:20]"
   ]
  },
  {
   "cell_type": "code",
   "execution_count": 135,
   "id": "6923dc9b",
   "metadata": {},
   "outputs": [
    {
     "data": {
      "text/plain": [
       "['Rupesh Dharme',\n",
       " '19 Vijaya Dalvi',\n",
       " 'Atul P.',\n",
       " 'Anil Tikle',\n",
       " 'Mangala Ghaduse',\n",
       " 'Bhavika Patil',\n",
       " 'Aboli Galande',\n",
       " 'Rupali Gurav',\n",
       " 'Deeksha Agnihotri',\n",
       " 'Mangala Ghaduse']"
      ]
     },
     "execution_count": 135,
     "metadata": {},
     "output_type": "execute_result"
    }
   ],
   "source": [
    "Name_tag= driver.find_elements_by_xpath('//h3[@class=\"style-scope ytd-comment-renderer\"]')\n",
    "Name=[]\n",
    "for i in Name_tag:\n",
    "    Name.append(i.text.strip())\n",
    "Name[:10]"
   ]
  },
  {
   "cell_type": "code",
   "execution_count": 142,
   "id": "6cc20311",
   "metadata": {},
   "outputs": [],
   "source": [
    "df=pd.DataFrame({})\n",
    "df['Comments']=comments[:40]\n",
    "df['Comment Person Name']=Name[:40]"
   ]
  },
  {
   "cell_type": "code",
   "execution_count": 143,
   "id": "fb2725fd",
   "metadata": {},
   "outputs": [],
   "source": [
    "driver.quit()"
   ]
  },
  {
   "cell_type": "markdown",
   "id": "ab726be7",
   "metadata": {},
   "source": [
    "Q.10 Write a python program to scrape a data for all available Hostels from \n",
    "https://www.hostelworld.com/ in “London” location. You have to scrape hostel name, \n",
    "distance from city centre, ratings, total reviews, overall reviews, privates from price, dorms \n",
    "from price, facilities and property description."
   ]
  },
  {
   "cell_type": "code",
   "execution_count": 144,
   "id": "461aa57c",
   "metadata": {},
   "outputs": [
    {
     "name": "stdout",
     "output_type": "stream",
     "text": [
      "Current page:  Hostels Worldwide - Online Hostel Bookings, Ratings and Reviews\n"
     ]
    }
   ],
   "source": [
    "import time\n",
    "import pandas as pd\n",
    "from selenium import webdriver \n",
    "from selenium.webdriver.common.action_chains import ActionChains \n",
    "from selenium.webdriver.common.by import By\n",
    "from bs4 import BeautifulSoup\n",
    "\n",
    "# path for chromedriver\n",
    "driver=webdriver.Chrome(r\"C:\\Program Files\\chromedriver.exe\")\n",
    "driver=webdriver.Chrome('chromedriver.exe')\n",
    "\n",
    "\n",
    "# enter keyword to search (URL)\n",
    "keyword = \"https://www.hostelworld.com/\"\n",
    "driver.get(keyword)\n",
    "\n",
    "time.sleep(4)\n",
    "# checking current window title\n",
    "print('Current page: ',driver.title)"
   ]
  },
  {
   "cell_type": "code",
   "execution_count": 145,
   "id": "3b91543d",
   "metadata": {},
   "outputs": [],
   "source": [
    "# search box\n",
    "search_box = driver.find_element(By.XPATH,'//input[@id=\"location-text-input-field\"]')\n",
    "search_box.send_keys('LONDON')\n",
    "time.sleep(2)\n",
    "\n",
    "# Search button\n",
    "search_button = driver.find_element(By.XPATH,'//button[@id=\"search-button\"]').click()\n",
    "time.sleep(5)"
   ]
  },
  {
   "cell_type": "code",
   "execution_count": 160,
   "id": "26f976cd",
   "metadata": {},
   "outputs": [],
   "source": [
    "# search box check in \n",
    "#search_box = driver.find_element(By.XPATH,'//label[@class=\"body-3\"]')\n",
    "#search_box.send_keys('Oct 25, 2021')\n",
    "#time.sleep(1)\n",
    "\n",
    "#search box check out\n",
    "#search_box = driver.find_element(By.XPATH,'//div[@class=\"field-inner\"]')\n",
    "#search_box.send_keys('Oct 25, 2021')\n",
    "#time.sleep(1)\n",
    "\n",
    "#Number of guests\n",
    "#search_box = driver.find_element(By.XPATH,'//div[@class=\"field-inner guests-inner\"]')\n",
    "#search_box.send_keys('2')\n",
    "#time.sleep(2)\n",
    "\n",
    "# Search button\n",
    "search_button = driver.find_element(By.XPATH,'//button[@id=\"search-button\"]').click()\n",
    "time.sleep(5)"
   ]
  },
  {
   "cell_type": "code",
   "execution_count": 179,
   "id": "46d6368d",
   "metadata": {},
   "outputs": [
    {
     "data": {
      "text/plain": [
       "[\"St Christopher's Shepherds Bush\",\n",
       " 'Venture Hostel',\n",
       " \"Wombat's The City Hostel London\",\n",
       " 'Burlington Residence',\n",
       " 'Abercorn House']"
      ]
     },
     "execution_count": 179,
     "metadata": {},
     "output_type": "execute_result"
    }
   ],
   "source": [
    "hotel_tag= driver.find_elements_by_xpath('//h2[@class=\"title title-6\"]')\n",
    "hotel=[]\n",
    "for i in hotel_tag:\n",
    "    hotel.append(i.text.strip())\n",
    "hotel[:5]"
   ]
  },
  {
   "cell_type": "code",
   "execution_count": 180,
   "id": "493ca15d",
   "metadata": {},
   "outputs": [
    {
     "data": {
      "text/plain": [
       "['Hostel - 7km from city centre',\n",
       " 'Hostel - 6.9km from city centre',\n",
       " 'Hostel - 3.6km from city centre',\n",
       " 'Hostel - 7.1km from city centre',\n",
       " 'Hostel - 7.3km from city centre',\n",
       " 'Hostel - 1.8km from city centre']"
      ]
     },
     "execution_count": 180,
     "metadata": {},
     "output_type": "execute_result"
    }
   ],
   "source": [
    "distance_tag= driver.find_elements_by_xpath('//span[@class=\"description\"]')\n",
    "distance=[]\n",
    "for i in distance_tag:\n",
    "    distance.append(i.text.strip())\n",
    "distance[:6]"
   ]
  },
  {
   "cell_type": "code",
   "execution_count": 181,
   "id": "097ad3a2",
   "metadata": {},
   "outputs": [
    {
     "data": {
      "text/plain": [
       "['8.3', '8.8', '9.3', '7.4', '9.1', '8.6']"
      ]
     },
     "execution_count": 181,
     "metadata": {},
     "output_type": "execute_result"
    }
   ],
   "source": [
    "Rating_tag= driver.find_elements_by_xpath('//div[@class=\"score orange big\"]')\n",
    "Rating=[]\n",
    "for i in Rating_tag:\n",
    "    Rating.append(i.text.strip())\n",
    "Rating[:6]"
   ]
  },
  {
   "cell_type": "code",
   "execution_count": 182,
   "id": "bbd6220b",
   "metadata": {},
   "outputs": [
    {
     "data": {
      "text/plain": [
       "['Rs1541', 'Rs5975', 'Rs1615', 'Rs10249', 'Rs1932', 'Rs2317']"
      ]
     },
     "execution_count": 182,
     "metadata": {},
     "output_type": "execute_result"
    }
   ],
   "source": [
    "price_tag= driver.find_elements_by_xpath('//div[@class=\"price title-5\"]')\n",
    "price=[]\n",
    "for i in price_tag:\n",
    "    price.append(i.text.strip())\n",
    "price[:6]"
   ]
  },
  {
   "cell_type": "code",
   "execution_count": 183,
   "id": "66651997",
   "metadata": {},
   "outputs": [
    {
     "data": {
      "text/plain": [
       "['632 Total Reviews',\n",
       " '1171 Total Reviews',\n",
       " '13245 Total Reviews',\n",
       " '32 Total Reviews',\n",
       " '3667 Total Reviews',\n",
       " '3239 Total Reviews']"
      ]
     },
     "execution_count": 183,
     "metadata": {},
     "output_type": "execute_result"
    }
   ],
   "source": [
    "reviews_tag= driver.find_elements_by_xpath('//div[@class=\"reviews\"]')\n",
    "reviews=[]\n",
    "for i in reviews_tag:\n",
    "    reviews.append(i.text.strip())\n",
    "reviews[:6]"
   ]
  },
  {
   "cell_type": "code",
   "execution_count": 184,
   "id": "63827c7d",
   "metadata": {},
   "outputs": [
    {
     "data": {
      "text/plain": [
       "['Free WiFi\\nFollows Covid-19 sanitation guidance',\n",
       " 'Free WiFi',\n",
       " 'Free WiFi\\nFollows Covid-19 sanitation guidance',\n",
       " 'Free WiFi\\nFree Breakfast\\nFollows Covid-19 sanitation guidance',\n",
       " '',\n",
       " 'Free WiFi\\nFollows Covid-19 sanitation guidance']"
      ]
     },
     "execution_count": 184,
     "metadata": {},
     "output_type": "execute_result"
    }
   ],
   "source": [
    "facalites_tag= driver.find_elements_by_xpath('//div[@class=\"facilities-label facilities\"]')\n",
    "facalites=[]\n",
    "for i in facalites_tag:\n",
    "    facalites.append(i.text.strip())\n",
    "facalites[:6]"
   ]
  },
  {
   "cell_type": "code",
   "execution_count": 185,
   "id": "2f019cf1",
   "metadata": {},
   "outputs": [
    {
     "data": {
      "text/plain": [
       "['Perfect Location\\nSuperb Staff\\nAwesome Cleanliness',\n",
       " '',\n",
       " 'Perfect Location\\nSuperb Staff\\nFantastic Cleanliness',\n",
       " 'Perfect Location\\nSuperb Staff\\nFantastic Cleanliness',\n",
       " 'Perfect Location\\nBrilliant Staff\\nExcellent Cleanliness',\n",
       " 'Perfect Location\\nSuperb Staff\\nFantastic Cleanliness']"
      ]
     },
     "execution_count": 185,
     "metadata": {},
     "output_type": "execute_result"
    }
   ],
   "source": [
    "rating_factors_tag= driver.find_elements_by_xpath('//div[@class=\"rating-factors prop-card-tablet rating-factors small\"]')\n",
    "rating_factors=[]\n",
    "for i in rating_factors_tag:\n",
    "    rating_factors.append(i.text.strip())\n",
    "rating_factors[:6]"
   ]
  },
  {
   "cell_type": "code",
   "execution_count": 190,
   "id": "62dba911",
   "metadata": {},
   "outputs": [
    {
     "data": {
      "text/html": [
       "<div>\n",
       "<style scoped>\n",
       "    .dataframe tbody tr th:only-of-type {\n",
       "        vertical-align: middle;\n",
       "    }\n",
       "\n",
       "    .dataframe tbody tr th {\n",
       "        vertical-align: top;\n",
       "    }\n",
       "\n",
       "    .dataframe thead th {\n",
       "        text-align: right;\n",
       "    }\n",
       "</style>\n",
       "<table border=\"1\" class=\"dataframe\">\n",
       "  <thead>\n",
       "    <tr style=\"text-align: right;\">\n",
       "      <th></th>\n",
       "      <th>HOtel Name</th>\n",
       "      <th>Distance From City Centers</th>\n",
       "      <th>Privates and Dormsfrom price</th>\n",
       "      <th>Facilities</th>\n",
       "      <th>Property Description</th>\n",
       "      <th>Ratings</th>\n",
       "      <th>Reviews Total Overall</th>\n",
       "    </tr>\n",
       "  </thead>\n",
       "  <tbody>\n",
       "    <tr>\n",
       "      <th>0</th>\n",
       "      <td>St Christopher's Shepherds Bush</td>\n",
       "      <td>Hostel - 7km from city centre</td>\n",
       "      <td>Rs1541</td>\n",
       "      <td>Free WiFi\\nFollows Covid-19 sanitation guidance</td>\n",
       "      <td>Perfect Location\\nSuperb Staff\\nAwesome Cleanl...</td>\n",
       "      <td>8.3</td>\n",
       "      <td>632 Total Reviews</td>\n",
       "    </tr>\n",
       "    <tr>\n",
       "      <th>1</th>\n",
       "      <td>Venture Hostel</td>\n",
       "      <td>Hostel - 6.9km from city centre</td>\n",
       "      <td>Rs5975</td>\n",
       "      <td>Free WiFi</td>\n",
       "      <td></td>\n",
       "      <td>8.8</td>\n",
       "      <td>1171 Total Reviews</td>\n",
       "    </tr>\n",
       "    <tr>\n",
       "      <th>2</th>\n",
       "      <td>Wombat's The City Hostel London</td>\n",
       "      <td>Hostel - 3.6km from city centre</td>\n",
       "      <td>Rs1615</td>\n",
       "      <td>Free WiFi\\nFollows Covid-19 sanitation guidance</td>\n",
       "      <td>Perfect Location\\nSuperb Staff\\nFantastic Clea...</td>\n",
       "      <td>9.3</td>\n",
       "      <td>13245 Total Reviews</td>\n",
       "    </tr>\n",
       "    <tr>\n",
       "      <th>3</th>\n",
       "      <td>Burlington Residence</td>\n",
       "      <td>Hostel - 7.1km from city centre</td>\n",
       "      <td>Rs10249</td>\n",
       "      <td>Free WiFi\\nFree Breakfast\\nFollows Covid-19 sa...</td>\n",
       "      <td>Perfect Location\\nSuperb Staff\\nFantastic Clea...</td>\n",
       "      <td>7.4</td>\n",
       "      <td>32 Total Reviews</td>\n",
       "    </tr>\n",
       "    <tr>\n",
       "      <th>4</th>\n",
       "      <td>Abercorn House</td>\n",
       "      <td>Hostel - 7.3km from city centre</td>\n",
       "      <td>Rs1932</td>\n",
       "      <td></td>\n",
       "      <td>Perfect Location\\nBrilliant Staff\\nExcellent C...</td>\n",
       "      <td>9.1</td>\n",
       "      <td>3667 Total Reviews</td>\n",
       "    </tr>\n",
       "    <tr>\n",
       "      <th>5</th>\n",
       "      <td>St Christopher's Inn - London Bridge</td>\n",
       "      <td>Hostel - 1.8km from city centre</td>\n",
       "      <td>Rs2317</td>\n",
       "      <td>Free WiFi\\nFollows Covid-19 sanitation guidance</td>\n",
       "      <td>Perfect Location\\nSuperb Staff\\nFantastic Clea...</td>\n",
       "      <td>8.6</td>\n",
       "      <td>3239 Total Reviews</td>\n",
       "    </tr>\n",
       "    <tr>\n",
       "      <th>6</th>\n",
       "      <td>Hootananny Hostel</td>\n",
       "      <td>Hostel - 5km from city centre</td>\n",
       "      <td>Rs7448</td>\n",
       "      <td>Free WiFi\\nFree Breakfast</td>\n",
       "      <td>Perfect Location\\nSuperb Staff\\nAwesome Cleanl...</td>\n",
       "      <td>8.3</td>\n",
       "      <td>1414 Total Reviews</td>\n",
       "    </tr>\n",
       "    <tr>\n",
       "      <th>7</th>\n",
       "      <td>St Christopher's Oasis-Female Only</td>\n",
       "      <td>Hostel - 1.8km from city centre</td>\n",
       "      <td>Rs2414</td>\n",
       "      <td>Free WiFi\\nFollows Covid-19 sanitation guidance</td>\n",
       "      <td>Perfect Location\\nSuperb Staff\\nExcellent Clea...</td>\n",
       "      <td>6.9</td>\n",
       "      <td>602 Total Reviews</td>\n",
       "    </tr>\n",
       "    <tr>\n",
       "      <th>8</th>\n",
       "      <td>New Cross Inn Hostel</td>\n",
       "      <td>Hostel - 6.1km from city centre</td>\n",
       "      <td>Rs1576</td>\n",
       "      <td>Free WiFi\\nFree Breakfast</td>\n",
       "      <td>Wonderful Location\\nMarvellous Staff\\nAwesome ...</td>\n",
       "      <td>8.0</td>\n",
       "      <td>1026 Total Reviews</td>\n",
       "    </tr>\n",
       "    <tr>\n",
       "      <th>9</th>\n",
       "      <td>Smart Hyde Park View Hostel</td>\n",
       "      <td>Hostel - 5km from city centre</td>\n",
       "      <td>Rs1671</td>\n",
       "      <td>Free WiFi\\nFollows Covid-19 sanitation guidance</td>\n",
       "      <td>Perfect Location\\nSuperb Staff\\nExcellent Clea...</td>\n",
       "      <td>8.6</td>\n",
       "      <td>4490 Total Reviews</td>\n",
       "    </tr>\n",
       "    <tr>\n",
       "      <th>10</th>\n",
       "      <td>London Backpackers</td>\n",
       "      <td>Hostel - 11.9km from city centre</td>\n",
       "      <td>Rs6690</td>\n",
       "      <td>Free WiFi\\nFree Breakfast\\nFollows Covid-19 sa...</td>\n",
       "      <td>Perfect Location\\nSuperb Staff\\nFantastic Clea...</td>\n",
       "      <td>9.0</td>\n",
       "      <td>4134 Total Reviews</td>\n",
       "    </tr>\n",
       "    <tr>\n",
       "      <th>11</th>\n",
       "      <td>Selina Camden</td>\n",
       "      <td>Hostel - 5.5km from city centre</td>\n",
       "      <td>Rs3362</td>\n",
       "      <td>Free WiFi</td>\n",
       "      <td>Perfect Location\\nSuperb Staff\\nFantastic Clea...</td>\n",
       "      <td>8.4</td>\n",
       "      <td>10 Total Reviews</td>\n",
       "    </tr>\n",
       "    <tr>\n",
       "      <th>12</th>\n",
       "      <td>No.8 Willesden Hostel London</td>\n",
       "      <td>Hostel - 10km from city centre</td>\n",
       "      <td>Rs1238</td>\n",
       "      <td>Free WiFi\\nFollows Covid-19 sanitation guidance</td>\n",
       "      <td>Perfect Location\\nSuperb Staff\\nFantastic Clea...</td>\n",
       "      <td>8.3</td>\n",
       "      <td>4593 Total Reviews</td>\n",
       "    </tr>\n",
       "    <tr>\n",
       "      <th>13</th>\n",
       "      <td>St Christopher's Village</td>\n",
       "      <td>Hostel - 1.8km from city centre</td>\n",
       "      <td>Rs1495</td>\n",
       "      <td>Free WiFi\\nFollows Covid-19 sanitation guidance</td>\n",
       "      <td>Perfect Location\\nSuperb Staff\\nExcellent Clea...</td>\n",
       "      <td>7.5</td>\n",
       "      <td>10886 Total Reviews</td>\n",
       "    </tr>\n",
       "    <tr>\n",
       "      <th>14</th>\n",
       "      <td>St Christopher's Camden</td>\n",
       "      <td>Hostel - 4.3km from city centre</td>\n",
       "      <td>Rs1490</td>\n",
       "      <td>Free WiFi\\nFollows Covid-19 sanitation guidance</td>\n",
       "      <td>Perfect Location\\nMarvellous Staff\\nExcellent ...</td>\n",
       "      <td>9.1</td>\n",
       "      <td>3715 Total Reviews</td>\n",
       "    </tr>\n",
       "    <tr>\n",
       "      <th>15</th>\n",
       "      <td>Astor Museum Inn</td>\n",
       "      <td>Hostel - 2.2km from city centre</td>\n",
       "      <td>Rs22101</td>\n",
       "      <td>Free WiFi\\nFollows Covid-19 sanitation guidance</td>\n",
       "      <td>Perfect Location\\nSuperb Staff\\nFantastic Clea...</td>\n",
       "      <td>7.6</td>\n",
       "      <td>8755 Total Reviews</td>\n",
       "    </tr>\n",
       "    <tr>\n",
       "      <th>16</th>\n",
       "      <td>Astor Kensington</td>\n",
       "      <td>Hostel - 4.9km from city centre</td>\n",
       "      <td>Rs1029</td>\n",
       "      <td>Free WiFi\\nFollows Covid-19 sanitation guidance</td>\n",
       "      <td>Perfect Location\\nSuperb Staff\\nAwesome Cleanl...</td>\n",
       "      <td>9.0</td>\n",
       "      <td>6335 Total Reviews</td>\n",
       "    </tr>\n",
       "    <tr>\n",
       "      <th>17</th>\n",
       "      <td>Smart Camden Inn Hostel</td>\n",
       "      <td>Hostel - 4.4km from city centre</td>\n",
       "      <td>Rs1334</td>\n",
       "      <td>Free WiFi\\nFollows Covid-19 sanitation guidance</td>\n",
       "      <td>Perfect Location\\nSuperb Staff\\nFantastic Clea...</td>\n",
       "      <td>8.9</td>\n",
       "      <td>2699 Total Reviews</td>\n",
       "    </tr>\n",
       "    <tr>\n",
       "      <th>18</th>\n",
       "      <td>Astor Hyde Park</td>\n",
       "      <td>Hostel - 4.3km from city centre</td>\n",
       "      <td>Rs6690</td>\n",
       "      <td>Free WiFi\\nFollows Covid-19 sanitation guidance</td>\n",
       "      <td>Perfect Location\\nSuperb Staff\\nFantastic Clea...</td>\n",
       "      <td>7.9</td>\n",
       "      <td>11355 Total Reviews</td>\n",
       "    </tr>\n",
       "    <tr>\n",
       "      <th>19</th>\n",
       "      <td>Phoenix Hostel</td>\n",
       "      <td>Hostel - 4.2km from city centre</td>\n",
       "      <td>Rs1300</td>\n",
       "      <td>Free WiFi\\nFollows Covid-19 sanitation guidance</td>\n",
       "      <td>Perfect Location\\nSuperb Staff\\nExcellent Clea...</td>\n",
       "      <td>9.3</td>\n",
       "      <td>3443 Total Reviews</td>\n",
       "    </tr>\n",
       "    <tr>\n",
       "      <th>20</th>\n",
       "      <td>St Christopher's Inn - Liverpool Street</td>\n",
       "      <td>Hostel - 3.2km from city centre</td>\n",
       "      <td>Rs1759</td>\n",
       "      <td>Free WiFi\\nFollows Covid-19 sanitation guidance</td>\n",
       "      <td>Perfect Location\\nSuperb Staff\\nFantastic Clea...</td>\n",
       "      <td>8.1</td>\n",
       "      <td>362 Total Reviews</td>\n",
       "    </tr>\n",
       "    <tr>\n",
       "      <th>21</th>\n",
       "      <td>Mornington Camden</td>\n",
       "      <td>Hostel - 4.1km from city centre</td>\n",
       "      <td>Rs1448</td>\n",
       "      <td>Free WiFi</td>\n",
       "      <td>Perfect Location\\nMarvellous Staff\\nFantastic ...</td>\n",
       "      <td>7.9</td>\n",
       "      <td>43 Total Reviews</td>\n",
       "    </tr>\n",
       "    <tr>\n",
       "      <th>22</th>\n",
       "      <td>PubLove @ The Green Man, Paddington</td>\n",
       "      <td>Hostel - 4.3km from city centre</td>\n",
       "      <td>Rs1392</td>\n",
       "      <td>Free WiFi\\nFollows Covid-19 sanitation guidance</td>\n",
       "      <td>Perfect Location\\nSuperb Staff\\nFantastic Clea...</td>\n",
       "      <td>6.7</td>\n",
       "      <td>395 Total Reviews</td>\n",
       "    </tr>\n",
       "    <tr>\n",
       "      <th>23</th>\n",
       "      <td>London Waterloo Hostel</td>\n",
       "      <td>Hostel - 0.7km from city centre</td>\n",
       "      <td>Rs1552</td>\n",
       "      <td>Free WiFi\\nFree Breakfast\\nFollows Covid-19 sa...</td>\n",
       "      <td>Perfect Location\\nMarvellous Staff</td>\n",
       "      <td>8.6</td>\n",
       "      <td>2426 Total Reviews</td>\n",
       "    </tr>\n",
       "    <tr>\n",
       "      <th>24</th>\n",
       "      <td>Park Villa</td>\n",
       "      <td>Hostel - 6.3km from city centre</td>\n",
       "      <td>Rs1045</td>\n",
       "      <td>Free WiFi\\nFollows Covid-19 sanitation guidance</td>\n",
       "      <td>Perfect Location\\nSuperb Staff\\nExcellent Clea...</td>\n",
       "      <td>7.6</td>\n",
       "      <td>849 Total Reviews</td>\n",
       "    </tr>\n",
       "    <tr>\n",
       "      <th>25</th>\n",
       "      <td>Generator London</td>\n",
       "      <td>Hostel - 3km from city centre</td>\n",
       "      <td>Rs2128</td>\n",
       "      <td>Free WiFi\\nFollows Covid-19 sanitation guidance</td>\n",
       "      <td>Perfect Location\\nMarvellous Staff\\nExcellent ...</td>\n",
       "      <td>8.4</td>\n",
       "      <td>6756 Total Reviews</td>\n",
       "    </tr>\n",
       "    <tr>\n",
       "      <th>26</th>\n",
       "      <td>Safestay London Kensington Holland Park</td>\n",
       "      <td>Hostel - 5.9km from city centre</td>\n",
       "      <td>Rs3243</td>\n",
       "      <td>Free WiFi</td>\n",
       "      <td>Perfect Location\\nMarvellous Staff\\nFantastic ...</td>\n",
       "      <td>8.1</td>\n",
       "      <td>1093 Total Reviews</td>\n",
       "    </tr>\n",
       "    <tr>\n",
       "      <th>27</th>\n",
       "      <td>Safestay London Elephant &amp; Castle</td>\n",
       "      <td>Hostel - 1.7km from city centre</td>\n",
       "      <td>Rs1759</td>\n",
       "      <td>Free WiFi\\nFollows Covid-19 sanitation guidance</td>\n",
       "      <td>Perfect Location\\nMarvellous Staff\\nExcellent ...</td>\n",
       "      <td>6.7</td>\n",
       "      <td>3967 Total Reviews</td>\n",
       "    </tr>\n",
       "    <tr>\n",
       "      <th>28</th>\n",
       "      <td>Smart Russell Square Hostel</td>\n",
       "      <td>Hostel - 2.6km from city centre</td>\n",
       "      <td>Rs1536</td>\n",
       "      <td>Free WiFi\\nFollows Covid-19 sanitation guidance</td>\n",
       "      <td>Perfect Location\\nBrilliant Staff\\nAwesome Cle...</td>\n",
       "      <td>8.8</td>\n",
       "      <td>9526 Total Reviews</td>\n",
       "    </tr>\n",
       "  </tbody>\n",
       "</table>\n",
       "</div>"
      ],
      "text/plain": [
       "                                 HOtel Name        Distance From City Centers  \\\n",
       "0           St Christopher's Shepherds Bush     Hostel - 7km from city centre   \n",
       "1                            Venture Hostel   Hostel - 6.9km from city centre   \n",
       "2           Wombat's The City Hostel London   Hostel - 3.6km from city centre   \n",
       "3                      Burlington Residence   Hostel - 7.1km from city centre   \n",
       "4                            Abercorn House   Hostel - 7.3km from city centre   \n",
       "5      St Christopher's Inn - London Bridge   Hostel - 1.8km from city centre   \n",
       "6                         Hootananny Hostel     Hostel - 5km from city centre   \n",
       "7        St Christopher's Oasis-Female Only   Hostel - 1.8km from city centre   \n",
       "8                      New Cross Inn Hostel   Hostel - 6.1km from city centre   \n",
       "9               Smart Hyde Park View Hostel     Hostel - 5km from city centre   \n",
       "10                       London Backpackers  Hostel - 11.9km from city centre   \n",
       "11                            Selina Camden   Hostel - 5.5km from city centre   \n",
       "12             No.8 Willesden Hostel London    Hostel - 10km from city centre   \n",
       "13                 St Christopher's Village   Hostel - 1.8km from city centre   \n",
       "14                  St Christopher's Camden   Hostel - 4.3km from city centre   \n",
       "15                         Astor Museum Inn   Hostel - 2.2km from city centre   \n",
       "16                         Astor Kensington   Hostel - 4.9km from city centre   \n",
       "17                  Smart Camden Inn Hostel   Hostel - 4.4km from city centre   \n",
       "18                          Astor Hyde Park   Hostel - 4.3km from city centre   \n",
       "19                           Phoenix Hostel   Hostel - 4.2km from city centre   \n",
       "20  St Christopher's Inn - Liverpool Street   Hostel - 3.2km from city centre   \n",
       "21                        Mornington Camden   Hostel - 4.1km from city centre   \n",
       "22      PubLove @ The Green Man, Paddington   Hostel - 4.3km from city centre   \n",
       "23                   London Waterloo Hostel   Hostel - 0.7km from city centre   \n",
       "24                               Park Villa   Hostel - 6.3km from city centre   \n",
       "25                         Generator London     Hostel - 3km from city centre   \n",
       "26  Safestay London Kensington Holland Park   Hostel - 5.9km from city centre   \n",
       "27        Safestay London Elephant & Castle   Hostel - 1.7km from city centre   \n",
       "28              Smart Russell Square Hostel   Hostel - 2.6km from city centre   \n",
       "\n",
       "   Privates and Dormsfrom price  \\\n",
       "0                        Rs1541   \n",
       "1                        Rs5975   \n",
       "2                        Rs1615   \n",
       "3                       Rs10249   \n",
       "4                        Rs1932   \n",
       "5                        Rs2317   \n",
       "6                        Rs7448   \n",
       "7                        Rs2414   \n",
       "8                        Rs1576   \n",
       "9                        Rs1671   \n",
       "10                       Rs6690   \n",
       "11                       Rs3362   \n",
       "12                       Rs1238   \n",
       "13                       Rs1495   \n",
       "14                       Rs1490   \n",
       "15                      Rs22101   \n",
       "16                       Rs1029   \n",
       "17                       Rs1334   \n",
       "18                       Rs6690   \n",
       "19                       Rs1300   \n",
       "20                       Rs1759   \n",
       "21                       Rs1448   \n",
       "22                       Rs1392   \n",
       "23                       Rs1552   \n",
       "24                       Rs1045   \n",
       "25                       Rs2128   \n",
       "26                       Rs3243   \n",
       "27                       Rs1759   \n",
       "28                       Rs1536   \n",
       "\n",
       "                                           Facilities  \\\n",
       "0     Free WiFi\\nFollows Covid-19 sanitation guidance   \n",
       "1                                           Free WiFi   \n",
       "2     Free WiFi\\nFollows Covid-19 sanitation guidance   \n",
       "3   Free WiFi\\nFree Breakfast\\nFollows Covid-19 sa...   \n",
       "4                                                       \n",
       "5     Free WiFi\\nFollows Covid-19 sanitation guidance   \n",
       "6                           Free WiFi\\nFree Breakfast   \n",
       "7     Free WiFi\\nFollows Covid-19 sanitation guidance   \n",
       "8                           Free WiFi\\nFree Breakfast   \n",
       "9     Free WiFi\\nFollows Covid-19 sanitation guidance   \n",
       "10  Free WiFi\\nFree Breakfast\\nFollows Covid-19 sa...   \n",
       "11                                          Free WiFi   \n",
       "12    Free WiFi\\nFollows Covid-19 sanitation guidance   \n",
       "13    Free WiFi\\nFollows Covid-19 sanitation guidance   \n",
       "14    Free WiFi\\nFollows Covid-19 sanitation guidance   \n",
       "15    Free WiFi\\nFollows Covid-19 sanitation guidance   \n",
       "16    Free WiFi\\nFollows Covid-19 sanitation guidance   \n",
       "17    Free WiFi\\nFollows Covid-19 sanitation guidance   \n",
       "18    Free WiFi\\nFollows Covid-19 sanitation guidance   \n",
       "19    Free WiFi\\nFollows Covid-19 sanitation guidance   \n",
       "20    Free WiFi\\nFollows Covid-19 sanitation guidance   \n",
       "21                                          Free WiFi   \n",
       "22    Free WiFi\\nFollows Covid-19 sanitation guidance   \n",
       "23  Free WiFi\\nFree Breakfast\\nFollows Covid-19 sa...   \n",
       "24    Free WiFi\\nFollows Covid-19 sanitation guidance   \n",
       "25    Free WiFi\\nFollows Covid-19 sanitation guidance   \n",
       "26                                          Free WiFi   \n",
       "27    Free WiFi\\nFollows Covid-19 sanitation guidance   \n",
       "28    Free WiFi\\nFollows Covid-19 sanitation guidance   \n",
       "\n",
       "                                 Property Description Ratings  \\\n",
       "0   Perfect Location\\nSuperb Staff\\nAwesome Cleanl...     8.3   \n",
       "1                                                         8.8   \n",
       "2   Perfect Location\\nSuperb Staff\\nFantastic Clea...     9.3   \n",
       "3   Perfect Location\\nSuperb Staff\\nFantastic Clea...     7.4   \n",
       "4   Perfect Location\\nBrilliant Staff\\nExcellent C...     9.1   \n",
       "5   Perfect Location\\nSuperb Staff\\nFantastic Clea...     8.6   \n",
       "6   Perfect Location\\nSuperb Staff\\nAwesome Cleanl...     8.3   \n",
       "7   Perfect Location\\nSuperb Staff\\nExcellent Clea...     6.9   \n",
       "8   Wonderful Location\\nMarvellous Staff\\nAwesome ...     8.0   \n",
       "9   Perfect Location\\nSuperb Staff\\nExcellent Clea...     8.6   \n",
       "10  Perfect Location\\nSuperb Staff\\nFantastic Clea...     9.0   \n",
       "11  Perfect Location\\nSuperb Staff\\nFantastic Clea...     8.4   \n",
       "12  Perfect Location\\nSuperb Staff\\nFantastic Clea...     8.3   \n",
       "13  Perfect Location\\nSuperb Staff\\nExcellent Clea...     7.5   \n",
       "14  Perfect Location\\nMarvellous Staff\\nExcellent ...     9.1   \n",
       "15  Perfect Location\\nSuperb Staff\\nFantastic Clea...     7.6   \n",
       "16  Perfect Location\\nSuperb Staff\\nAwesome Cleanl...     9.0   \n",
       "17  Perfect Location\\nSuperb Staff\\nFantastic Clea...     8.9   \n",
       "18  Perfect Location\\nSuperb Staff\\nFantastic Clea...     7.9   \n",
       "19  Perfect Location\\nSuperb Staff\\nExcellent Clea...     9.3   \n",
       "20  Perfect Location\\nSuperb Staff\\nFantastic Clea...     8.1   \n",
       "21  Perfect Location\\nMarvellous Staff\\nFantastic ...     7.9   \n",
       "22  Perfect Location\\nSuperb Staff\\nFantastic Clea...     6.7   \n",
       "23                 Perfect Location\\nMarvellous Staff     8.6   \n",
       "24  Perfect Location\\nSuperb Staff\\nExcellent Clea...     7.6   \n",
       "25  Perfect Location\\nMarvellous Staff\\nExcellent ...     8.4   \n",
       "26  Perfect Location\\nMarvellous Staff\\nFantastic ...     8.1   \n",
       "27  Perfect Location\\nMarvellous Staff\\nExcellent ...     6.7   \n",
       "28  Perfect Location\\nBrilliant Staff\\nAwesome Cle...     8.8   \n",
       "\n",
       "   Reviews Total Overall  \n",
       "0      632 Total Reviews  \n",
       "1     1171 Total Reviews  \n",
       "2    13245 Total Reviews  \n",
       "3       32 Total Reviews  \n",
       "4     3667 Total Reviews  \n",
       "5     3239 Total Reviews  \n",
       "6     1414 Total Reviews  \n",
       "7      602 Total Reviews  \n",
       "8     1026 Total Reviews  \n",
       "9     4490 Total Reviews  \n",
       "10    4134 Total Reviews  \n",
       "11      10 Total Reviews  \n",
       "12    4593 Total Reviews  \n",
       "13   10886 Total Reviews  \n",
       "14    3715 Total Reviews  \n",
       "15    8755 Total Reviews  \n",
       "16    6335 Total Reviews  \n",
       "17    2699 Total Reviews  \n",
       "18   11355 Total Reviews  \n",
       "19    3443 Total Reviews  \n",
       "20     362 Total Reviews  \n",
       "21      43 Total Reviews  \n",
       "22     395 Total Reviews  \n",
       "23    2426 Total Reviews  \n",
       "24     849 Total Reviews  \n",
       "25    6756 Total Reviews  \n",
       "26    1093 Total Reviews  \n",
       "27    3967 Total Reviews  \n",
       "28    9526 Total Reviews  "
      ]
     },
     "execution_count": 190,
     "metadata": {},
     "output_type": "execute_result"
    }
   ],
   "source": [
    "dr=pd.DataFrame({})\n",
    "dr['HOtel Name']=hotel[:29]\n",
    "dr['Distance From City Centers']=distance[:29]\n",
    "dr['Privates and Dormsfrom price']=price[:29]\n",
    "dr['Facilities']=facalites[:29]\n",
    "dr['Property Description']=rating_factors[:29]\n",
    "dr['Ratings']=Rating[:29]\n",
    "dr['Reviews Total Overall']=reviews[:29]\n",
    "dr"
   ]
  },
  {
   "cell_type": "code",
   "execution_count": 191,
   "id": "e79011f7",
   "metadata": {},
   "outputs": [],
   "source": [
    "#dt.to_csv('hostel wold.csv', index=False)"
   ]
  },
  {
   "cell_type": "code",
   "execution_count": 192,
   "id": "f08ec821",
   "metadata": {},
   "outputs": [],
   "source": [
    "driver.quit()"
   ]
  },
  {
   "cell_type": "code",
   "execution_count": null,
   "id": "7f5cde39",
   "metadata": {},
   "outputs": [],
   "source": []
  }
 ],
 "metadata": {
  "kernelspec": {
   "display_name": "Python 3",
   "language": "python",
   "name": "python3"
  },
  "language_info": {
   "codemirror_mode": {
    "name": "ipython",
    "version": 3
   },
   "file_extension": ".py",
   "mimetype": "text/x-python",
   "name": "python",
   "nbconvert_exporter": "python",
   "pygments_lexer": "ipython3",
   "version": "3.8.8"
  }
 },
 "nbformat": 4,
 "nbformat_minor": 5
}
