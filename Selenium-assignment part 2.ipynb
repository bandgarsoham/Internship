{
 "cells": [
  {
   "cell_type": "markdown",
   "id": "9378794c",
   "metadata": {},
   "source": [
    "### Q8: Scrape data for first 100 sneakers you find when you visit flipkart.com and search for “sneakers” in the search field."
   ]
  },
  {
   "cell_type": "code",
   "execution_count": 125,
   "id": "925437b9",
   "metadata": {},
   "outputs": [],
   "source": [
    "#lets first connect to the web driver\n",
    "driver=webdriver.Chrome(r\"C:\\Program Files\\chromedriver.exe\")"
   ]
  },
  {
   "cell_type": "code",
   "execution_count": 126,
   "id": "4805f798",
   "metadata": {},
   "outputs": [],
   "source": [
    "driver.get(\"https://www.flipkart.com\")"
   ]
  },
  {
   "cell_type": "code",
   "execution_count": 127,
   "id": "21999a52",
   "metadata": {},
   "outputs": [],
   "source": [
    "#finding element for job search bar\n",
    "#search_job=driver.find_element_by_id(\"_3704LK\")\n",
    "#search_job.send_keys(\"sneakers\")"
   ]
  },
  {
   "cell_type": "code",
   "execution_count": 130,
   "id": "64f7875a",
   "metadata": {},
   "outputs": [],
   "source": [
    "brand_tag=driver.find_elements_by_xpath('//div[@class=\"_2WkVRV\"]') #extract all tags from brand"
   ]
  },
  {
   "cell_type": "code",
   "execution_count": 131,
   "id": "15fd753f",
   "metadata": {},
   "outputs": [
    {
     "data": {
      "text/plain": [
       "['D-SNEAKERZ', 'BIRDE', 'Numenzo', 'Magnolia', 'BRUTON', 'Robbie jones']"
      ]
     },
     "execution_count": 131,
     "metadata": {},
     "output_type": "execute_result"
    }
   ],
   "source": [
    "brand=[] #empty list\n",
    "for i in brand_tag:\n",
    "# So we will run a loop to iterate over the tags extracted above and extract the text inside them.\n",
    "    brand.append(i.text.strip()) \n",
    "brand[:6]"
   ]
  },
  {
   "cell_type": "code",
   "execution_count": 132,
   "id": "bf4799d7",
   "metadata": {},
   "outputs": [],
   "source": [
    "prod_des_tag=driver.find_elements_by_xpath('//a[@class=\"IRpwTa\"]')"
   ]
  },
  {
   "cell_type": "code",
   "execution_count": 133,
   "id": "7e7e5a03",
   "metadata": {},
   "outputs": [
    {
     "data": {
      "text/plain": [
       "[\"Casual , Partywear Sneakers Shoes For Men's And Boys Wh...\",\n",
       " 'Birde Trendy Casual Shoes Sneakers For Men',\n",
       " '411 Casual Sneakers For Men',\n",
       " 'Sneakers For Men',\n",
       " 'Combo Pack Of 4 Casual Shoes Loafer Shoes Sneakers For ...',\n",
       " 'Casual Sneakers Shoes For Men Sneakers For Men']"
      ]
     },
     "execution_count": 133,
     "metadata": {},
     "output_type": "execute_result"
    }
   ],
   "source": [
    "prod_des=[]\n",
    "for i in prod_des_tag:\n",
    "    prod_des.append(i.text.strip())\n",
    "prod_des[:6]"
   ]
  },
  {
   "cell_type": "code",
   "execution_count": 134,
   "id": "d919a0cc",
   "metadata": {},
   "outputs": [],
   "source": [
    "price_tag=driver.find_elements_by_xpath('//div[@class=\"_30jeq3\"]')"
   ]
  },
  {
   "cell_type": "code",
   "execution_count": 135,
   "id": "6f913968",
   "metadata": {},
   "outputs": [
    {
     "data": {
      "text/plain": [
       "['₹348', '₹399', '₹499', '₹398', '₹472', '₹379']"
      ]
     },
     "execution_count": 135,
     "metadata": {},
     "output_type": "execute_result"
    }
   ],
   "source": [
    "price=[]\n",
    "for i in price_tag:\n",
    "    price.append(i.text.strip())\n",
    "price[:6]"
   ]
  },
  {
   "cell_type": "code",
   "execution_count": 136,
   "id": "628a00e2",
   "metadata": {},
   "outputs": [],
   "source": [
    "discount_tag=driver.find_elements_by_xpath('//div[@class=\"_3Ay6Sb\"]')"
   ]
  },
  {
   "cell_type": "code",
   "execution_count": 137,
   "id": "64bdfb51",
   "metadata": {},
   "outputs": [
    {
     "data": {
      "text/plain": [
       "['47% off', '20% off', '75% off', '60% off', '88% off', '62% off']"
      ]
     },
     "execution_count": 137,
     "metadata": {},
     "output_type": "execute_result"
    }
   ],
   "source": [
    "discount=[]\n",
    "for i in discount_tag:\n",
    "    discount.append(i.text.strip())\n",
    "discount[:6]"
   ]
  },
  {
   "cell_type": "code",
   "execution_count": 138,
   "id": "a14a5c31",
   "metadata": {},
   "outputs": [],
   "source": [
    "sneakers=pd.DataFrame({})\n",
    "sneakers[\"Brand\"]=brand[:10]\n",
    "sneakers['Product Description']=prod_des[:10]\n",
    "sneakers['Price']=price[:10]\n",
    "sneakers['Discount % ']=discount[:10]"
   ]
  },
  {
   "cell_type": "code",
   "execution_count": 139,
   "id": "a766c48b",
   "metadata": {},
   "outputs": [
    {
     "data": {
      "text/html": [
       "<div>\n",
       "<style scoped>\n",
       "    .dataframe tbody tr th:only-of-type {\n",
       "        vertical-align: middle;\n",
       "    }\n",
       "\n",
       "    .dataframe tbody tr th {\n",
       "        vertical-align: top;\n",
       "    }\n",
       "\n",
       "    .dataframe thead th {\n",
       "        text-align: right;\n",
       "    }\n",
       "</style>\n",
       "<table border=\"1\" class=\"dataframe\">\n",
       "  <thead>\n",
       "    <tr style=\"text-align: right;\">\n",
       "      <th></th>\n",
       "      <th>Brand</th>\n",
       "      <th>Product Description</th>\n",
       "      <th>Price</th>\n",
       "      <th>Discount %</th>\n",
       "    </tr>\n",
       "  </thead>\n",
       "  <tbody>\n",
       "    <tr>\n",
       "      <th>0</th>\n",
       "      <td>D-SNEAKERZ</td>\n",
       "      <td>Casual , Partywear Sneakers Shoes For Men's An...</td>\n",
       "      <td>₹348</td>\n",
       "      <td>47% off</td>\n",
       "    </tr>\n",
       "    <tr>\n",
       "      <th>1</th>\n",
       "      <td>BIRDE</td>\n",
       "      <td>Birde Trendy Casual Shoes Sneakers For Men</td>\n",
       "      <td>₹399</td>\n",
       "      <td>20% off</td>\n",
       "    </tr>\n",
       "    <tr>\n",
       "      <th>2</th>\n",
       "      <td>Numenzo</td>\n",
       "      <td>411 Casual Sneakers For Men</td>\n",
       "      <td>₹499</td>\n",
       "      <td>75% off</td>\n",
       "    </tr>\n",
       "    <tr>\n",
       "      <th>3</th>\n",
       "      <td>Magnolia</td>\n",
       "      <td>Sneakers For Men</td>\n",
       "      <td>₹398</td>\n",
       "      <td>60% off</td>\n",
       "    </tr>\n",
       "    <tr>\n",
       "      <th>4</th>\n",
       "      <td>BRUTON</td>\n",
       "      <td>Combo Pack Of 4 Casual Shoes Loafer Shoes Snea...</td>\n",
       "      <td>₹472</td>\n",
       "      <td>88% off</td>\n",
       "    </tr>\n",
       "    <tr>\n",
       "      <th>5</th>\n",
       "      <td>Robbie jones</td>\n",
       "      <td>Casual Sneakers Shoes For Men Sneakers For Men</td>\n",
       "      <td>₹379</td>\n",
       "      <td>62% off</td>\n",
       "    </tr>\n",
       "    <tr>\n",
       "      <th>6</th>\n",
       "      <td>BRUTON</td>\n",
       "      <td>Modern Trendy Sneakers Shoes Sneakers For Men</td>\n",
       "      <td>₹399</td>\n",
       "      <td>69% off</td>\n",
       "    </tr>\n",
       "    <tr>\n",
       "      <th>7</th>\n",
       "      <td>luxury fashion</td>\n",
       "      <td>luxury fashionable casual snealer shoes Sneake...</td>\n",
       "      <td>₹399</td>\n",
       "      <td>69% off</td>\n",
       "    </tr>\n",
       "    <tr>\n",
       "      <th>8</th>\n",
       "      <td>HOTSTYLE</td>\n",
       "      <td>Sneakers For Men</td>\n",
       "      <td>₹296</td>\n",
       "      <td>70% off</td>\n",
       "    </tr>\n",
       "    <tr>\n",
       "      <th>9</th>\n",
       "      <td>Numenzo</td>\n",
       "      <td>Sneakers For Men</td>\n",
       "      <td>₹449</td>\n",
       "      <td>65% off</td>\n",
       "    </tr>\n",
       "  </tbody>\n",
       "</table>\n",
       "</div>"
      ],
      "text/plain": [
       "            Brand                                Product Description Price  \\\n",
       "0      D-SNEAKERZ  Casual , Partywear Sneakers Shoes For Men's An...  ₹348   \n",
       "1           BIRDE         Birde Trendy Casual Shoes Sneakers For Men  ₹399   \n",
       "2         Numenzo                        411 Casual Sneakers For Men  ₹499   \n",
       "3        Magnolia                                   Sneakers For Men  ₹398   \n",
       "4          BRUTON  Combo Pack Of 4 Casual Shoes Loafer Shoes Snea...  ₹472   \n",
       "5    Robbie jones     Casual Sneakers Shoes For Men Sneakers For Men  ₹379   \n",
       "6          BRUTON      Modern Trendy Sneakers Shoes Sneakers For Men  ₹399   \n",
       "7  luxury fashion  luxury fashionable casual snealer shoes Sneake...  ₹399   \n",
       "8        HOTSTYLE                                   Sneakers For Men  ₹296   \n",
       "9         Numenzo                                   Sneakers For Men  ₹449   \n",
       "\n",
       "  Discount %   \n",
       "0     47% off  \n",
       "1     20% off  \n",
       "2     75% off  \n",
       "3     60% off  \n",
       "4     88% off  \n",
       "5     62% off  \n",
       "6     69% off  \n",
       "7     69% off  \n",
       "8     70% off  \n",
       "9     65% off  "
      ]
     },
     "execution_count": 139,
     "metadata": {},
     "output_type": "execute_result"
    }
   ],
   "source": [
    "sneakers"
   ]
  },
  {
   "cell_type": "code",
   "execution_count": 140,
   "id": "da37decf",
   "metadata": {},
   "outputs": [],
   "source": [
    "#lets first connect to the web driver\n",
    "driver=webdriver.Chrome(r\"C:\\Program Files\\chromedriver.exe\")"
   ]
  },
  {
   "cell_type": "code",
   "execution_count": 141,
   "id": "84a83dff",
   "metadata": {},
   "outputs": [],
   "source": [
    "#driver=webdriver.Chrome(\"chromedriver.exe\")"
   ]
  },
  {
   "cell_type": "code",
   "execution_count": 142,
   "id": "c003decb",
   "metadata": {},
   "outputs": [],
   "source": [
    "driver.get('https://www.myntra.com/shoes')"
   ]
  },
  {
   "cell_type": "code",
   "execution_count": 143,
   "id": "a1ba13c6",
   "metadata": {},
   "outputs": [],
   "source": [
    "#locating the price filter\n",
    "filter_button=driver.find_elements_by_xpath('//input[@class=\"price-input\"]')\n",
    "for i in filter_button:\n",
    "    if i.text=='Rs. 6649 to Rs. 13099':\n",
    "        i.click()\n",
    "        break"
   ]
  },
  {
   "cell_type": "code",
   "execution_count": 144,
   "id": "b8b7e1b8",
   "metadata": {},
   "outputs": [],
   "source": [
    "#locating the color filter\n",
    "filter_button=driver.find_elements_by_xpath('//label[@class=\"common-customCheckbox\"]')\n",
    "for i in filter_button:\n",
    "    if i.text=='Black':\n",
    "        i.click()\n",
    "        break"
   ]
  },
  {
   "cell_type": "code",
   "execution_count": 145,
   "id": "c3d46e73",
   "metadata": {},
   "outputs": [],
   "source": [
    "brand_tag=driver.find_elements_by_xpath('//h3[@class=\"product-brand\"]')"
   ]
  },
  {
   "cell_type": "code",
   "execution_count": 146,
   "id": "f5c1ff00",
   "metadata": {},
   "outputs": [
    {
     "data": {
      "text/plain": [
       "['ALDO',\n",
       " 'ALDO',\n",
       " 'Puma',\n",
       " 'PUMA Motorsport',\n",
       " 'PUMA Motorsport',\n",
       " 'PUMA Motorsport']"
      ]
     },
     "execution_count": 146,
     "metadata": {},
     "output_type": "execute_result"
    }
   ],
   "source": [
    "brand=[]\n",
    "for i in brand_tag:\n",
    "    brand.append(i.text.strip())\n",
    "brand[:6]"
   ]
  },
  {
   "cell_type": "code",
   "execution_count": 147,
   "id": "26233237",
   "metadata": {},
   "outputs": [],
   "source": [
    "description_tag=driver.find_elements_by_xpath('//h4[@class=\"product-product\"]')"
   ]
  },
  {
   "cell_type": "code",
   "execution_count": 148,
   "id": "31614bdf",
   "metadata": {},
   "outputs": [
    {
     "data": {
      "text/plain": [
       "['Leather Solid Loafers',\n",
       " 'Men Driving Shoes',\n",
       " 'Men Jamming 2.0 Running Shoes',\n",
       " 'Unisex Scuderia Ferrari Shoes',\n",
       " 'Unisex Mercedes F1 Sneakers',\n",
       " 'Unisex FerrariRS-Fast Sneakers']"
      ]
     },
     "execution_count": 148,
     "metadata": {},
     "output_type": "execute_result"
    }
   ],
   "source": [
    "description=[]\n",
    "for i in description_tag:\n",
    "    description.append(i.text.strip())\n",
    "description[:6]"
   ]
  },
  {
   "cell_type": "code",
   "execution_count": 149,
   "id": "7b9e6c10",
   "metadata": {},
   "outputs": [],
   "source": [
    "price_tag=driver.find_elements_by_xpath('//div[@class=\"product-price\"]')"
   ]
  },
  {
   "cell_type": "code",
   "execution_count": 150,
   "id": "8e5b9622",
   "metadata": {},
   "outputs": [
    {
     "data": {
      "text/plain": [
       "['Rs. 10499Rs. 14999(30% OFF)',\n",
       " 'Rs. 11199Rs. 15999(30% OFF)',\n",
       " 'Rs. 8449Rs. 12999(35% OFF)',\n",
       " 'Rs. 7999Rs. 9999(20% OFF)',\n",
       " 'Rs. 7999Rs. 9999(20% OFF)',\n",
       " 'Rs. 7999Rs. 9999(20% OFF)']"
      ]
     },
     "execution_count": 150,
     "metadata": {},
     "output_type": "execute_result"
    }
   ],
   "source": [
    "price=[]\n",
    "for i in price_tag:\n",
    "    price.append(i.text.strip())\n",
    "price[:6]"
   ]
  },
  {
   "cell_type": "code",
   "execution_count": 151,
   "id": "0dfe4dac",
   "metadata": {},
   "outputs": [
    {
     "data": {
      "text/html": [
       "<div>\n",
       "<style scoped>\n",
       "    .dataframe tbody tr th:only-of-type {\n",
       "        vertical-align: middle;\n",
       "    }\n",
       "\n",
       "    .dataframe tbody tr th {\n",
       "        vertical-align: top;\n",
       "    }\n",
       "\n",
       "    .dataframe thead th {\n",
       "        text-align: right;\n",
       "    }\n",
       "</style>\n",
       "<table border=\"1\" class=\"dataframe\">\n",
       "  <thead>\n",
       "    <tr style=\"text-align: right;\">\n",
       "      <th></th>\n",
       "      <th>Brand of Shoes</th>\n",
       "      <th>Short Shoe Description</th>\n",
       "      <th>Price of Shoe</th>\n",
       "    </tr>\n",
       "  </thead>\n",
       "  <tbody>\n",
       "    <tr>\n",
       "      <th>0</th>\n",
       "      <td>ALDO</td>\n",
       "      <td>Leather Solid Loafers</td>\n",
       "      <td>Rs. 10499Rs. 14999(30% OFF)</td>\n",
       "    </tr>\n",
       "    <tr>\n",
       "      <th>1</th>\n",
       "      <td>ALDO</td>\n",
       "      <td>Men Driving Shoes</td>\n",
       "      <td>Rs. 11199Rs. 15999(30% OFF)</td>\n",
       "    </tr>\n",
       "    <tr>\n",
       "      <th>2</th>\n",
       "      <td>Puma</td>\n",
       "      <td>Men Jamming 2.0 Running Shoes</td>\n",
       "      <td>Rs. 8449Rs. 12999(35% OFF)</td>\n",
       "    </tr>\n",
       "    <tr>\n",
       "      <th>3</th>\n",
       "      <td>PUMA Motorsport</td>\n",
       "      <td>Unisex Scuderia Ferrari Shoes</td>\n",
       "      <td>Rs. 7999Rs. 9999(20% OFF)</td>\n",
       "    </tr>\n",
       "    <tr>\n",
       "      <th>4</th>\n",
       "      <td>PUMA Motorsport</td>\n",
       "      <td>Unisex Mercedes F1 Sneakers</td>\n",
       "      <td>Rs. 7999Rs. 9999(20% OFF)</td>\n",
       "    </tr>\n",
       "    <tr>\n",
       "      <th>5</th>\n",
       "      <td>PUMA Motorsport</td>\n",
       "      <td>Unisex FerrariRS-Fast Sneakers</td>\n",
       "      <td>Rs. 7999Rs. 9999(20% OFF)</td>\n",
       "    </tr>\n",
       "    <tr>\n",
       "      <th>6</th>\n",
       "      <td>Puma</td>\n",
       "      <td>Men Deviate Nitro Running Shoe</td>\n",
       "      <td>Rs. 11999Rs. 14999(20% OFF)</td>\n",
       "    </tr>\n",
       "    <tr>\n",
       "      <th>7</th>\n",
       "      <td>Hush Puppies</td>\n",
       "      <td>Men Solid Leather Formal Slip-Ons</td>\n",
       "      <td>Rs. 8099Rs. 8999(10% OFF)</td>\n",
       "    </tr>\n",
       "    <tr>\n",
       "      <th>8</th>\n",
       "      <td>Puma</td>\n",
       "      <td>Men Running Shoes</td>\n",
       "      <td>Rs. 9099Rs. 12999(30% OFF)</td>\n",
       "    </tr>\n",
       "    <tr>\n",
       "      <th>9</th>\n",
       "      <td>Puma</td>\n",
       "      <td>Unisex Mirage Remix Sneakers</td>\n",
       "      <td>Rs. 7199Rs. 8999(20% OFF)</td>\n",
       "    </tr>\n",
       "    <tr>\n",
       "      <th>10</th>\n",
       "      <td>ASICS</td>\n",
       "      <td>Women GlideRide Running Shoes</td>\n",
       "      <td>Rs. 11199Rs. 13999(20% OFF)</td>\n",
       "    </tr>\n",
       "    <tr>\n",
       "      <th>11</th>\n",
       "      <td>Hush Puppies</td>\n",
       "      <td>Men Solid Leather Formal Slip-Ons</td>\n",
       "      <td>Rs. 8999Rs. 9999(10% OFF)</td>\n",
       "    </tr>\n",
       "    <tr>\n",
       "      <th>12</th>\n",
       "      <td>UNDER ARMOUR</td>\n",
       "      <td>Women HOVR Sonic 4 Running</td>\n",
       "      <td>Rs. 7149Rs. 10999(35% OFF)</td>\n",
       "    </tr>\n",
       "    <tr>\n",
       "      <th>13</th>\n",
       "      <td>Puma</td>\n",
       "      <td>Men Liberate NITRO Running</td>\n",
       "      <td>Rs. 6999Rs. 9999(30% OFF)</td>\n",
       "    </tr>\n",
       "    <tr>\n",
       "      <th>14</th>\n",
       "      <td>Puma</td>\n",
       "      <td>Men Magnify Nitro Running</td>\n",
       "      <td>Rs. 9099Rs. 12999(30% OFF)</td>\n",
       "    </tr>\n",
       "    <tr>\n",
       "      <th>15</th>\n",
       "      <td>FORCLAZ By Decathlon</td>\n",
       "      <td>TREKKING 100 Boots</td>\n",
       "      <td>Rs. 6999</td>\n",
       "    </tr>\n",
       "    <tr>\n",
       "      <th>16</th>\n",
       "      <td>PUMA Motorsport</td>\n",
       "      <td>Unisex BMW RS-Connect Sneakers</td>\n",
       "      <td>Rs. 7999Rs. 9999(20% OFF)</td>\n",
       "    </tr>\n",
       "    <tr>\n",
       "      <th>17</th>\n",
       "      <td>Hush Puppies</td>\n",
       "      <td>Men Leather Slip-On Sneakers</td>\n",
       "      <td>Rs. 7999Rs. 9999(20% OFF)</td>\n",
       "    </tr>\n",
       "    <tr>\n",
       "      <th>18</th>\n",
       "      <td>UNDER ARMOUR</td>\n",
       "      <td>Women HOVR Sonic 4 FnRn</td>\n",
       "      <td>Rs. 7149Rs. 10999(35% OFF)</td>\n",
       "    </tr>\n",
       "    <tr>\n",
       "      <th>19</th>\n",
       "      <td>Puma</td>\n",
       "      <td>Unisex Leather Trainers</td>\n",
       "      <td>Rs. 6999Rs. 9999(30% OFF)</td>\n",
       "    </tr>\n",
       "    <tr>\n",
       "      <th>20</th>\n",
       "      <td>UNDER ARMOUR</td>\n",
       "      <td>Men Charged Commit 3 Training</td>\n",
       "      <td>Rs. 7999</td>\n",
       "    </tr>\n",
       "    <tr>\n",
       "      <th>21</th>\n",
       "      <td>Puma</td>\n",
       "      <td>Women Eternity NITRO Shoes</td>\n",
       "      <td>Rs. 7799Rs. 12999(40% OFF)</td>\n",
       "    </tr>\n",
       "    <tr>\n",
       "      <th>22</th>\n",
       "      <td>UNDER ARMOUR</td>\n",
       "      <td>Women Charged Rogue 2.5ClrSft</td>\n",
       "      <td>Rs. 7999</td>\n",
       "    </tr>\n",
       "    <tr>\n",
       "      <th>23</th>\n",
       "      <td>Nike</td>\n",
       "      <td>Men BlazerLow '77 Sneakers</td>\n",
       "      <td>Rs. 7195</td>\n",
       "    </tr>\n",
       "    <tr>\n",
       "      <th>24</th>\n",
       "      <td>Geox</td>\n",
       "      <td>Leather Heeled Boots</td>\n",
       "      <td>Rs. 12999</td>\n",
       "    </tr>\n",
       "    <tr>\n",
       "      <th>25</th>\n",
       "      <td>Kalenji By Decathlon</td>\n",
       "      <td>Men KD500 Running Shoe</td>\n",
       "      <td>Rs. 7773Rs. 8449(8% OFF)</td>\n",
       "    </tr>\n",
       "    <tr>\n",
       "      <th>26</th>\n",
       "      <td>Puma</td>\n",
       "      <td>Women Magnify Nitro Shoes</td>\n",
       "      <td>Rs. 8449Rs. 12999(35% OFF)</td>\n",
       "    </tr>\n",
       "    <tr>\n",
       "      <th>27</th>\n",
       "      <td>UNDER ARMOUR</td>\n",
       "      <td>Women Charged Assert 8 Running</td>\n",
       "      <td>Rs. 6999</td>\n",
       "    </tr>\n",
       "    <tr>\n",
       "      <th>28</th>\n",
       "      <td>UNDER ARMOUR</td>\n",
       "      <td>Women Charged Bandit 6 Running</td>\n",
       "      <td>Rs. 8999</td>\n",
       "    </tr>\n",
       "    <tr>\n",
       "      <th>29</th>\n",
       "      <td>DAVINCHI</td>\n",
       "      <td>Ustraa black</td>\n",
       "      <td>Rs. 8990</td>\n",
       "    </tr>\n",
       "    <tr>\n",
       "      <th>30</th>\n",
       "      <td>Hush Puppies</td>\n",
       "      <td>Men Formal Derbys</td>\n",
       "      <td>Rs. 8999Rs. 9999(10% OFF)</td>\n",
       "    </tr>\n",
       "    <tr>\n",
       "      <th>31</th>\n",
       "      <td>Saint G</td>\n",
       "      <td>Men Mid-Top Chelsea Boots</td>\n",
       "      <td>Rs. 10900</td>\n",
       "    </tr>\n",
       "    <tr>\n",
       "      <th>32</th>\n",
       "      <td>Saint G</td>\n",
       "      <td>Women Leather Heeled Boots</td>\n",
       "      <td>Rs. 9500</td>\n",
       "    </tr>\n",
       "    <tr>\n",
       "      <th>33</th>\n",
       "      <td>ASICS</td>\n",
       "      <td>Women NOVABLAST Road Running</td>\n",
       "      <td>Rs. 11049Rs. 12999(15% OFF)</td>\n",
       "    </tr>\n",
       "    <tr>\n",
       "      <th>34</th>\n",
       "      <td>J.FONTINI</td>\n",
       "      <td>Men Black Leather Loafers</td>\n",
       "      <td>Rs. 8490</td>\n",
       "    </tr>\n",
       "    <tr>\n",
       "      <th>35</th>\n",
       "      <td>Cole Haan</td>\n",
       "      <td>Men GENERATION ZEROGRAND STITCHLITE</td>\n",
       "      <td>Rs. 11999</td>\n",
       "    </tr>\n",
       "    <tr>\n",
       "      <th>36</th>\n",
       "      <td>J.FONTINI</td>\n",
       "      <td>Men Solid Loafers</td>\n",
       "      <td>Rs. 8990</td>\n",
       "    </tr>\n",
       "    <tr>\n",
       "      <th>37</th>\n",
       "      <td>Puma</td>\n",
       "      <td>Unisex Textured Sneakers</td>\n",
       "      <td>Rs. 7999Rs. 9999(20% OFF)</td>\n",
       "    </tr>\n",
       "    <tr>\n",
       "      <th>38</th>\n",
       "      <td>Heel &amp; Buckle London</td>\n",
       "      <td>Women Leather Pumps</td>\n",
       "      <td>Rs. 8900Rs. 8990(1% OFF)</td>\n",
       "    </tr>\n",
       "    <tr>\n",
       "      <th>39</th>\n",
       "      <td>Hush Puppies</td>\n",
       "      <td>Men Leather Derbys</td>\n",
       "      <td>Rs. 7199Rs. 7999(10% OFF)</td>\n",
       "    </tr>\n",
       "    <tr>\n",
       "      <th>40</th>\n",
       "      <td>Geox</td>\n",
       "      <td>Men Leather Formal Derbys</td>\n",
       "      <td>Rs. 9999</td>\n",
       "    </tr>\n",
       "    <tr>\n",
       "      <th>41</th>\n",
       "      <td>Puma</td>\n",
       "      <td>Unisex Mirage Sport Trainers</td>\n",
       "      <td>Rs. 6999Rs. 9999(30% OFF)</td>\n",
       "    </tr>\n",
       "    <tr>\n",
       "      <th>42</th>\n",
       "      <td>Ruosh</td>\n",
       "      <td>Men Formal Leather Brogues</td>\n",
       "      <td>Rs. 7490</td>\n",
       "    </tr>\n",
       "    <tr>\n",
       "      <th>43</th>\n",
       "      <td>ASICS</td>\n",
       "      <td>Women GlideRide Running Shoes</td>\n",
       "      <td>Rs. 11199Rs. 13999(20% OFF)</td>\n",
       "    </tr>\n",
       "    <tr>\n",
       "      <th>44</th>\n",
       "      <td>Ruosh</td>\n",
       "      <td>Men Solid Leather Formal Slip-Ons</td>\n",
       "      <td>Rs. 6990</td>\n",
       "    </tr>\n",
       "    <tr>\n",
       "      <th>45</th>\n",
       "      <td>J.FONTINI</td>\n",
       "      <td>Men Leather Formal Loafers</td>\n",
       "      <td>Rs. 6990</td>\n",
       "    </tr>\n",
       "    <tr>\n",
       "      <th>46</th>\n",
       "      <td>Ruosh</td>\n",
       "      <td>Men Solid Leather Formal Monks</td>\n",
       "      <td>Rs. 6990</td>\n",
       "    </tr>\n",
       "    <tr>\n",
       "      <th>47</th>\n",
       "      <td>Geox</td>\n",
       "      <td>Women Mid-Top Flat Boots</td>\n",
       "      <td>Rs. 10999</td>\n",
       "    </tr>\n",
       "    <tr>\n",
       "      <th>48</th>\n",
       "      <td>Heel &amp; Buckle London</td>\n",
       "      <td>Women High-Top Leather Heels</td>\n",
       "      <td>Rs. 7910Rs. 7990(1% OFF)</td>\n",
       "    </tr>\n",
       "    <tr>\n",
       "      <th>49</th>\n",
       "      <td>KIPRUN By Decathlon</td>\n",
       "      <td>Women Running Shoes</td>\n",
       "      <td>Rs. 7006Rs. 7149(2% OFF)</td>\n",
       "    </tr>\n",
       "  </tbody>\n",
       "</table>\n",
       "</div>"
      ],
      "text/plain": [
       "          Brand of Shoes               Short Shoe Description  \\\n",
       "0                   ALDO                Leather Solid Loafers   \n",
       "1                   ALDO                    Men Driving Shoes   \n",
       "2                   Puma        Men Jamming 2.0 Running Shoes   \n",
       "3        PUMA Motorsport        Unisex Scuderia Ferrari Shoes   \n",
       "4        PUMA Motorsport          Unisex Mercedes F1 Sneakers   \n",
       "5        PUMA Motorsport       Unisex FerrariRS-Fast Sneakers   \n",
       "6                   Puma       Men Deviate Nitro Running Shoe   \n",
       "7           Hush Puppies    Men Solid Leather Formal Slip-Ons   \n",
       "8                   Puma                    Men Running Shoes   \n",
       "9                   Puma         Unisex Mirage Remix Sneakers   \n",
       "10                 ASICS        Women GlideRide Running Shoes   \n",
       "11          Hush Puppies    Men Solid Leather Formal Slip-Ons   \n",
       "12          UNDER ARMOUR           Women HOVR Sonic 4 Running   \n",
       "13                  Puma           Men Liberate NITRO Running   \n",
       "14                  Puma            Men Magnify Nitro Running   \n",
       "15  FORCLAZ By Decathlon                   TREKKING 100 Boots   \n",
       "16       PUMA Motorsport       Unisex BMW RS-Connect Sneakers   \n",
       "17          Hush Puppies         Men Leather Slip-On Sneakers   \n",
       "18          UNDER ARMOUR              Women HOVR Sonic 4 FnRn   \n",
       "19                  Puma              Unisex Leather Trainers   \n",
       "20          UNDER ARMOUR        Men Charged Commit 3 Training   \n",
       "21                  Puma           Women Eternity NITRO Shoes   \n",
       "22          UNDER ARMOUR        Women Charged Rogue 2.5ClrSft   \n",
       "23                  Nike           Men BlazerLow '77 Sneakers   \n",
       "24                  Geox                 Leather Heeled Boots   \n",
       "25  Kalenji By Decathlon               Men KD500 Running Shoe   \n",
       "26                  Puma            Women Magnify Nitro Shoes   \n",
       "27          UNDER ARMOUR       Women Charged Assert 8 Running   \n",
       "28          UNDER ARMOUR       Women Charged Bandit 6 Running   \n",
       "29              DAVINCHI                         Ustraa black   \n",
       "30          Hush Puppies                    Men Formal Derbys   \n",
       "31               Saint G            Men Mid-Top Chelsea Boots   \n",
       "32               Saint G           Women Leather Heeled Boots   \n",
       "33                 ASICS         Women NOVABLAST Road Running   \n",
       "34             J.FONTINI            Men Black Leather Loafers   \n",
       "35             Cole Haan  Men GENERATION ZEROGRAND STITCHLITE   \n",
       "36             J.FONTINI                    Men Solid Loafers   \n",
       "37                  Puma             Unisex Textured Sneakers   \n",
       "38  Heel & Buckle London                  Women Leather Pumps   \n",
       "39          Hush Puppies                   Men Leather Derbys   \n",
       "40                  Geox            Men Leather Formal Derbys   \n",
       "41                  Puma         Unisex Mirage Sport Trainers   \n",
       "42                 Ruosh           Men Formal Leather Brogues   \n",
       "43                 ASICS        Women GlideRide Running Shoes   \n",
       "44                 Ruosh    Men Solid Leather Formal Slip-Ons   \n",
       "45             J.FONTINI           Men Leather Formal Loafers   \n",
       "46                 Ruosh       Men Solid Leather Formal Monks   \n",
       "47                  Geox             Women Mid-Top Flat Boots   \n",
       "48  Heel & Buckle London         Women High-Top Leather Heels   \n",
       "49   KIPRUN By Decathlon                  Women Running Shoes   \n",
       "\n",
       "                  Price of Shoe  \n",
       "0   Rs. 10499Rs. 14999(30% OFF)  \n",
       "1   Rs. 11199Rs. 15999(30% OFF)  \n",
       "2    Rs. 8449Rs. 12999(35% OFF)  \n",
       "3     Rs. 7999Rs. 9999(20% OFF)  \n",
       "4     Rs. 7999Rs. 9999(20% OFF)  \n",
       "5     Rs. 7999Rs. 9999(20% OFF)  \n",
       "6   Rs. 11999Rs. 14999(20% OFF)  \n",
       "7     Rs. 8099Rs. 8999(10% OFF)  \n",
       "8    Rs. 9099Rs. 12999(30% OFF)  \n",
       "9     Rs. 7199Rs. 8999(20% OFF)  \n",
       "10  Rs. 11199Rs. 13999(20% OFF)  \n",
       "11    Rs. 8999Rs. 9999(10% OFF)  \n",
       "12   Rs. 7149Rs. 10999(35% OFF)  \n",
       "13    Rs. 6999Rs. 9999(30% OFF)  \n",
       "14   Rs. 9099Rs. 12999(30% OFF)  \n",
       "15                     Rs. 6999  \n",
       "16    Rs. 7999Rs. 9999(20% OFF)  \n",
       "17    Rs. 7999Rs. 9999(20% OFF)  \n",
       "18   Rs. 7149Rs. 10999(35% OFF)  \n",
       "19    Rs. 6999Rs. 9999(30% OFF)  \n",
       "20                     Rs. 7999  \n",
       "21   Rs. 7799Rs. 12999(40% OFF)  \n",
       "22                     Rs. 7999  \n",
       "23                     Rs. 7195  \n",
       "24                    Rs. 12999  \n",
       "25     Rs. 7773Rs. 8449(8% OFF)  \n",
       "26   Rs. 8449Rs. 12999(35% OFF)  \n",
       "27                     Rs. 6999  \n",
       "28                     Rs. 8999  \n",
       "29                     Rs. 8990  \n",
       "30    Rs. 8999Rs. 9999(10% OFF)  \n",
       "31                    Rs. 10900  \n",
       "32                     Rs. 9500  \n",
       "33  Rs. 11049Rs. 12999(15% OFF)  \n",
       "34                     Rs. 8490  \n",
       "35                    Rs. 11999  \n",
       "36                     Rs. 8990  \n",
       "37    Rs. 7999Rs. 9999(20% OFF)  \n",
       "38     Rs. 8900Rs. 8990(1% OFF)  \n",
       "39    Rs. 7199Rs. 7999(10% OFF)  \n",
       "40                     Rs. 9999  \n",
       "41    Rs. 6999Rs. 9999(30% OFF)  \n",
       "42                     Rs. 7490  \n",
       "43  Rs. 11199Rs. 13999(20% OFF)  \n",
       "44                     Rs. 6990  \n",
       "45                     Rs. 6990  \n",
       "46                     Rs. 6990  \n",
       "47                    Rs. 10999  \n",
       "48     Rs. 7910Rs. 7990(1% OFF)  \n",
       "49     Rs. 7006Rs. 7149(2% OFF)  "
      ]
     },
     "execution_count": 151,
     "metadata": {},
     "output_type": "execute_result"
    }
   ],
   "source": [
    "myntra_shoes=pd.DataFrame({})\n",
    "myntra_shoes['Brand of Shoes']=brand\n",
    "myntra_shoes['Short Shoe Description']=description\n",
    "myntra_shoes['Price of Shoe']=price\n",
    "\n",
    "myntra_shoes"
   ]
  },
  {
   "cell_type": "markdown",
   "id": "c4c99ced",
   "metadata": {},
   "source": [
    "### Q10: Go to webpage https://www.amazon.in/ Enter “Laptop” in the search field and then click the search icon. \n",
    "\n",
    "###  Then set CPU Type filter to “Intel Core i7” and “Intel Core i9” as shown in the \n",
    "\n",
    "\n"
   ]
  },
  {
   "cell_type": "code",
   "execution_count": 152,
   "id": "632e865a",
   "metadata": {},
   "outputs": [],
   "source": [
    "import pandas as pd\n",
    "import selenium\n",
    "from selenium import webdriver\n",
    "import time"
   ]
  },
  {
   "cell_type": "code",
   "execution_count": 153,
   "id": "954d70d6",
   "metadata": {},
   "outputs": [],
   "source": [
    "#lets first connect to the web driver\n",
    "driver=webdriver.Chrome(r\"C:\\Program Files\\chromedriver.exe\")"
   ]
  },
  {
   "cell_type": "code",
   "execution_count": 154,
   "id": "b8791abd",
   "metadata": {},
   "outputs": [],
   "source": [
    "driver.get(\"https://www.Amazon.in\")"
   ]
  },
  {
   "cell_type": "code",
   "execution_count": 155,
   "id": "2c6f1b2f",
   "metadata": {},
   "outputs": [],
   "source": [
    "#finding element for job search bar\n",
    "search_job=driver.find_element_by_id(\"twotabsearchtextbox\")\n",
    "search_job.send_keys(\"laptop\")\n",
    "#search_loc=driver.find_element_by_xpath(\"//input[@id='qsb-location-sugg']\")\n",
    "#search_loc.send_keys(\"Banglore\")"
   ]
  },
  {
   "cell_type": "code",
   "execution_count": 156,
   "id": "710a36f5",
   "metadata": {},
   "outputs": [],
   "source": [
    "search_btn=driver.find_element_by_xpath('//div[@class=\"nav-search-submit nav-sprite\"]')\n",
    "search_btn.click()"
   ]
  },
  {
   "cell_type": "code",
   "execution_count": 157,
   "id": "115e017b",
   "metadata": {},
   "outputs": [],
   "source": [
    "#locating the core i7 filter\n",
    "filter_button=driver.find_elements_by_xpath('//a[@class=\"a-link-normal s-navigation-item\"]/span')\n",
    "for i in filter_button:\n",
    "    if i.text=='Intel Core i7':\n",
    "        i.click()\n",
    "        break"
   ]
  },
  {
   "cell_type": "code",
   "execution_count": 158,
   "id": "d0e9a1fe",
   "metadata": {},
   "outputs": [],
   "source": [
    "# Locating the core i9 filter\n",
    "filter_button=driver.find_elements_by_xpath('//a[@class=\"a-link-normal s-navigation-item\"]/span')\n",
    "for i in filter_button:\n",
    "    if i.text=='Intel Core i9':\n",
    "        i.click()\n",
    "        break"
   ]
  },
  {
   "cell_type": "code",
   "execution_count": 159,
   "id": "a0be45c0",
   "metadata": {},
   "outputs": [
    {
     "data": {
      "text/plain": [
       "[<selenium.webdriver.remote.webelement.WebElement (session=\"c9f5606a61a0e4a813dfbfde316630a4\", element=\"51ffcba8-c260-448c-9a59-e3beffeef3b0\")>,\n",
       " <selenium.webdriver.remote.webelement.WebElement (session=\"c9f5606a61a0e4a813dfbfde316630a4\", element=\"caafef0d-2789-44b8-827b-615474dd279e\")>]"
      ]
     },
     "execution_count": 159,
     "metadata": {},
     "output_type": "execute_result"
    }
   ],
   "source": [
    "name=driver.find_elements_by_xpath('//a[@class=\"a-link-normal a-text-normal\"]')\n",
    "name[:2]"
   ]
  },
  {
   "cell_type": "code",
   "execution_count": 160,
   "id": "634db82c",
   "metadata": {},
   "outputs": [
    {
     "data": {
      "text/plain": [
       "['Fujitsu UH-X 11th Gen Intel i7 Core 13.3” (33.78cm) FHD IPS 400Nits Thin and Light Laptop (16GB/512GB SSD/Win10/Office/Iris Xe Graphics/Backlit Kb/ Fingerprint Reader/Black/878gms), 4ZR1D67596',\n",
       " 'Lenovo ThinkBook 15 Intel 11th Gen Core i7 15.6\" (39.62 cm) FHD IPS 300 nits Antiglare 100% sRGB Thin and Light Laptop (16GB/512GB SSD/Windows 10/MS Office/3 Yr Onsite Warranty/1.7 Kg), 20VEA0HHIH',\n",
       " 'Life Digital Laptop 15.6-inch (39.62 cms) (Intel Core i7, 4GB RAM, 256GB SSD, Windows 10), ZED AIR CX7',\n",
       " 'Mi Notebook Horizon Edition 14 Intel Core i7-10510U 10th Gen Thin and Light Laptop(8GB/512GB SSD/Windows 10/Nvidia MX350 2GB Graphics/Grey/1.35Kg)(Without Webcam) XMA1904-AF']"
      ]
     },
     "execution_count": 160,
     "metadata": {},
     "output_type": "execute_result"
    }
   ],
   "source": [
    "names=[]\n",
    "for i in name:\n",
    "    names.append(i.text.strip())\n",
    "names[:4]"
   ]
  },
  {
   "cell_type": "code",
   "execution_count": 161,
   "id": "68270c88",
   "metadata": {},
   "outputs": [
    {
     "data": {
      "text/plain": [
       "[<selenium.webdriver.remote.webelement.WebElement (session=\"c9f5606a61a0e4a813dfbfde316630a4\", element=\"595d6a4e-0643-4a0b-8849-e99c82ef9847\")>,\n",
       " <selenium.webdriver.remote.webelement.WebElement (session=\"c9f5606a61a0e4a813dfbfde316630a4\", element=\"e9542aff-9b16-47ac-83cc-13048fadd082\")>]"
      ]
     },
     "execution_count": 161,
     "metadata": {},
     "output_type": "execute_result"
    }
   ],
   "source": [
    "price=[]\n",
    "price_tag=driver.find_elements_by_xpath('//span[@class=\"a-price-whole\"]')\n",
    "price_tag[:2]"
   ]
  },
  {
   "cell_type": "code",
   "execution_count": 162,
   "id": "a2d526d2",
   "metadata": {},
   "outputs": [
    {
     "data": {
      "text/plain": [
       "['89,990', '84,990', '24,990']"
      ]
     },
     "execution_count": 162,
     "metadata": {},
     "output_type": "execute_result"
    }
   ],
   "source": [
    "for i in price_tag:\n",
    "    price.append(i.text.strip())\n",
    "price[:3]"
   ]
  },
  {
   "cell_type": "code",
   "execution_count": 163,
   "id": "d13f565e",
   "metadata": {},
   "outputs": [
    {
     "data": {
      "text/plain": [
       "[<selenium.webdriver.remote.webelement.WebElement (session=\"c9f5606a61a0e4a813dfbfde316630a4\", element=\"6cc6293b-755a-47ca-bedd-26b82f0956f6\")>,\n",
       " <selenium.webdriver.remote.webelement.WebElement (session=\"c9f5606a61a0e4a813dfbfde316630a4\", element=\"60883ff6-0554-44cd-8fc2-912087373b64\")>]"
      ]
     },
     "execution_count": 163,
     "metadata": {},
     "output_type": "execute_result"
    }
   ],
   "source": [
    "ratings=[]\n",
    "rating_tag=driver.find_elements_by_xpath('//div[@class=\"a-row a-size-small\"]')\n",
    "rating_tag[:2]"
   ]
  },
  {
   "cell_type": "code",
   "execution_count": 164,
   "id": "44b2804c",
   "metadata": {},
   "outputs": [
    {
     "data": {
      "text/plain": [
       "['22', '6', '43', '864']"
      ]
     },
     "execution_count": 164,
     "metadata": {},
     "output_type": "execute_result"
    }
   ],
   "source": [
    "for i in rating_tag:\n",
    "    ratings.append(i.text.strip())\n",
    "ratings[:4]"
   ]
  },
  {
   "cell_type": "code",
   "execution_count": 165,
   "id": "4071b327",
   "metadata": {},
   "outputs": [
    {
     "data": {
      "text/html": [
       "<div>\n",
       "<style scoped>\n",
       "    .dataframe tbody tr th:only-of-type {\n",
       "        vertical-align: middle;\n",
       "    }\n",
       "\n",
       "    .dataframe tbody tr th {\n",
       "        vertical-align: top;\n",
       "    }\n",
       "\n",
       "    .dataframe thead th {\n",
       "        text-align: right;\n",
       "    }\n",
       "</style>\n",
       "<table border=\"1\" class=\"dataframe\">\n",
       "  <thead>\n",
       "    <tr style=\"text-align: right;\">\n",
       "      <th></th>\n",
       "      <th>Title</th>\n",
       "      <th>Ratings</th>\n",
       "      <th>Price</th>\n",
       "    </tr>\n",
       "  </thead>\n",
       "  <tbody>\n",
       "    <tr>\n",
       "      <th>0</th>\n",
       "      <td>Fujitsu UH-X 11th Gen Intel i7 Core 13.3” (33....</td>\n",
       "      <td>22</td>\n",
       "      <td>89,990</td>\n",
       "    </tr>\n",
       "    <tr>\n",
       "      <th>1</th>\n",
       "      <td>Lenovo ThinkBook 15 Intel 11th Gen Core i7 15....</td>\n",
       "      <td>6</td>\n",
       "      <td>84,990</td>\n",
       "    </tr>\n",
       "    <tr>\n",
       "      <th>2</th>\n",
       "      <td>Life Digital Laptop 15.6-inch (39.62 cms) (Int...</td>\n",
       "      <td>43</td>\n",
       "      <td>24,990</td>\n",
       "    </tr>\n",
       "    <tr>\n",
       "      <th>3</th>\n",
       "      <td>Mi Notebook Horizon Edition 14 Intel Core i7-1...</td>\n",
       "      <td>864</td>\n",
       "      <td>53,990</td>\n",
       "    </tr>\n",
       "    <tr>\n",
       "      <th>4</th>\n",
       "      <td>Acer Nitro 5 11th Gen Intel Core i7-11800H 15....</td>\n",
       "      <td>19</td>\n",
       "      <td>85,990</td>\n",
       "    </tr>\n",
       "  </tbody>\n",
       "</table>\n",
       "</div>"
      ],
      "text/plain": [
       "                                               Title Ratings   Price\n",
       "0  Fujitsu UH-X 11th Gen Intel i7 Core 13.3” (33....      22  89,990\n",
       "1  Lenovo ThinkBook 15 Intel 11th Gen Core i7 15....       6  84,990\n",
       "2  Life Digital Laptop 15.6-inch (39.62 cms) (Int...      43  24,990\n",
       "3  Mi Notebook Horizon Edition 14 Intel Core i7-1...     864  53,990\n",
       "4  Acer Nitro 5 11th Gen Intel Core i7-11800H 15....      19  85,990"
      ]
     },
     "execution_count": 165,
     "metadata": {},
     "output_type": "execute_result"
    }
   ],
   "source": [
    "laptop=pd.DataFrame({})\n",
    "laptop['Title']=names[:5]\n",
    "laptop['Ratings']=ratings[:5]\n",
    "laptop['Price']=price[:5]\n",
    "\n",
    "laptop"
   ]
  },
  {
   "cell_type": "code",
   "execution_count": null,
   "id": "b9e274e4",
   "metadata": {},
   "outputs": [],
   "source": []
  }
 ],
 "metadata": {
  "kernelspec": {
   "display_name": "Python 3",
   "language": "python",
   "name": "python3"
  },
  "language_info": {
   "codemirror_mode": {
    "name": "ipython",
    "version": 3
   },
   "file_extension": ".py",
   "mimetype": "text/x-python",
   "name": "python",
   "nbconvert_exporter": "python",
   "pygments_lexer": "ipython3",
   "version": "3.8.8"
  }
 },
 "nbformat": 4,
 "nbformat_minor": 5
}
