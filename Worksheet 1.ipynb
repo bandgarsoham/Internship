{
 "cells": [
  {
   "cell_type": "markdown",
   "id": "1d396580",
   "metadata": {},
   "source": [
    "### Q11-Python program to find factorial of given number"
   ]
  },
  {
   "cell_type": "code",
   "execution_count": 28,
   "id": "9c0bda0c",
   "metadata": {},
   "outputs": [
    {
     "name": "stdout",
     "output_type": "stream",
     "text": [
      "Factorical of  4 is 24\n"
     ]
    }
   ],
   "source": [
    "import math\n",
    "def factorial(n):\n",
    "    return(math.factorial(n))\n",
    "\n",
    "num=4\n",
    "print(\"Factorical of \",num,\"is\",factorial(num))\n",
    "\n",
    "\n"
   ]
  },
  {
   "cell_type": "markdown",
   "id": "7b8dfb64",
   "metadata": {},
   "source": [
    "### Q.12-Python program to find a number is prime or composite?"
   ]
  },
  {
   "cell_type": "code",
   "execution_count": 66,
   "id": "83c959dc",
   "metadata": {},
   "outputs": [
    {
     "name": "stdout",
     "output_type": "stream",
     "text": [
      "Enter any number :1\n",
      "1 is a neither prime nor composite number\n"
     ]
    }
   ],
   "source": [
    "num= int(input(\"Enter any number :\"))\n",
    "if num > 1:\n",
    "    for i in range(2,num):\n",
    "        if (num% i) == 0:\n",
    "            print(num,\"is not a prime number\")\n",
    "            break\n",
    "        else:\n",
    "            print(num,\"is prime number\")\n",
    "elif num ==0 or 1:\n",
    "            print(num,\"is a neither prime nor composite number\")\n",
    "else:\n",
    "    print(num,\"is not a prime number it is composite number\")"
   ]
  },
  {
   "cell_type": "markdown",
   "id": "b102cecc",
   "metadata": {},
   "source": [
    "### Q.13-Given input is a palindrome or not \n"
   ]
  },
  {
   "cell_type": "code",
   "execution_count": 83,
   "id": "4a515976",
   "metadata": {},
   "outputs": [
    {
     "name": "stdout",
     "output_type": "stream",
     "text": [
      "The string is a palindrome.\n"
     ]
    }
   ],
   "source": [
    "my_string=\"radar\"\n",
    "my_string=my_string.casefold()\n",
    "reverse_string=reversed(my_string)\n",
    "if list(my_string) == list(reverse_string):\n",
    "    print(\"The string is a palindrome.\")\n",
    "else:\n",
    "    print('The  string is not a palindrome')"
   ]
  },
  {
   "cell_type": "markdown",
   "id": "23f4357c",
   "metadata": {},
   "source": [
    "### Q.14- Write a Python program to get the third side of right-angled triangle from two given sides.\n"
   ]
  },
  {
   "cell_type": "code",
   "execution_count": 108,
   "id": "533cca2b",
   "metadata": {},
   "outputs": [
    {
     "name": "stdout",
     "output_type": "stream",
     "text": [
      "Enter Opposite side value =4\n",
      "Enter Adjacent side value =3\n",
      "Hypotenuse of right angle triangle = 5.0\n"
     ]
    }
   ],
   "source": [
    "import math\n",
    "side1=int(input(\"Enter Opposite side value =\"))\n",
    "side2=int(input(\"Enter Adjacent side value =\"))\n",
    "side3=(math.sqrt((side1*side1)+(side2*side2)))\n",
    "print(\"Hypotenuse of right angle triangle =\",side3)"
   ]
  },
  {
   "cell_type": "markdown",
   "id": "c1c1c2d6",
   "metadata": {},
   "source": [
    "### Q.15- Write a python program to print the frequency of each of the characters present in a given string."
   ]
  },
  {
   "cell_type": "code",
   "execution_count": 118,
   "id": "0a932b08",
   "metadata": {},
   "outputs": [
    {
     "name": "stdout",
     "output_type": "stream",
     "text": [
      "Count of all characters in Frequency is : Counter({'e': 2, 'F': 1, 'r': 1, 'g': 1, 'u': 1, 'n': 1, 'c': 1, 'y': 1})\n"
     ]
    }
   ],
   "source": [
    "from collections import Counter\n",
    "test_string=\"Freguency\"\n",
    "df=Counter(test_string)\n",
    "print(\"Count of all characters in Frequency is :\",str(df))"
   ]
  },
  {
   "cell_type": "code",
   "execution_count": null,
   "id": "5285f032",
   "metadata": {},
   "outputs": [],
   "source": []
  }
 ],
 "metadata": {
  "kernelspec": {
   "display_name": "Python 3",
   "language": "python",
   "name": "python3"
  },
  "language_info": {
   "codemirror_mode": {
    "name": "ipython",
    "version": 3
   },
   "file_extension": ".py",
   "mimetype": "text/x-python",
   "name": "python",
   "nbconvert_exporter": "python",
   "pygments_lexer": "ipython3",
   "version": "3.8.8"
  }
 },
 "nbformat": 4,
 "nbformat_minor": 5
}
