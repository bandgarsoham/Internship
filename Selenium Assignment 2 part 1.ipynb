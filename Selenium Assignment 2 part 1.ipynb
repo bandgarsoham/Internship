{
 "cells": [
  {
   "cell_type": "markdown",
   "id": "96ce05d8",
   "metadata": {},
   "source": [
    "### Q1: Write a python program to scrape data for “Data Analyst” Job position in “Bangalore” location. You have to scrape the job-title, job-location, company_name,experience_required. You have to scrape first 10 jobs data."
   ]
  },
  {
   "cell_type": "code",
   "execution_count": 1,
   "id": "d6549a91",
   "metadata": {},
   "outputs": [],
   "source": [
    "#lets now import all the required libraries\n",
    "import selenium\n",
    "import pandas as pd\n",
    "from selenium import webdriver"
   ]
  },
  {
   "cell_type": "code",
   "execution_count": 2,
   "id": "d705f2cb",
   "metadata": {},
   "outputs": [],
   "source": [
    "#lets first connect to the web driver\n",
    "driver=webdriver.Chrome(r\"C:\\Program Files\\chromedriver.exe\")"
   ]
  },
  {
   "cell_type": "code",
   "execution_count": 4,
   "id": "f162d6f4",
   "metadata": {},
   "outputs": [],
   "source": [
    "driver.get(\"https://www.naukri.com/\")"
   ]
  },
  {
   "cell_type": "code",
   "execution_count": 5,
   "id": "e9268da0",
   "metadata": {},
   "outputs": [],
   "source": [
    "#finding element for job search bar\n",
    "search_job=driver.find_element_by_id(\"qsb-keyword-sugg\")\n",
    "search_job.send_keys(\"Data Analyst\")\n",
    "search_loc=driver.find_element_by_xpath(\"//input[@id='qsb-location-sugg']\")\n",
    "search_loc.send_keys(\"Banglore\")"
   ]
  },
  {
   "cell_type": "code",
   "execution_count": 6,
   "id": "a6643f53",
   "metadata": {},
   "outputs": [],
   "source": [
    "search_btn=driver.find_element_by_xpath(\"//div[@class='search-btn']/button\")\n",
    "search_btn.click()"
   ]
  },
  {
   "cell_type": "code",
   "execution_count": 7,
   "id": "ba84c4fb",
   "metadata": {},
   "outputs": [],
   "source": [
    "job_title=[]\n",
    "company_name=[]\n",
    "locations=[]\n",
    "experiance=[]"
   ]
  },
  {
   "cell_type": "markdown",
   "id": "4955e93f",
   "metadata": {},
   "source": [
    "first wewill  extract all the tags where we have the job titles.let me show you on the webpagein which tags the job titles are put."
   ]
  },
  {
   "cell_type": "code",
   "execution_count": 8,
   "id": "87235781",
   "metadata": {},
   "outputs": [],
   "source": [
    "#So lets extract all the tags having the job-titles\n",
    "titles_tags=driver.find_elements_by_xpath('//a[@class=\"title fw500 ellipsis\"]')"
   ]
  },
  {
   "cell_type": "markdown",
   "id": "1121ef8e",
   "metadata": {},
   "source": [
    "Now we have all the tags in which there are the job titles.\n",
    "\n",
    "Now we will extract the text from these tags one by one by looping over these tags."
   ]
  },
  {
   "cell_type": "code",
   "execution_count": 9,
   "id": "5defb45b",
   "metadata": {},
   "outputs": [
    {
     "data": {
      "text/plain": [
       "['SQL Data Analyst',\n",
       " 'Data Analyst - Marketing',\n",
       " 'Openings For Data Analyst',\n",
       " 'Associate Data Analyst']"
      ]
     },
     "execution_count": 9,
     "metadata": {},
     "output_type": "execute_result"
    }
   ],
   "source": [
    "# Now the text of the job title is inside the tags extracted above.\n",
    "# So we will run a loop to iterate over the tags extracted above and extract the text inside them.\n",
    "for i in titles_tags:\n",
    "    job_title.append(i.text)\n",
    "job_title[:4]"
   ]
  },
  {
   "cell_type": "code",
   "execution_count": 10,
   "id": "0d7050bc",
   "metadata": {},
   "outputs": [],
   "source": [
    "company_tags=driver.find_elements_by_xpath('//a[@class=\"subTitle ellipsis fleft\"]')"
   ]
  },
  {
   "cell_type": "code",
   "execution_count": 11,
   "id": "1b81c924",
   "metadata": {},
   "outputs": [
    {
     "data": {
      "text/plain": [
       "['NetApp',\n",
       " 'Byjus - Transforming Education using Technology',\n",
       " 'Allegis Services India Pvt. Ltd.',\n",
       " 'Integrated Digital Systems']"
      ]
     },
     "execution_count": 11,
     "metadata": {},
     "output_type": "execute_result"
    }
   ],
   "source": [
    "for i in company_tags:\n",
    "    company_name.append(i.text)\n",
    "company_name[:4]"
   ]
  },
  {
   "cell_type": "code",
   "execution_count": 12,
   "id": "7297fbc0",
   "metadata": {},
   "outputs": [
    {
     "data": {
      "text/plain": [
       "[<selenium.webdriver.remote.webelement.WebElement (session=\"40256872e413c2b6cf496fe0a40d905e\", element=\"11733f55-d7e7-41a4-a905-b930e7e7775f\")>,\n",
       " <selenium.webdriver.remote.webelement.WebElement (session=\"40256872e413c2b6cf496fe0a40d905e\", element=\"f6ae205c-1cf3-4684-89b4-e10d14f24e3d\")>]"
      ]
     },
     "execution_count": 12,
     "metadata": {},
     "output_type": "execute_result"
    }
   ],
   "source": [
    "experiance_tag=driver.find_elements_by_xpath('//li[@class=\"fleft grey-text br2 placeHolderLi experience\"]')\n",
    "experiance_tag[:2]"
   ]
  },
  {
   "cell_type": "code",
   "execution_count": 13,
   "id": "0f1a0fc3",
   "metadata": {},
   "outputs": [
    {
     "data": {
      "text/plain": [
       "['3-7 Yrs', '0-2 Yrs', '0-3 Yrs', '0-2 Yrs', '2-6 Yrs', '1-4 Yrs']"
      ]
     },
     "execution_count": 13,
     "metadata": {},
     "output_type": "execute_result"
    }
   ],
   "source": [
    "for i in experiance_tag:\n",
    "    experiance.append(i.text.strip())\n",
    "experiance[:6]"
   ]
  },
  {
   "cell_type": "code",
   "execution_count": 14,
   "id": "e83dfeaa",
   "metadata": {},
   "outputs": [
    {
     "data": {
      "text/plain": [
       "[<selenium.webdriver.remote.webelement.WebElement (session=\"40256872e413c2b6cf496fe0a40d905e\", element=\"4e110939-e1ee-41ee-b2a0-72dada5313be\")>,\n",
       " <selenium.webdriver.remote.webelement.WebElement (session=\"40256872e413c2b6cf496fe0a40d905e\", element=\"cc354b7a-199a-4c1f-b167-e185cf11e800\")>]"
      ]
     },
     "execution_count": 14,
     "metadata": {},
     "output_type": "execute_result"
    }
   ],
   "source": [
    "locations_tag=driver.find_elements_by_xpath('//li[@class=\"fleft grey-text br2 placeHolderLi location\"]')\n",
    "locations_tag[:2]"
   ]
  },
  {
   "cell_type": "code",
   "execution_count": 15,
   "id": "2bc043b0",
   "metadata": {},
   "outputs": [
    {
     "data": {
      "text/plain": [
       "['Bangalore/Bengaluru',\n",
       " 'Bangalore/Bengaluru',\n",
       " 'Bangalore/Bengaluru',\n",
       " 'Bangalore/Bengaluru',\n",
       " 'Bangalore/Bengaluru',\n",
       " 'Bangalore/Bengaluru']"
      ]
     },
     "execution_count": 15,
     "metadata": {},
     "output_type": "execute_result"
    }
   ],
   "source": [
    "for i in locations_tag:\n",
    "    locations.append(i.text.strip())\n",
    "locations[:6]"
   ]
  },
  {
   "cell_type": "code",
   "execution_count": 16,
   "id": "a0292f74",
   "metadata": {},
   "outputs": [
    {
     "name": "stdout",
     "output_type": "stream",
     "text": [
      "20 20 20 20\n"
     ]
    }
   ],
   "source": [
    "print(len(locations),len(job_title),len(company_name),len(experiance))\n"
   ]
  },
  {
   "cell_type": "code",
   "execution_count": 17,
   "id": "16804a71",
   "metadata": {},
   "outputs": [
    {
     "data": {
      "text/html": [
       "<div>\n",
       "<style scoped>\n",
       "    .dataframe tbody tr th:only-of-type {\n",
       "        vertical-align: middle;\n",
       "    }\n",
       "\n",
       "    .dataframe tbody tr th {\n",
       "        vertical-align: top;\n",
       "    }\n",
       "\n",
       "    .dataframe thead th {\n",
       "        text-align: right;\n",
       "    }\n",
       "</style>\n",
       "<table border=\"1\" class=\"dataframe\">\n",
       "  <thead>\n",
       "    <tr style=\"text-align: right;\">\n",
       "      <th></th>\n",
       "      <th>Job Title</th>\n",
       "      <th>Company Name</th>\n",
       "      <th>Experiance</th>\n",
       "      <th>Locations</th>\n",
       "    </tr>\n",
       "  </thead>\n",
       "  <tbody>\n",
       "    <tr>\n",
       "      <th>0</th>\n",
       "      <td>SQL Data Analyst</td>\n",
       "      <td>NetApp</td>\n",
       "      <td>3-7 Yrs</td>\n",
       "      <td>Bangalore/Bengaluru</td>\n",
       "    </tr>\n",
       "    <tr>\n",
       "      <th>1</th>\n",
       "      <td>Data Analyst - Marketing</td>\n",
       "      <td>Byjus - Transforming Education using Technology</td>\n",
       "      <td>0-2 Yrs</td>\n",
       "      <td>Bangalore/Bengaluru</td>\n",
       "    </tr>\n",
       "    <tr>\n",
       "      <th>2</th>\n",
       "      <td>Openings For Data Analyst</td>\n",
       "      <td>Allegis Services India Pvt. Ltd.</td>\n",
       "      <td>0-3 Yrs</td>\n",
       "      <td>Bangalore/Bengaluru</td>\n",
       "    </tr>\n",
       "    <tr>\n",
       "      <th>3</th>\n",
       "      <td>Associate Data Analyst</td>\n",
       "      <td>Integrated Digital Systems</td>\n",
       "      <td>0-2 Yrs</td>\n",
       "      <td>Bangalore/Bengaluru</td>\n",
       "    </tr>\n",
       "    <tr>\n",
       "      <th>4</th>\n",
       "      <td>Business Data Analyst</td>\n",
       "      <td>INDIAVIDUAL LEARNING LIMITED</td>\n",
       "      <td>2-6 Yrs</td>\n",
       "      <td>Bangalore/Bengaluru</td>\n",
       "    </tr>\n",
       "    <tr>\n",
       "      <th>5</th>\n",
       "      <td>Data Analyst / Business Analyst (Demand Planning)</td>\n",
       "      <td>Flipkart</td>\n",
       "      <td>1-4 Yrs</td>\n",
       "      <td>Bangalore/Bengaluru</td>\n",
       "    </tr>\n",
       "    <tr>\n",
       "      <th>6</th>\n",
       "      <td>Data Analyst</td>\n",
       "      <td>Applied Materials</td>\n",
       "      <td>0-3 Yrs</td>\n",
       "      <td>Bangalore/Bengaluru</td>\n",
       "    </tr>\n",
       "    <tr>\n",
       "      <th>7</th>\n",
       "      <td>Lead Data Analyst / Data Engineer</td>\n",
       "      <td>Huawei Technologies</td>\n",
       "      <td>5-10 Yrs</td>\n",
       "      <td>Bangalore/Bengaluru</td>\n",
       "    </tr>\n",
       "    <tr>\n",
       "      <th>8</th>\n",
       "      <td>Business Data Analyst</td>\n",
       "      <td>RANDSTAD INDIA PVT LTD</td>\n",
       "      <td>8-12 Yrs</td>\n",
       "      <td>Bangalore/Bengaluru</td>\n",
       "    </tr>\n",
       "    <tr>\n",
       "      <th>9</th>\n",
       "      <td>Senior Data Analyst</td>\n",
       "      <td>Scienaptic Systems</td>\n",
       "      <td>5-10 Yrs</td>\n",
       "      <td>Bangalore/Bengaluru</td>\n",
       "    </tr>\n",
       "  </tbody>\n",
       "</table>\n",
       "</div>"
      ],
      "text/plain": [
       "                                           Job Title  \\\n",
       "0                                   SQL Data Analyst   \n",
       "1                           Data Analyst - Marketing   \n",
       "2                          Openings For Data Analyst   \n",
       "3                             Associate Data Analyst   \n",
       "4                              Business Data Analyst   \n",
       "5  Data Analyst / Business Analyst (Demand Planning)   \n",
       "6                                       Data Analyst   \n",
       "7                  Lead Data Analyst / Data Engineer   \n",
       "8                              Business Data Analyst   \n",
       "9                                Senior Data Analyst   \n",
       "\n",
       "                                      Company Name Experiance  \\\n",
       "0                                           NetApp    3-7 Yrs   \n",
       "1  Byjus - Transforming Education using Technology    0-2 Yrs   \n",
       "2                 Allegis Services India Pvt. Ltd.    0-3 Yrs   \n",
       "3                       Integrated Digital Systems    0-2 Yrs   \n",
       "4                     INDIAVIDUAL LEARNING LIMITED    2-6 Yrs   \n",
       "5                                         Flipkart    1-4 Yrs   \n",
       "6                                Applied Materials    0-3 Yrs   \n",
       "7                              Huawei Technologies   5-10 Yrs   \n",
       "8                           RANDSTAD INDIA PVT LTD   8-12 Yrs   \n",
       "9                               Scienaptic Systems   5-10 Yrs   \n",
       "\n",
       "             Locations  \n",
       "0  Bangalore/Bengaluru  \n",
       "1  Bangalore/Bengaluru  \n",
       "2  Bangalore/Bengaluru  \n",
       "3  Bangalore/Bengaluru  \n",
       "4  Bangalore/Bengaluru  \n",
       "5  Bangalore/Bengaluru  \n",
       "6  Bangalore/Bengaluru  \n",
       "7  Bangalore/Bengaluru  \n",
       "8  Bangalore/Bengaluru  \n",
       "9  Bangalore/Bengaluru  "
      ]
     },
     "execution_count": 17,
     "metadata": {},
     "output_type": "execute_result"
    }
   ],
   "source": [
    "Jobs=pd.DataFrame({})\n",
    "Jobs['Job Title']=job_title[:10]\n",
    "Jobs['Company Name']=company_name[:10]\n",
    "Jobs['Experiance']=experiance[:10]\n",
    "Jobs['Locations']=locations[:10]\n",
    "\n",
    "Jobs"
   ]
  },
  {
   "cell_type": "markdown",
   "id": "bbdcf53a",
   "metadata": {},
   "source": [
    "### Q2: Write a python program to scrape data for “Data Scientist” Job position in “Bangalore” location. You have to scrape the job-title, job-location,company_name, full job-description. You have to scrape first 10 jobs data."
   ]
  },
  {
   "cell_type": "code",
   "execution_count": 18,
   "id": "f133660f",
   "metadata": {},
   "outputs": [],
   "source": [
    "import pandas as pd\n",
    "import selenium\n",
    "from selenium import webdriver"
   ]
  },
  {
   "cell_type": "code",
   "execution_count": 19,
   "id": "57850a0e",
   "metadata": {},
   "outputs": [],
   "source": [
    "#lets first connect to the web driver\n",
    "driver=webdriver.Chrome(r\"C:\\Program Files\\chromedriver.exe\")"
   ]
  },
  {
   "cell_type": "code",
   "execution_count": 20,
   "id": "5321ead3",
   "metadata": {},
   "outputs": [],
   "source": [
    "driver.get(\"https://www.naukri.com/\")"
   ]
  },
  {
   "cell_type": "code",
   "execution_count": 21,
   "id": "7d14a89d",
   "metadata": {},
   "outputs": [],
   "source": [
    "#finding element for job search bar\n",
    "search_job=driver.find_element_by_id(\"qsb-keyword-sugg\")\n",
    "search_job.send_keys(\"Data Scientist\")\n",
    "search_loc=driver.find_element_by_xpath(\"//input[@id='qsb-location-sugg']\")\n",
    "search_loc.send_keys(\"Banglore\")"
   ]
  },
  {
   "cell_type": "code",
   "execution_count": 22,
   "id": "710a36f5",
   "metadata": {},
   "outputs": [],
   "source": [
    "search_btn=driver.find_element_by_xpath(\"//div[@class='search-btn']/button\")\n",
    "search_btn.click()"
   ]
  },
  {
   "cell_type": "code",
   "execution_count": 23,
   "id": "3fa91eb0",
   "metadata": {},
   "outputs": [],
   "source": [
    "job_title=[]\n",
    "location=[]\n",
    "comapny_name=[]\n",
    "Description=[]"
   ]
  },
  {
   "cell_type": "code",
   "execution_count": 24,
   "id": "3d340686",
   "metadata": {},
   "outputs": [
    {
     "data": {
      "text/plain": [
       "[<selenium.webdriver.remote.webelement.WebElement (session=\"86c9215d5cc82da0a09ca7d76c358d47\", element=\"4d991585-d211-48e3-8591-a861d2c15fcc\")>,\n",
       " <selenium.webdriver.remote.webelement.WebElement (session=\"86c9215d5cc82da0a09ca7d76c358d47\", element=\"5f61be1d-8c22-4ff5-85e7-ee8a83446109\")>,\n",
       " <selenium.webdriver.remote.webelement.WebElement (session=\"86c9215d5cc82da0a09ca7d76c358d47\", element=\"f0f97ff2-c89c-4606-92fc-0420da431142\")>,\n",
       " <selenium.webdriver.remote.webelement.WebElement (session=\"86c9215d5cc82da0a09ca7d76c358d47\", element=\"ce682e64-d25f-4fc0-a314-04d33198392e\")>]"
      ]
     },
     "execution_count": 24,
     "metadata": {},
     "output_type": "execute_result"
    }
   ],
   "source": [
    "title_tag=driver.find_elements_by_xpath('//a[@class=\"title fw500 ellipsis\"]')\n",
    "title_tag[:4]"
   ]
  },
  {
   "cell_type": "code",
   "execution_count": 25,
   "id": "5f966ff3",
   "metadata": {},
   "outputs": [
    {
     "data": {
      "text/plain": [
       "['Sr. Data Scientist / Data Scientist For Bangalore & Kolkata Locations',\n",
       " 'Data Scientist',\n",
       " 'Senior Data Scientist - Python/Machine Learning Algorithms',\n",
       " 'Lead Data Scientist']"
      ]
     },
     "execution_count": 25,
     "metadata": {},
     "output_type": "execute_result"
    }
   ],
   "source": [
    "for i in title_tag:\n",
    "    job_title.append(i.text.strip())\n",
    "job_title[:4]"
   ]
  },
  {
   "cell_type": "code",
   "execution_count": 26,
   "id": "855590b6",
   "metadata": {},
   "outputs": [
    {
     "data": {
      "text/plain": [
       "[<selenium.webdriver.remote.webelement.WebElement (session=\"86c9215d5cc82da0a09ca7d76c358d47\", element=\"2a6de951-6d1c-44ab-86bb-0880eb217f88\")>,\n",
       " <selenium.webdriver.remote.webelement.WebElement (session=\"86c9215d5cc82da0a09ca7d76c358d47\", element=\"84aadcc3-424e-4cde-a160-18461ecca1c3\")>,\n",
       " <selenium.webdriver.remote.webelement.WebElement (session=\"86c9215d5cc82da0a09ca7d76c358d47\", element=\"2c8cad16-f97d-40e4-912e-255f3d4ed17d\")>,\n",
       " <selenium.webdriver.remote.webelement.WebElement (session=\"86c9215d5cc82da0a09ca7d76c358d47\", element=\"3c548126-8b7a-483a-8e77-8e6969831967\")>]"
      ]
     },
     "execution_count": 26,
     "metadata": {},
     "output_type": "execute_result"
    }
   ],
   "source": [
    "location_tag=driver.find_elements_by_xpath('//li[@class=\"fleft grey-text br2 placeHolderLi location\"]')\n",
    "location_tag[:4]"
   ]
  },
  {
   "cell_type": "code",
   "execution_count": 27,
   "id": "737b37de",
   "metadata": {},
   "outputs": [
    {
     "data": {
      "text/plain": [
       "['Kolkata, Bangalore/Bengaluru',\n",
       " 'Hyderabad/Secunderabad, Pune, Bangalore/Bengaluru',\n",
       " 'Mumbai, Hyderabad/Secunderabad, Pune, Bangalore/Bengaluru',\n",
       " 'Bangalore/Bengaluru']"
      ]
     },
     "execution_count": 27,
     "metadata": {},
     "output_type": "execute_result"
    }
   ],
   "source": [
    "for i in location_tag:\n",
    "    location.append(i.text.strip())\n",
    "location[:4]"
   ]
  },
  {
   "cell_type": "code",
   "execution_count": 28,
   "id": "3d4c7256",
   "metadata": {},
   "outputs": [
    {
     "data": {
      "text/plain": [
       "[<selenium.webdriver.remote.webelement.WebElement (session=\"86c9215d5cc82da0a09ca7d76c358d47\", element=\"12220156-34d1-4ff1-b8d8-24218236b5a6\")>,\n",
       " <selenium.webdriver.remote.webelement.WebElement (session=\"86c9215d5cc82da0a09ca7d76c358d47\", element=\"9587d62c-91da-4989-ac24-36b0ead3e85b\")>,\n",
       " <selenium.webdriver.remote.webelement.WebElement (session=\"86c9215d5cc82da0a09ca7d76c358d47\", element=\"962c7b77-f3e7-4e71-9a65-cda812979e48\")>,\n",
       " <selenium.webdriver.remote.webelement.WebElement (session=\"86c9215d5cc82da0a09ca7d76c358d47\", element=\"69cbb300-5c02-4617-a2c8-1a56c7f1c6ad\")>]"
      ]
     },
     "execution_count": 28,
     "metadata": {},
     "output_type": "execute_result"
    }
   ],
   "source": [
    "company_tag=driver.find_elements_by_xpath('//a[@class=\"subTitle ellipsis fleft\"]')\n",
    "company_tag[:4]"
   ]
  },
  {
   "cell_type": "code",
   "execution_count": 29,
   "id": "7b6f4e39",
   "metadata": {},
   "outputs": [
    {
     "data": {
      "text/plain": [
       "['NetApp',\n",
       " 'Byjus - Transforming Education using Technology',\n",
       " 'Allegis Services India Pvt. Ltd.',\n",
       " 'Integrated Digital Systems']"
      ]
     },
     "execution_count": 29,
     "metadata": {},
     "output_type": "execute_result"
    }
   ],
   "source": [
    "for i in company_tag:\n",
    "    company_name.append(i.text.strip())\n",
    "company_name[:4]"
   ]
  },
  {
   "cell_type": "code",
   "execution_count": 30,
   "id": "4cb02c44",
   "metadata": {},
   "outputs": [
    {
     "data": {
      "text/plain": [
       "[<selenium.webdriver.remote.webelement.WebElement (session=\"86c9215d5cc82da0a09ca7d76c358d47\", element=\"472cc150-b740-4afd-b2d2-0b3da58e6d8b\")>,\n",
       " <selenium.webdriver.remote.webelement.WebElement (session=\"86c9215d5cc82da0a09ca7d76c358d47\", element=\"e26ae523-c7e9-4ba3-8c63-8bceac27007c\")>,\n",
       " <selenium.webdriver.remote.webelement.WebElement (session=\"86c9215d5cc82da0a09ca7d76c358d47\", element=\"1641f5fb-4eb2-462c-9c32-c88c722957d6\")>,\n",
       " <selenium.webdriver.remote.webelement.WebElement (session=\"86c9215d5cc82da0a09ca7d76c358d47\", element=\"6690f8a9-1a4e-4f11-bcda-82a6f4d60866\")>]"
      ]
     },
     "execution_count": 30,
     "metadata": {},
     "output_type": "execute_result"
    }
   ],
   "source": [
    "description_tag=driver.find_elements_by_xpath('//ul[@class=\"tags has-description\"]')\n",
    "description_tag[:4]"
   ]
  },
  {
   "cell_type": "code",
   "execution_count": 31,
   "id": "418f75bc",
   "metadata": {},
   "outputs": [
    {
     "data": {
      "text/plain": [
       "['Data Science\\nClassification\\nPython\\nSpark\\nQlikView\\nAgile\\nJIRA\\nLooker',\n",
       " 'Data Science\\nMachine Learning\\nPython\\nIT Skills\\nJava\\nArtificial Intelligence\\nCloud\\nDevOps',\n",
       " 'Data Analytics\\nMachine Learning\\nPerl\\nML algorithms\\nDjango\\nData Science\\nPython\\nIT Skills',\n",
       " 'Data Science\\nPerformance Optimization\\nAlgorithms\\nRNN\\nLSTM\\nArtificial Intelligence\\nBig Data\\nData Mining']"
      ]
     },
     "execution_count": 31,
     "metadata": {},
     "output_type": "execute_result"
    }
   ],
   "source": [
    "for i in description_tag:\n",
    "    Description.append(i.text.strip())\n",
    "Description[:4]"
   ]
  },
  {
   "cell_type": "code",
   "execution_count": 32,
   "id": "8952f649",
   "metadata": {},
   "outputs": [
    {
     "name": "stdout",
     "output_type": "stream",
     "text": [
      "40 20 20 20\n"
     ]
    }
   ],
   "source": [
    "print(len(company_name),len(Description),len(job_title),len(location))"
   ]
  },
  {
   "cell_type": "code",
   "execution_count": 33,
   "id": "5d59407a",
   "metadata": {},
   "outputs": [
    {
     "data": {
      "text/html": [
       "<div>\n",
       "<style scoped>\n",
       "    .dataframe tbody tr th:only-of-type {\n",
       "        vertical-align: middle;\n",
       "    }\n",
       "\n",
       "    .dataframe tbody tr th {\n",
       "        vertical-align: top;\n",
       "    }\n",
       "\n",
       "    .dataframe thead th {\n",
       "        text-align: right;\n",
       "    }\n",
       "</style>\n",
       "<table border=\"1\" class=\"dataframe\">\n",
       "  <thead>\n",
       "    <tr style=\"text-align: right;\">\n",
       "      <th></th>\n",
       "      <th>Job Title</th>\n",
       "      <th>Job Location</th>\n",
       "      <th>Company_Name</th>\n",
       "      <th>Full Job Descriptions</th>\n",
       "    </tr>\n",
       "  </thead>\n",
       "  <tbody>\n",
       "    <tr>\n",
       "      <th>0</th>\n",
       "      <td>Sr. Data Scientist / Data Scientist For Bangal...</td>\n",
       "      <td>Kolkata, Bangalore/Bengaluru</td>\n",
       "      <td>NetApp</td>\n",
       "      <td>Data Science\\nClassification\\nPython\\nSpark\\nQ...</td>\n",
       "    </tr>\n",
       "    <tr>\n",
       "      <th>1</th>\n",
       "      <td>Data Scientist</td>\n",
       "      <td>Hyderabad/Secunderabad, Pune, Bangalore/Bengaluru</td>\n",
       "      <td>Byjus - Transforming Education using Technology</td>\n",
       "      <td>Data Science\\nMachine Learning\\nPython\\nIT Ski...</td>\n",
       "    </tr>\n",
       "    <tr>\n",
       "      <th>2</th>\n",
       "      <td>Senior Data Scientist - Python/Machine Learnin...</td>\n",
       "      <td>Mumbai, Hyderabad/Secunderabad, Pune, Bangalor...</td>\n",
       "      <td>Allegis Services India Pvt. Ltd.</td>\n",
       "      <td>Data Analytics\\nMachine Learning\\nPerl\\nML alg...</td>\n",
       "    </tr>\n",
       "    <tr>\n",
       "      <th>3</th>\n",
       "      <td>Lead Data Scientist</td>\n",
       "      <td>Bangalore/Bengaluru</td>\n",
       "      <td>Integrated Digital Systems</td>\n",
       "      <td>Data Science\\nPerformance Optimization\\nAlgori...</td>\n",
       "    </tr>\n",
       "    <tr>\n",
       "      <th>4</th>\n",
       "      <td>SDE2 Data Scientist</td>\n",
       "      <td>Bangalore/Bengaluru</td>\n",
       "      <td>INDIAVIDUAL LEARNING LIMITED</td>\n",
       "      <td>Data Science\\nBpo\\nCustomer Service\\nLogistic ...</td>\n",
       "    </tr>\n",
       "    <tr>\n",
       "      <th>5</th>\n",
       "      <td>SDE1 Data Scientist</td>\n",
       "      <td>Bangalore/Bengaluru</td>\n",
       "      <td>Flipkart</td>\n",
       "      <td>Data Science\\nBpo\\nCustomer Service\\nLogistic ...</td>\n",
       "    </tr>\n",
       "    <tr>\n",
       "      <th>6</th>\n",
       "      <td>Data Scientist</td>\n",
       "      <td>Bangalore/Bengaluru</td>\n",
       "      <td>Applied Materials</td>\n",
       "      <td>IT Skills\\nPython\\nMachine Learning\\nAWS\\nData...</td>\n",
       "    </tr>\n",
       "    <tr>\n",
       "      <th>7</th>\n",
       "      <td>Data Scientist</td>\n",
       "      <td>Pune, Bangalore/Bengaluru</td>\n",
       "      <td>Huawei Technologies</td>\n",
       "      <td>IT Skills\\nPython\\nData Science\\nMachine Learn...</td>\n",
       "    </tr>\n",
       "    <tr>\n",
       "      <th>8</th>\n",
       "      <td>Vice President Data Scientist</td>\n",
       "      <td>Bangalore/Bengaluru</td>\n",
       "      <td>RANDSTAD INDIA PVT LTD</td>\n",
       "      <td>Wealth management\\ndata science\\ndevelopment t...</td>\n",
       "    </tr>\n",
       "    <tr>\n",
       "      <th>9</th>\n",
       "      <td>Data Scientist</td>\n",
       "      <td>Bangalore/Bengaluru</td>\n",
       "      <td>Scienaptic Systems</td>\n",
       "      <td>Data Science\\nHive\\nFinancial Services\\nAnalyt...</td>\n",
       "    </tr>\n",
       "  </tbody>\n",
       "</table>\n",
       "</div>"
      ],
      "text/plain": [
       "                                           Job Title  \\\n",
       "0  Sr. Data Scientist / Data Scientist For Bangal...   \n",
       "1                                     Data Scientist   \n",
       "2  Senior Data Scientist - Python/Machine Learnin...   \n",
       "3                                Lead Data Scientist   \n",
       "4                                SDE2 Data Scientist   \n",
       "5                                SDE1 Data Scientist   \n",
       "6                                     Data Scientist   \n",
       "7                                     Data Scientist   \n",
       "8                      Vice President Data Scientist   \n",
       "9                                     Data Scientist   \n",
       "\n",
       "                                        Job Location  \\\n",
       "0                       Kolkata, Bangalore/Bengaluru   \n",
       "1  Hyderabad/Secunderabad, Pune, Bangalore/Bengaluru   \n",
       "2  Mumbai, Hyderabad/Secunderabad, Pune, Bangalor...   \n",
       "3                                Bangalore/Bengaluru   \n",
       "4                                Bangalore/Bengaluru   \n",
       "5                                Bangalore/Bengaluru   \n",
       "6                                Bangalore/Bengaluru   \n",
       "7                          Pune, Bangalore/Bengaluru   \n",
       "8                                Bangalore/Bengaluru   \n",
       "9                                Bangalore/Bengaluru   \n",
       "\n",
       "                                      Company_Name  \\\n",
       "0                                           NetApp   \n",
       "1  Byjus - Transforming Education using Technology   \n",
       "2                 Allegis Services India Pvt. Ltd.   \n",
       "3                       Integrated Digital Systems   \n",
       "4                     INDIAVIDUAL LEARNING LIMITED   \n",
       "5                                         Flipkart   \n",
       "6                                Applied Materials   \n",
       "7                              Huawei Technologies   \n",
       "8                           RANDSTAD INDIA PVT LTD   \n",
       "9                               Scienaptic Systems   \n",
       "\n",
       "                               Full Job Descriptions  \n",
       "0  Data Science\\nClassification\\nPython\\nSpark\\nQ...  \n",
       "1  Data Science\\nMachine Learning\\nPython\\nIT Ski...  \n",
       "2  Data Analytics\\nMachine Learning\\nPerl\\nML alg...  \n",
       "3  Data Science\\nPerformance Optimization\\nAlgori...  \n",
       "4  Data Science\\nBpo\\nCustomer Service\\nLogistic ...  \n",
       "5  Data Science\\nBpo\\nCustomer Service\\nLogistic ...  \n",
       "6  IT Skills\\nPython\\nMachine Learning\\nAWS\\nData...  \n",
       "7  IT Skills\\nPython\\nData Science\\nMachine Learn...  \n",
       "8  Wealth management\\ndata science\\ndevelopment t...  \n",
       "9  Data Science\\nHive\\nFinancial Services\\nAnalyt...  "
      ]
     },
     "execution_count": 33,
     "metadata": {},
     "output_type": "execute_result"
    }
   ],
   "source": [
    "df=pd.DataFrame({})\n",
    "df['Job Title']=job_title[:10]\n",
    "df['Job Location']=location[:10]\n",
    "df['Company_Name']=company_name[:10]\n",
    "df['Full Job Descriptions']=Description[:10]\n",
    "\n",
    "df"
   ]
  },
  {
   "cell_type": "markdown",
   "id": "c4a53c65",
   "metadata": {},
   "source": [
    "### Q3: In this question you have to scrape data using the filters available on the You have to use the location and salary filter."
   ]
  },
  {
   "cell_type": "code",
   "execution_count": 34,
   "id": "4c46005c",
   "metadata": {},
   "outputs": [],
   "source": [
    "import pandas as pd\n",
    "import selenium\n",
    "from selenium import webdriver"
   ]
  },
  {
   "cell_type": "code",
   "execution_count": 35,
   "id": "e5c56fc1",
   "metadata": {},
   "outputs": [],
   "source": [
    "#lets first connect to the web driver\n",
    "driver=webdriver.Chrome(r\"C:\\Program Files\\chromedriver.exe\")"
   ]
  },
  {
   "cell_type": "code",
   "execution_count": 36,
   "id": "22973297",
   "metadata": {},
   "outputs": [],
   "source": [
    "driver.get(\"https://www.naukri.com/\")"
   ]
  },
  {
   "cell_type": "code",
   "execution_count": 37,
   "id": "0e4a92a0",
   "metadata": {},
   "outputs": [],
   "source": [
    "#finding element for job search bar\n",
    "search_job=driver.find_element_by_id(\"qsb-keyword-sugg\")\n",
    "search_job.send_keys(\"Data Scientist\")"
   ]
  },
  {
   "cell_type": "code",
   "execution_count": 38,
   "id": "66c2a77c",
   "metadata": {},
   "outputs": [],
   "source": [
    "search_btn=driver.find_element_by_xpath(\"//div[@class='search-btn']/button\")\n",
    "search_btn.click()"
   ]
  },
  {
   "cell_type": "code",
   "execution_count": 39,
   "id": "ca535e12",
   "metadata": {},
   "outputs": [],
   "source": [
    "filter_button=driver.find_elements_by_xpath('//i[@class=\"grey-text lH20 fleft ml-8 txtLbl\"]')\n",
    "for i in filter_button:\n",
    "    if i.text=='Delhi/NCR':\n",
    "        i.click()\n",
    "        break"
   ]
  },
  {
   "cell_type": "code",
   "execution_count": 40,
   "id": "7b03cdac",
   "metadata": {},
   "outputs": [],
   "source": [
    "filter_button=driver.find_elements_by_xpath('//input[@id=\"chk-3-6 Lakhs-ctcFilter-\"]')\n",
    "for i in filter_button:\n",
    "    if i.text=='3-6 lakhs':\n",
    "        i.click()\n",
    "        break"
   ]
  },
  {
   "cell_type": "code",
   "execution_count": 41,
   "id": "e1b482f9",
   "metadata": {},
   "outputs": [
    {
     "data": {
      "text/plain": [
       "[<selenium.webdriver.remote.webelement.WebElement (session=\"b623ab36a74ec6b5e4a59425eeeb99dd\", element=\"684fa997-24cc-4636-a565-e2fb224a0c19\")>,\n",
       " <selenium.webdriver.remote.webelement.WebElement (session=\"b623ab36a74ec6b5e4a59425eeeb99dd\", element=\"4ec95413-067c-4881-8f46-dd264a5bdd8a\")>,\n",
       " <selenium.webdriver.remote.webelement.WebElement (session=\"b623ab36a74ec6b5e4a59425eeeb99dd\", element=\"cdc45829-ab70-4dff-97d9-20f95fd83fb9\")>,\n",
       " <selenium.webdriver.remote.webelement.WebElement (session=\"b623ab36a74ec6b5e4a59425eeeb99dd\", element=\"cd4ee4ff-d422-4fa1-92bf-35d77954810f\")>]"
      ]
     },
     "execution_count": 41,
     "metadata": {},
     "output_type": "execute_result"
    }
   ],
   "source": [
    "title_tag=driver.find_elements_by_xpath('//a[@class=\"title fw500 ellipsis\"]')\n",
    "title_tag[:4]"
   ]
  },
  {
   "cell_type": "code",
   "execution_count": 42,
   "id": "de5a7a54",
   "metadata": {},
   "outputs": [
    {
     "data": {
      "text/plain": [
       "['Sr. Data Scientist / Data Scientist For Bangalore & Kolkata Locations',\n",
       " 'Data Scientist',\n",
       " 'Data Scientist',\n",
       " 'Senior Data Scientist - Python/Machine Learning Algorithms']"
      ]
     },
     "execution_count": 42,
     "metadata": {},
     "output_type": "execute_result"
    }
   ],
   "source": [
    "title=[]\n",
    "for i in title_tag:\n",
    "    title.append(i.text.strip())\n",
    "title[:4]"
   ]
  },
  {
   "cell_type": "code",
   "execution_count": 43,
   "id": "7c6857d2",
   "metadata": {},
   "outputs": [],
   "source": [
    "location_tag=driver.find_elements_by_xpath('//li[@class=\"fleft grey-text br2 placeHolderLi location\"]')"
   ]
  },
  {
   "cell_type": "code",
   "execution_count": 44,
   "id": "90ebecee",
   "metadata": {},
   "outputs": [
    {
     "data": {
      "text/plain": [
       "['Kolkata, Bangalore/Bengaluru',\n",
       " 'Hyderabad/Secunderabad(Madhapur)',\n",
       " 'Hyderabad/Secunderabad, Pune, Bangalore/Bengaluru',\n",
       " 'Mumbai, Hyderabad/Secunderabad, Pune, Bangalore/Bengaluru']"
      ]
     },
     "execution_count": 44,
     "metadata": {},
     "output_type": "execute_result"
    }
   ],
   "source": [
    "location=[]\n",
    "for i in location_tag:\n",
    "    location.append(i.text.strip())\n",
    "location[:4]"
   ]
  },
  {
   "cell_type": "code",
   "execution_count": 45,
   "id": "670a4e63",
   "metadata": {},
   "outputs": [
    {
     "data": {
      "text/plain": [
       "[<selenium.webdriver.remote.webelement.WebElement (session=\"b623ab36a74ec6b5e4a59425eeeb99dd\", element=\"cd55fa2c-f420-485a-b02c-9700169f8c77\")>,\n",
       " <selenium.webdriver.remote.webelement.WebElement (session=\"b623ab36a74ec6b5e4a59425eeeb99dd\", element=\"0c409542-5e6a-44b3-aab9-7fcb442c9c98\")>,\n",
       " <selenium.webdriver.remote.webelement.WebElement (session=\"b623ab36a74ec6b5e4a59425eeeb99dd\", element=\"93f042b3-0d72-4b58-93d8-8efc190edbae\")>,\n",
       " <selenium.webdriver.remote.webelement.WebElement (session=\"b623ab36a74ec6b5e4a59425eeeb99dd\", element=\"70f6ec71-a4e2-471a-b93d-88ca816fb931\")>]"
      ]
     },
     "execution_count": 45,
     "metadata": {},
     "output_type": "execute_result"
    }
   ],
   "source": [
    "company_tag=driver.find_elements_by_xpath('//a[@class=\"subTitle ellipsis fleft\"]')\n",
    "company_tag[:4]"
   ]
  },
  {
   "cell_type": "code",
   "execution_count": 46,
   "id": "56886564",
   "metadata": {},
   "outputs": [
    {
     "data": {
      "text/plain": [
       "['mPokket',\n",
       " 'Sadup softech Pvt Ltd',\n",
       " 'Amazon Development Centre (India) Pvt. Ltd.',\n",
       " 'Altimax Business Solutions']"
      ]
     },
     "execution_count": 46,
     "metadata": {},
     "output_type": "execute_result"
    }
   ],
   "source": [
    "company=[]\n",
    "for i in company_tag:\n",
    "    company.append(i.text.strip())\n",
    "company[:4]"
   ]
  },
  {
   "cell_type": "code",
   "execution_count": 47,
   "id": "1f680806",
   "metadata": {},
   "outputs": [
    {
     "data": {
      "text/plain": [
       "[<selenium.webdriver.remote.webelement.WebElement (session=\"b623ab36a74ec6b5e4a59425eeeb99dd\", element=\"37866555-37ce-4383-b081-8c505fcaf9a2\")>,\n",
       " <selenium.webdriver.remote.webelement.WebElement (session=\"b623ab36a74ec6b5e4a59425eeeb99dd\", element=\"18a1ca9b-6296-405d-aec6-13b250939788\")>,\n",
       " <selenium.webdriver.remote.webelement.WebElement (session=\"b623ab36a74ec6b5e4a59425eeeb99dd\", element=\"83b749c5-aacc-4f5f-9470-00da5b47b7c9\")>,\n",
       " <selenium.webdriver.remote.webelement.WebElement (session=\"b623ab36a74ec6b5e4a59425eeeb99dd\", element=\"62d08c0d-5aed-4524-b0e8-187eefcffb56\")>]"
      ]
     },
     "execution_count": 47,
     "metadata": {},
     "output_type": "execute_result"
    }
   ],
   "source": [
    "experiance_tag=driver.find_elements_by_xpath('//li[@class=\"fleft grey-text br2 placeHolderLi experience\"]')\n",
    "experiance_tag[:4]"
   ]
  },
  {
   "cell_type": "code",
   "execution_count": 48,
   "id": "d7324d4f",
   "metadata": {},
   "outputs": [
    {
     "data": {
      "text/plain": [
       "['3-8 Yrs', '7-11 Yrs', '4-9 Yrs', '4-9 Yrs']"
      ]
     },
     "execution_count": 48,
     "metadata": {},
     "output_type": "execute_result"
    }
   ],
   "source": [
    "experiance=[]\n",
    "for i in experiance_tag:\n",
    "    experiance.append(i.text.strip())\n",
    "experiance[:4]"
   ]
  },
  {
   "cell_type": "code",
   "execution_count": 49,
   "id": "3a1c3464",
   "metadata": {},
   "outputs": [
    {
     "name": "stdout",
     "output_type": "stream",
     "text": [
      "20 20 19 20\n"
     ]
    }
   ],
   "source": [
    "print(len(title),len(company),len(experiance),len(location))"
   ]
  },
  {
   "cell_type": "code",
   "execution_count": 50,
   "id": "e8b8f3b3",
   "metadata": {},
   "outputs": [
    {
     "data": {
      "text/html": [
       "<div>\n",
       "<style scoped>\n",
       "    .dataframe tbody tr th:only-of-type {\n",
       "        vertical-align: middle;\n",
       "    }\n",
       "\n",
       "    .dataframe tbody tr th {\n",
       "        vertical-align: top;\n",
       "    }\n",
       "\n",
       "    .dataframe thead th {\n",
       "        text-align: right;\n",
       "    }\n",
       "</style>\n",
       "<table border=\"1\" class=\"dataframe\">\n",
       "  <thead>\n",
       "    <tr style=\"text-align: right;\">\n",
       "      <th></th>\n",
       "      <th>Job TItle</th>\n",
       "      <th>Job Location</th>\n",
       "      <th>Company Name</th>\n",
       "      <th>Experiance Required</th>\n",
       "    </tr>\n",
       "  </thead>\n",
       "  <tbody>\n",
       "    <tr>\n",
       "      <th>0</th>\n",
       "      <td>Sr. Data Scientist / Data Scientist For Bangal...</td>\n",
       "      <td>Kolkata, Bangalore/Bengaluru</td>\n",
       "      <td>mPokket</td>\n",
       "      <td>3-8 Yrs</td>\n",
       "    </tr>\n",
       "    <tr>\n",
       "      <th>1</th>\n",
       "      <td>Data Scientist</td>\n",
       "      <td>Hyderabad/Secunderabad(Madhapur)</td>\n",
       "      <td>Sadup softech Pvt Ltd</td>\n",
       "      <td>7-11 Yrs</td>\n",
       "    </tr>\n",
       "    <tr>\n",
       "      <th>2</th>\n",
       "      <td>Data Scientist</td>\n",
       "      <td>Hyderabad/Secunderabad, Pune, Bangalore/Bengaluru</td>\n",
       "      <td>Amazon Development Centre (India) Pvt. Ltd.</td>\n",
       "      <td>4-9 Yrs</td>\n",
       "    </tr>\n",
       "    <tr>\n",
       "      <th>3</th>\n",
       "      <td>Senior Data Scientist - Python/Machine Learnin...</td>\n",
       "      <td>Mumbai, Hyderabad/Secunderabad, Pune, Bangalor...</td>\n",
       "      <td>Altimax Business Solutions</td>\n",
       "      <td>4-9 Yrs</td>\n",
       "    </tr>\n",
       "    <tr>\n",
       "      <th>4</th>\n",
       "      <td>Lead Data Scientist</td>\n",
       "      <td>Bangalore/Bengaluru</td>\n",
       "      <td>Huawei Technologies</td>\n",
       "      <td>4-7 Yrs</td>\n",
       "    </tr>\n",
       "    <tr>\n",
       "      <th>5</th>\n",
       "      <td>Senior Data Scientist, Data Engineering</td>\n",
       "      <td>Hyderabad/Secunderabad</td>\n",
       "      <td>Ryan, LLC.</td>\n",
       "      <td>2-7 Yrs</td>\n",
       "    </tr>\n",
       "    <tr>\n",
       "      <th>6</th>\n",
       "      <td>SDE2 Data Scientist</td>\n",
       "      <td>Bangalore/Bengaluru</td>\n",
       "      <td>Multi Recruit</td>\n",
       "      <td>8-13 Yrs</td>\n",
       "    </tr>\n",
       "    <tr>\n",
       "      <th>7</th>\n",
       "      <td>SDE1 Data Scientist</td>\n",
       "      <td>Bangalore/Bengaluru</td>\n",
       "      <td>Multi Recruit</td>\n",
       "      <td>10-15 Yrs</td>\n",
       "    </tr>\n",
       "    <tr>\n",
       "      <th>8</th>\n",
       "      <td>Senior Data Scientist</td>\n",
       "      <td>Noida, Hyderabad/Secunderabad, Chennai</td>\n",
       "      <td>HCL Technologies Limited</td>\n",
       "      <td>0-2 Yrs</td>\n",
       "    </tr>\n",
       "    <tr>\n",
       "      <th>9</th>\n",
       "      <td>Data Scientist</td>\n",
       "      <td>Tirupati, Vellore</td>\n",
       "      <td>STRYDO TECHNOLOGIES PVT LTD</td>\n",
       "      <td>1-6 Yrs</td>\n",
       "    </tr>\n",
       "  </tbody>\n",
       "</table>\n",
       "</div>"
      ],
      "text/plain": [
       "                                           Job TItle  \\\n",
       "0  Sr. Data Scientist / Data Scientist For Bangal...   \n",
       "1                                     Data Scientist   \n",
       "2                                     Data Scientist   \n",
       "3  Senior Data Scientist - Python/Machine Learnin...   \n",
       "4                                Lead Data Scientist   \n",
       "5            Senior Data Scientist, Data Engineering   \n",
       "6                                SDE2 Data Scientist   \n",
       "7                                SDE1 Data Scientist   \n",
       "8                              Senior Data Scientist   \n",
       "9                                     Data Scientist   \n",
       "\n",
       "                                        Job Location  \\\n",
       "0                       Kolkata, Bangalore/Bengaluru   \n",
       "1                   Hyderabad/Secunderabad(Madhapur)   \n",
       "2  Hyderabad/Secunderabad, Pune, Bangalore/Bengaluru   \n",
       "3  Mumbai, Hyderabad/Secunderabad, Pune, Bangalor...   \n",
       "4                                Bangalore/Bengaluru   \n",
       "5                             Hyderabad/Secunderabad   \n",
       "6                                Bangalore/Bengaluru   \n",
       "7                                Bangalore/Bengaluru   \n",
       "8             Noida, Hyderabad/Secunderabad, Chennai   \n",
       "9                                  Tirupati, Vellore   \n",
       "\n",
       "                                  Company Name Experiance Required  \n",
       "0                                      mPokket             3-8 Yrs  \n",
       "1                        Sadup softech Pvt Ltd            7-11 Yrs  \n",
       "2  Amazon Development Centre (India) Pvt. Ltd.             4-9 Yrs  \n",
       "3                   Altimax Business Solutions             4-9 Yrs  \n",
       "4                          Huawei Technologies             4-7 Yrs  \n",
       "5                                   Ryan, LLC.             2-7 Yrs  \n",
       "6                                Multi Recruit            8-13 Yrs  \n",
       "7                                Multi Recruit           10-15 Yrs  \n",
       "8                     HCL Technologies Limited             0-2 Yrs  \n",
       "9                  STRYDO TECHNOLOGIES PVT LTD             1-6 Yrs  "
      ]
     },
     "execution_count": 50,
     "metadata": {},
     "output_type": "execute_result"
    }
   ],
   "source": [
    "ds=pd.DataFrame({})\n",
    "ds['Job TItle']=title[:10]\n",
    "ds['Job Location']=location[:10]\n",
    "ds['Company Name']=company[:10]\n",
    "ds['Experiance Required']=experiance[:10]\n",
    "\n",
    "ds"
   ]
  },
  {
   "cell_type": "markdown",
   "id": "55a21119",
   "metadata": {},
   "source": [
    "### Q4: Write a python program to scrape data for first 10 job results for Data scientist Designation in Noida \n",
    "\n",
    "### location.You have to scrape company_name, No. of days ago when job was posted, Rating of the company."
   ]
  },
  {
   "cell_type": "code",
   "execution_count": 51,
   "id": "a1c4de12",
   "metadata": {},
   "outputs": [],
   "source": [
    "import pandas as pd\n",
    "import selenium\n",
    "from selenium import webdriver"
   ]
  },
  {
   "cell_type": "code",
   "execution_count": 52,
   "id": "74981de0",
   "metadata": {},
   "outputs": [],
   "source": [
    "#lets first connect to the web driver\n",
    "driver=webdriver.Chrome(r\"C:\\Program Files\\chromedriver.exe\")"
   ]
  },
  {
   "cell_type": "code",
   "execution_count": 53,
   "id": "d651ee8d",
   "metadata": {},
   "outputs": [],
   "source": [
    "driver.get(\"https://www.glassdoor.co.in/index.htm\")"
   ]
  },
  {
   "cell_type": "code",
   "execution_count": 54,
   "id": "b355e0f0",
   "metadata": {},
   "outputs": [],
   "source": [
    "#finding element for job search bar\n",
    "#search_job=driver.find_element_by_id(\"scKeyword\")\n",
    "#search_job.send_keys(\"Data Scientist\")\n",
    "#search_loc=driver.find_element_by_xpath(\"//div[@class='input-wrapper css-q444d9']\")\n",
    "#search_loc.send_keys(\"Noida\")"
   ]
  },
  {
   "cell_type": "code",
   "execution_count": 57,
   "id": "c8da274d",
   "metadata": {},
   "outputs": [
    {
     "data": {
      "text/plain": [
       "[<selenium.webdriver.remote.webelement.WebElement (session=\"dd50fdda80d4aa22c9365dec0b26c28f\", element=\"fabef6e1-dcd7-4554-a453-3249e73bba0f\")>,\n",
       " <selenium.webdriver.remote.webelement.WebElement (session=\"dd50fdda80d4aa22c9365dec0b26c28f\", element=\"a6c75a32-915e-4287-bce2-81f1817a7919\")>]"
      ]
     },
     "execution_count": 57,
     "metadata": {},
     "output_type": "execute_result"
    }
   ],
   "source": [
    "company_tag=driver.find_elements_by_xpath('//div[@class=\"d-flex justify-content-between align-items-start\"]')\n",
    "company_tag[:2]"
   ]
  },
  {
   "cell_type": "code",
   "execution_count": 58,
   "id": "adf10115",
   "metadata": {},
   "outputs": [
    {
     "data": {
      "text/plain": [
       "['Instrovate Technologies',\n",
       " 'Pixel Vision',\n",
       " '2COMS Consulting Private Limited',\n",
       " 'Innovacer']"
      ]
     },
     "execution_count": 58,
     "metadata": {},
     "output_type": "execute_result"
    }
   ],
   "source": [
    "company_name=[]\n",
    "for i in company_tag:\n",
    "    company_name.append(i.text.strip())\n",
    "company_name[:4]"
   ]
  },
  {
   "cell_type": "code",
   "execution_count": 59,
   "id": "509b668d",
   "metadata": {},
   "outputs": [
    {
     "data": {
      "text/plain": [
       "[<selenium.webdriver.remote.webelement.WebElement (session=\"dd50fdda80d4aa22c9365dec0b26c28f\", element=\"2045c00b-d114-4fe1-b488-ca4ece05e225\")>,\n",
       " <selenium.webdriver.remote.webelement.WebElement (session=\"dd50fdda80d4aa22c9365dec0b26c28f\", element=\"a347f46c-47ef-432d-b466-adf03a722613\")>]"
      ]
     },
     "execution_count": 59,
     "metadata": {},
     "output_type": "execute_result"
    }
   ],
   "source": [
    "rating_tag=driver.find_elements_by_xpath('//span[@class=\" job-search-key-srfzj0 e1cjmv6j0\"]')\n",
    "rating_tag[:2]"
   ]
  },
  {
   "cell_type": "code",
   "execution_count": 60,
   "id": "5799fd7d",
   "metadata": {},
   "outputs": [
    {
     "data": {
      "text/plain": [
       "['3.8', '3.8', '3.8', '3.7']"
      ]
     },
     "execution_count": 60,
     "metadata": {},
     "output_type": "execute_result"
    }
   ],
   "source": [
    "company_rating=[]\n",
    "for i in rating_tag:\n",
    "    company_rating.append(i.text.strip())\n",
    "company_rating[:4]"
   ]
  },
  {
   "cell_type": "code",
   "execution_count": 61,
   "id": "ce8ff9cd",
   "metadata": {},
   "outputs": [
    {
     "data": {
      "text/plain": [
       "[<selenium.webdriver.remote.webelement.WebElement (session=\"dd50fdda80d4aa22c9365dec0b26c28f\", element=\"5c9adcd6-c6b5-4142-be57-0aba9595fea8\")>,\n",
       " <selenium.webdriver.remote.webelement.WebElement (session=\"dd50fdda80d4aa22c9365dec0b26c28f\", element=\"80362cc3-be1d-424c-8906-91d81566a910\")>]"
      ]
     },
     "execution_count": 61,
     "metadata": {},
     "output_type": "execute_result"
    }
   ],
   "source": [
    "posted_tag=driver.find_elements_by_xpath('//div[@class=\"d-flex align-items-end pl-std css-17n8uzw\"]')\n",
    "posted_tag[:2]"
   ]
  },
  {
   "cell_type": "code",
   "execution_count": 62,
   "id": "64e674b8",
   "metadata": {},
   "outputs": [
    {
     "data": {
      "text/plain": [
       "['30d+', '4d', '16d', '4d']"
      ]
     },
     "execution_count": 62,
     "metadata": {},
     "output_type": "execute_result"
    }
   ],
   "source": [
    "job_posted_date=[]\n",
    "for i in posted_tag:\n",
    "    job_posted_date.append(i.text.strip())\n",
    "job_posted_date[:4]"
   ]
  },
  {
   "cell_type": "code",
   "execution_count": 63,
   "id": "fcd49d05",
   "metadata": {},
   "outputs": [
    {
     "name": "stdout",
     "output_type": "stream",
     "text": [
      "30 30 22\n"
     ]
    }
   ],
   "source": [
    "print(len(company_name),len(job_posted_date),len(company_rating))"
   ]
  },
  {
   "cell_type": "code",
   "execution_count": 64,
   "id": "40e7fd10",
   "metadata": {},
   "outputs": [
    {
     "data": {
      "text/html": [
       "<div>\n",
       "<style scoped>\n",
       "    .dataframe tbody tr th:only-of-type {\n",
       "        vertical-align: middle;\n",
       "    }\n",
       "\n",
       "    .dataframe tbody tr th {\n",
       "        vertical-align: top;\n",
       "    }\n",
       "\n",
       "    .dataframe thead th {\n",
       "        text-align: right;\n",
       "    }\n",
       "</style>\n",
       "<table border=\"1\" class=\"dataframe\">\n",
       "  <thead>\n",
       "    <tr style=\"text-align: right;\">\n",
       "      <th></th>\n",
       "      <th>Company Name</th>\n",
       "      <th>No. of days ago when Job was Posted</th>\n",
       "      <th>Rating of the Company</th>\n",
       "    </tr>\n",
       "  </thead>\n",
       "  <tbody>\n",
       "    <tr>\n",
       "      <th>0</th>\n",
       "      <td>Instrovate Technologies</td>\n",
       "      <td>30d+</td>\n",
       "      <td>3.8</td>\n",
       "    </tr>\n",
       "    <tr>\n",
       "      <th>1</th>\n",
       "      <td>Pixel Vision</td>\n",
       "      <td>4d</td>\n",
       "      <td>3.8</td>\n",
       "    </tr>\n",
       "    <tr>\n",
       "      <th>2</th>\n",
       "      <td>2COMS Consulting Private Limited</td>\n",
       "      <td>16d</td>\n",
       "      <td>3.8</td>\n",
       "    </tr>\n",
       "    <tr>\n",
       "      <th>3</th>\n",
       "      <td>Innovacer</td>\n",
       "      <td>4d</td>\n",
       "      <td>3.7</td>\n",
       "    </tr>\n",
       "    <tr>\n",
       "      <th>4</th>\n",
       "      <td>Crowe</td>\n",
       "      <td>14d</td>\n",
       "      <td>3.7</td>\n",
       "    </tr>\n",
       "    <tr>\n",
       "      <th>5</th>\n",
       "      <td>UnitedHealth Group</td>\n",
       "      <td>8d</td>\n",
       "      <td>4.0</td>\n",
       "    </tr>\n",
       "    <tr>\n",
       "      <th>6</th>\n",
       "      <td>HDFC Bank</td>\n",
       "      <td>5d</td>\n",
       "      <td>4.5</td>\n",
       "    </tr>\n",
       "    <tr>\n",
       "      <th>7</th>\n",
       "      <td>Salasar New Age Technologies</td>\n",
       "      <td>30d+</td>\n",
       "      <td>4.0</td>\n",
       "    </tr>\n",
       "    <tr>\n",
       "      <th>8</th>\n",
       "      <td>AlgoScale Technologies Private Limited</td>\n",
       "      <td>30d+</td>\n",
       "      <td>5.0</td>\n",
       "    </tr>\n",
       "    <tr>\n",
       "      <th>9</th>\n",
       "      <td>AIIMS, Delhi</td>\n",
       "      <td>3d</td>\n",
       "      <td>3.6</td>\n",
       "    </tr>\n",
       "  </tbody>\n",
       "</table>\n",
       "</div>"
      ],
      "text/plain": [
       "                             Company Name No. of days ago when Job was Posted  \\\n",
       "0                 Instrovate Technologies                                30d+   \n",
       "1                            Pixel Vision                                  4d   \n",
       "2        2COMS Consulting Private Limited                                 16d   \n",
       "3                               Innovacer                                  4d   \n",
       "4                                   Crowe                                 14d   \n",
       "5                      UnitedHealth Group                                  8d   \n",
       "6                               HDFC Bank                                  5d   \n",
       "7            Salasar New Age Technologies                                30d+   \n",
       "8  AlgoScale Technologies Private Limited                                30d+   \n",
       "9                            AIIMS, Delhi                                  3d   \n",
       "\n",
       "  Rating of the Company  \n",
       "0                   3.8  \n",
       "1                   3.8  \n",
       "2                   3.8  \n",
       "3                   3.7  \n",
       "4                   3.7  \n",
       "5                   4.0  \n",
       "6                   4.5  \n",
       "7                   4.0  \n",
       "8                   5.0  \n",
       "9                   3.6  "
      ]
     },
     "execution_count": 64,
     "metadata": {},
     "output_type": "execute_result"
    }
   ],
   "source": [
    "gd=pd.DataFrame({})\n",
    "gd['Company Name']=company_name[:10]\n",
    "gd['No. of days ago when Job was Posted']=job_posted_date[:10]\n",
    "gd['Rating of the Company']=company_rating[:10]\n",
    "\n",
    "gd"
   ]
  },
  {
   "cell_type": "markdown",
   "id": "2da494aa",
   "metadata": {},
   "source": [
    "### Q5: Write a python program to scrape the salary data for Data Scientist designation in Noida location.You have to scrape Company name, Number of salaries, Average salary, Min salary, Max Salary."
   ]
  },
  {
   "cell_type": "code",
   "execution_count": 65,
   "id": "ec2df530",
   "metadata": {},
   "outputs": [],
   "source": [
    "import pandas as pd\n",
    "import selenium\n",
    "from selenium import webdriver"
   ]
  },
  {
   "cell_type": "code",
   "execution_count": 66,
   "id": "08dd1aa3",
   "metadata": {},
   "outputs": [],
   "source": [
    "#lets first connect to the web driver\n",
    "driver=webdriver.Chrome(r\"C:\\Program Files\\chromedriver.exe\")"
   ]
  },
  {
   "cell_type": "code",
   "execution_count": 67,
   "id": "321972d1",
   "metadata": {},
   "outputs": [],
   "source": [
    "driver.get(\"https://www.glassdoor.co.in/Salaries/index.htm\")"
   ]
  },
  {
   "cell_type": "code",
   "execution_count": 68,
   "id": "1ffb4df3",
   "metadata": {},
   "outputs": [],
   "source": [
    "#finding element for job search bar\n",
    "search_job=driver.find_element_by_id(\"KeywordSearch\")\n",
    "search_job.send_keys(\"Data Scientist\")\n",
    "search_loc=driver.find_element_by_xpath('//input[@class=\"loc\"]')\n",
    "search_loc.send_keys(\"Noida\")"
   ]
  },
  {
   "cell_type": "code",
   "execution_count": 69,
   "id": "eb01675f",
   "metadata": {},
   "outputs": [],
   "source": [
    "#search_btn=driver.find_element_by_xpath('//button[@class=\"gd-btn-mkt\"]')\n",
    "#search_btn.click()\n"
   ]
  },
  {
   "cell_type": "code",
   "execution_count": 73,
   "id": "bffeac05",
   "metadata": {},
   "outputs": [],
   "source": [
    "company_tag=driver.find_elements_by_xpath('//a[@class=\"css-f3vw95 e1aj7ssy3\"]')"
   ]
  },
  {
   "cell_type": "code",
   "execution_count": 74,
   "id": "dacafd59",
   "metadata": {},
   "outputs": [
    {
     "data": {
      "text/plain": [
       "['Tata Consultancy Services', 'IBM', 'Accenture', 'Ericsson-Worldwide']"
      ]
     },
     "execution_count": 74,
     "metadata": {},
     "output_type": "execute_result"
    }
   ],
   "source": [
    "company=[]\n",
    "for i in company_tag:\n",
    "    company.append(i.text.strip())\n",
    "company[:4]"
   ]
  },
  {
   "cell_type": "code",
   "execution_count": 75,
   "id": "abf73e95",
   "metadata": {},
   "outputs": [],
   "source": [
    "no_salary_tag=driver.find_elements_by_xpath('//div[@class=\"col-12 col-lg-auto\"]')"
   ]
  },
  {
   "cell_type": "code",
   "execution_count": 76,
   "id": "0f7bb6de",
   "metadata": {},
   "outputs": [
    {
     "data": {
      "text/plain": [
       "['25 salaries', '21 salaries', '16 salaries', '15 salaries']"
      ]
     },
     "execution_count": 76,
     "metadata": {},
     "output_type": "execute_result"
    }
   ],
   "source": [
    "no_salary=[]\n",
    "for i in no_salary_tag:\n",
    "    no_salary.append(i.text.strip())\n",
    "no_salary[:4]"
   ]
  },
  {
   "cell_type": "code",
   "execution_count": 77,
   "id": "be82cea0",
   "metadata": {},
   "outputs": [],
   "source": [
    "avg_tag=driver.find_elements_by_xpath('//div[@class=\"col-12 col-lg-4 px-lg-0 d-flex align-items-baseline\"]')"
   ]
  },
  {
   "cell_type": "code",
   "execution_count": 78,
   "id": "023478db",
   "metadata": {},
   "outputs": [
    {
     "data": {
      "text/plain": [
       "['₹6,36,785\\n /yr', '₹9,24,624\\n /yr', '₹12,24,104\\n /yr', '₹7,68,525\\n /yr']"
      ]
     },
     "execution_count": 78,
     "metadata": {},
     "output_type": "execute_result"
    }
   ],
   "source": [
    "avg_salary=[]\n",
    "for i in avg_tag:\n",
    "    avg_salary.append(i.text.strip())\n",
    "avg_salary[:4]"
   ]
  },
  {
   "cell_type": "code",
   "execution_count": 86,
   "id": "af20e806",
   "metadata": {},
   "outputs": [],
   "source": [
    "min_tag=driver.find_elements_by_xpath('//span[@class=\"d-block d-lg-none m-0 css-1b6bxoo\"]')"
   ]
  },
  {
   "cell_type": "code",
   "execution_count": 87,
   "id": "0fb6b83f",
   "metadata": {},
   "outputs": [
    {
     "data": {
      "text/plain": [
       "['Range: ₹4L - ₹13L',\n",
       " 'Range: ₹6L - ₹26L',\n",
       " 'Range: ₹6L - ₹23L',\n",
       " 'Range: ₹4L - ₹17L']"
      ]
     },
     "execution_count": 87,
     "metadata": {},
     "output_type": "execute_result"
    }
   ],
   "source": [
    "salary_range=[]\n",
    "for i in min_tag:\n",
    "    salary_range.append(i.text.strip())\n",
    "salary_range[:4]"
   ]
  },
  {
   "cell_type": "code",
   "execution_count": 88,
   "id": "9edd16ce",
   "metadata": {},
   "outputs": [
    {
     "name": "stdout",
     "output_type": "stream",
     "text": [
      "20 20 20 20\n"
     ]
    }
   ],
   "source": [
    "print(len(company),len(no_salary),len(avg_salary),len(salary_range))"
   ]
  },
  {
   "cell_type": "code",
   "execution_count": 89,
   "id": "f67339a1",
   "metadata": {},
   "outputs": [
    {
     "data": {
      "text/html": [
       "<div>\n",
       "<style scoped>\n",
       "    .dataframe tbody tr th:only-of-type {\n",
       "        vertical-align: middle;\n",
       "    }\n",
       "\n",
       "    .dataframe tbody tr th {\n",
       "        vertical-align: top;\n",
       "    }\n",
       "\n",
       "    .dataframe thead th {\n",
       "        text-align: right;\n",
       "    }\n",
       "</style>\n",
       "<table border=\"1\" class=\"dataframe\">\n",
       "  <thead>\n",
       "    <tr style=\"text-align: right;\">\n",
       "      <th></th>\n",
       "      <th>Company Name</th>\n",
       "      <th>Number of Salaries</th>\n",
       "      <th>Minimum to Maximum Salary</th>\n",
       "      <th>Averange Salary</th>\n",
       "    </tr>\n",
       "  </thead>\n",
       "  <tbody>\n",
       "    <tr>\n",
       "      <th>0</th>\n",
       "      <td>Tata Consultancy Services</td>\n",
       "      <td>25 salaries</td>\n",
       "      <td>Range: ₹4L - ₹13L</td>\n",
       "      <td>₹6,36,785\\n /yr</td>\n",
       "    </tr>\n",
       "    <tr>\n",
       "      <th>1</th>\n",
       "      <td>IBM</td>\n",
       "      <td>21 salaries</td>\n",
       "      <td>Range: ₹6L - ₹26L</td>\n",
       "      <td>₹9,24,624\\n /yr</td>\n",
       "    </tr>\n",
       "    <tr>\n",
       "      <th>2</th>\n",
       "      <td>Accenture</td>\n",
       "      <td>16 salaries</td>\n",
       "      <td>Range: ₹6L - ₹23L</td>\n",
       "      <td>₹12,24,104\\n /yr</td>\n",
       "    </tr>\n",
       "    <tr>\n",
       "      <th>3</th>\n",
       "      <td>Ericsson-Worldwide</td>\n",
       "      <td>15 salaries</td>\n",
       "      <td>Range: ₹4L - ₹17L</td>\n",
       "      <td>₹7,68,525\\n /yr</td>\n",
       "    </tr>\n",
       "    <tr>\n",
       "      <th>4</th>\n",
       "      <td>UnitedHealth Group</td>\n",
       "      <td>15 salaries</td>\n",
       "      <td>Range: ₹8L - ₹16L</td>\n",
       "      <td>₹12,82,880\\n /yr</td>\n",
       "    </tr>\n",
       "    <tr>\n",
       "      <th>5</th>\n",
       "      <td>Delhivery</td>\n",
       "      <td>15 salaries</td>\n",
       "      <td>Range: ₹5L - ₹1Cr</td>\n",
       "      <td>₹12,60,805\\n /yr</td>\n",
       "    </tr>\n",
       "    <tr>\n",
       "      <th>6</th>\n",
       "      <td>EXL Service</td>\n",
       "      <td>11 salaries</td>\n",
       "      <td>Range: ₹6L - ₹20L</td>\n",
       "      <td>₹12,53,544\\n /yr</td>\n",
       "    </tr>\n",
       "    <tr>\n",
       "      <th>7</th>\n",
       "      <td>Optum</td>\n",
       "      <td>11 salaries</td>\n",
       "      <td>Range: ₹8L - ₹21L</td>\n",
       "      <td>₹12,70,000\\n /yr</td>\n",
       "    </tr>\n",
       "    <tr>\n",
       "      <th>8</th>\n",
       "      <td>ZS Associates</td>\n",
       "      <td>10 salaries</td>\n",
       "      <td>Range: ₹2L - ₹22L</td>\n",
       "      <td>₹11,82,266\\n /yr</td>\n",
       "    </tr>\n",
       "    <tr>\n",
       "      <th>9</th>\n",
       "      <td>Optum Global Solutions</td>\n",
       "      <td>10 salaries</td>\n",
       "      <td>Range: ₹11L - ₹18L</td>\n",
       "      <td>₹14,62,558\\n /yr</td>\n",
       "    </tr>\n",
       "    <tr>\n",
       "      <th>10</th>\n",
       "      <td>dunnhumby</td>\n",
       "      <td>10 salaries</td>\n",
       "      <td>Range: ₹6L - ₹21L</td>\n",
       "      <td>₹11,45,202\\n /yr</td>\n",
       "    </tr>\n",
       "    <tr>\n",
       "      <th>11</th>\n",
       "      <td>Valiance Solutions</td>\n",
       "      <td>10 salaries</td>\n",
       "      <td>Range: ₹5L - ₹15L</td>\n",
       "      <td>₹8,93,926\\n /yr</td>\n",
       "    </tr>\n",
       "    <tr>\n",
       "      <th>12</th>\n",
       "      <td>Cognizant Technology Solutions</td>\n",
       "      <td>8 salaries</td>\n",
       "      <td>Range: ₹4L - ₹13L</td>\n",
       "      <td>₹9,66,328\\n /yr</td>\n",
       "    </tr>\n",
       "    <tr>\n",
       "      <th>13</th>\n",
       "      <td>Amazon</td>\n",
       "      <td>8 salaries</td>\n",
       "      <td>Range: ₹10L - ₹46L</td>\n",
       "      <td>₹20,82,095\\n /yr</td>\n",
       "    </tr>\n",
       "    <tr>\n",
       "      <th>14</th>\n",
       "      <td>Nagarro</td>\n",
       "      <td>8 salaries</td>\n",
       "      <td>Range: ₹4L - ₹21L</td>\n",
       "      <td>₹11,11,592\\n /yr</td>\n",
       "    </tr>\n",
       "    <tr>\n",
       "      <th>15</th>\n",
       "      <td>Innovaccer</td>\n",
       "      <td>8 salaries</td>\n",
       "      <td>Range: ₹6L - ₹18L</td>\n",
       "      <td>₹12,51,280\\n /yr</td>\n",
       "    </tr>\n",
       "    <tr>\n",
       "      <th>16</th>\n",
       "      <td>Fresher</td>\n",
       "      <td>7 salaries</td>\n",
       "      <td>Range: ₹25T - ₹1L</td>\n",
       "      <td>₹50,000\\n /mo</td>\n",
       "    </tr>\n",
       "    <tr>\n",
       "      <th>17</th>\n",
       "      <td>OYO</td>\n",
       "      <td>7 salaries</td>\n",
       "      <td>Range: ₹10L - ₹21L</td>\n",
       "      <td>₹14,64,785\\n /yr</td>\n",
       "    </tr>\n",
       "    <tr>\n",
       "      <th>18</th>\n",
       "      <td>HCL Technologies</td>\n",
       "      <td>6 salaries</td>\n",
       "      <td>Range: ₹4L - ₹15L</td>\n",
       "      <td>₹6,96,665\\n /yr</td>\n",
       "    </tr>\n",
       "    <tr>\n",
       "      <th>19</th>\n",
       "      <td>Genpact</td>\n",
       "      <td>6 salaries</td>\n",
       "      <td>Range: ₹2L - ₹23L</td>\n",
       "      <td>₹5,96,566\\n /yr</td>\n",
       "    </tr>\n",
       "  </tbody>\n",
       "</table>\n",
       "</div>"
      ],
      "text/plain": [
       "                      Company Name Number of Salaries  \\\n",
       "0        Tata Consultancy Services        25 salaries   \n",
       "1                              IBM        21 salaries   \n",
       "2                        Accenture        16 salaries   \n",
       "3               Ericsson-Worldwide        15 salaries   \n",
       "4               UnitedHealth Group        15 salaries   \n",
       "5                        Delhivery        15 salaries   \n",
       "6                      EXL Service        11 salaries   \n",
       "7                            Optum        11 salaries   \n",
       "8                    ZS Associates        10 salaries   \n",
       "9           Optum Global Solutions        10 salaries   \n",
       "10                       dunnhumby        10 salaries   \n",
       "11              Valiance Solutions        10 salaries   \n",
       "12  Cognizant Technology Solutions         8 salaries   \n",
       "13                          Amazon         8 salaries   \n",
       "14                         Nagarro         8 salaries   \n",
       "15                      Innovaccer         8 salaries   \n",
       "16                         Fresher         7 salaries   \n",
       "17                             OYO         7 salaries   \n",
       "18                HCL Technologies         6 salaries   \n",
       "19                         Genpact         6 salaries   \n",
       "\n",
       "   Minimum to Maximum Salary    Averange Salary  \n",
       "0           Range: ₹4L - ₹13L   ₹6,36,785\\n /yr  \n",
       "1           Range: ₹6L - ₹26L   ₹9,24,624\\n /yr  \n",
       "2           Range: ₹6L - ₹23L  ₹12,24,104\\n /yr  \n",
       "3           Range: ₹4L - ₹17L   ₹7,68,525\\n /yr  \n",
       "4           Range: ₹8L - ₹16L  ₹12,82,880\\n /yr  \n",
       "5           Range: ₹5L - ₹1Cr  ₹12,60,805\\n /yr  \n",
       "6           Range: ₹6L - ₹20L  ₹12,53,544\\n /yr  \n",
       "7           Range: ₹8L - ₹21L  ₹12,70,000\\n /yr  \n",
       "8           Range: ₹2L - ₹22L  ₹11,82,266\\n /yr  \n",
       "9          Range: ₹11L - ₹18L  ₹14,62,558\\n /yr  \n",
       "10          Range: ₹6L - ₹21L  ₹11,45,202\\n /yr  \n",
       "11          Range: ₹5L - ₹15L   ₹8,93,926\\n /yr  \n",
       "12          Range: ₹4L - ₹13L   ₹9,66,328\\n /yr  \n",
       "13         Range: ₹10L - ₹46L  ₹20,82,095\\n /yr  \n",
       "14          Range: ₹4L - ₹21L  ₹11,11,592\\n /yr  \n",
       "15          Range: ₹6L - ₹18L  ₹12,51,280\\n /yr  \n",
       "16          Range: ₹25T - ₹1L     ₹50,000\\n /mo  \n",
       "17         Range: ₹10L - ₹21L  ₹14,64,785\\n /yr  \n",
       "18          Range: ₹4L - ₹15L   ₹6,96,665\\n /yr  \n",
       "19          Range: ₹2L - ₹23L   ₹5,96,566\\n /yr  "
      ]
     },
     "execution_count": 89,
     "metadata": {},
     "output_type": "execute_result"
    }
   ],
   "source": [
    "salary=pd.DataFrame({})\n",
    "salary['Company Name']=company\n",
    "salary['Number of Salaries']=no_salary\n",
    "salary['Minimum to Maximum Salary ']=salary_range\n",
    "salary['Averange Salary']=avg_salary\n",
    "\n",
    "salary"
   ]
  },
  {
   "cell_type": "markdown",
   "id": "82718426",
   "metadata": {},
   "source": [
    "### Q6 : Scrape data of first 100 sunglasses listings on flipkart.com. You have to scrape four attributes:"
   ]
  },
  {
   "cell_type": "code",
   "execution_count": 90,
   "id": "a06f001d",
   "metadata": {},
   "outputs": [],
   "source": [
    "import pandas as ps\n",
    "import selenium \n",
    "from selenium import webdriver"
   ]
  },
  {
   "cell_type": "code",
   "execution_count": 91,
   "id": "ff55ef81",
   "metadata": {},
   "outputs": [],
   "source": [
    "driver=webdriver.Chrome(r\"C:\\Program Files\\chromedriver.exe\")"
   ]
  },
  {
   "cell_type": "code",
   "execution_count": 92,
   "id": "0968b029",
   "metadata": {},
   "outputs": [],
   "source": [
    "driver.get(\"https://www.flipkart.com\")"
   ]
  },
  {
   "cell_type": "code",
   "execution_count": 93,
   "id": "49835571",
   "metadata": {},
   "outputs": [],
   "source": [
    "#finding element for job search bar\n",
    "#search_job=driver.find_element_by_id(\"_2M8cLY header-form-search\")\n",
    "#search_job.send_keys(\"sunglasses\")"
   ]
  },
  {
   "cell_type": "code",
   "execution_count": 94,
   "id": "cfab1c89",
   "metadata": {},
   "outputs": [],
   "source": [
    "import time\n",
    "for i in range(3):\n",
    "    time.sleep(3)\n",
    "    try:\n",
    "        driver.find_element_by_xpath('//a[@class=\"_1LKTO3\"]/a[3]')\n",
    "    except:\n",
    "        driver.find_elements_by_xpath('//a[@class=\"_1LKTO3\"]/a[2]')"
   ]
  },
  {
   "cell_type": "code",
   "execution_count": 99,
   "id": "64c8afe0",
   "metadata": {},
   "outputs": [],
   "source": [
    "brand_tag=driver.find_elements_by_xpath('//div[@class=\"_2WkVRV\"]')"
   ]
  },
  {
   "cell_type": "code",
   "execution_count": 100,
   "id": "5da64364",
   "metadata": {},
   "outputs": [
    {
     "data": {
      "text/plain": [
       "['PIRASO',\n",
       " 'Fastrack',\n",
       " 'PIRASO',\n",
       " 'Elligator',\n",
       " 'SHAAH COLLECTIONS',\n",
       " 'ROZZETTA CRAFT']"
      ]
     },
     "execution_count": 100,
     "metadata": {},
     "output_type": "execute_result"
    }
   ],
   "source": [
    "brand=[]\n",
    "for i in brand_tag:\n",
    "    brand.append(i.text.strip())\n",
    "brand[:6]"
   ]
  },
  {
   "cell_type": "code",
   "execution_count": 101,
   "id": "bf9bf8ab",
   "metadata": {},
   "outputs": [],
   "source": [
    "product_tag_des=driver.find_elements_by_xpath('//a[@class=\"IRpwTa\"]')"
   ]
  },
  {
   "cell_type": "code",
   "execution_count": 102,
   "id": "aea94e89",
   "metadata": {},
   "outputs": [
    {
     "data": {
      "text/plain": [
       "['UV Protection Aviator Sunglasses (54)',\n",
       " 'UV Protection Wayfarer Sunglasses (Free Size)',\n",
       " 'UV Protection Aviator Sunglasses (54)',\n",
       " 'UV Protection Round Sunglasses (54)',\n",
       " 'UV Protection, Polarized, Mirrored Rectangular Sunglass...',\n",
       " 'UV Protection Retro Square Sunglasses (Free Size)']"
      ]
     },
     "execution_count": 102,
     "metadata": {},
     "output_type": "execute_result"
    }
   ],
   "source": [
    "product_des=[]\n",
    "for i in product_tag_des:\n",
    "    product_des.append(i.text.strip())\n",
    "product_des[:6]"
   ]
  },
  {
   "cell_type": "code",
   "execution_count": 103,
   "id": "3f3468ab",
   "metadata": {},
   "outputs": [],
   "source": [
    "price_tag=driver.find_elements_by_xpath('//div[@class=\"_30jeq3\"]')"
   ]
  },
  {
   "cell_type": "code",
   "execution_count": 104,
   "id": "0a62a62b",
   "metadata": {},
   "outputs": [
    {
     "data": {
      "text/plain": [
       "['₹200', '₹758', '₹200', '₹295', '₹198', '₹499']"
      ]
     },
     "execution_count": 104,
     "metadata": {},
     "output_type": "execute_result"
    }
   ],
   "source": [
    "price=[]\n",
    "for i in price_tag:\n",
    "    price.append(i.text.strip())\n",
    "price[:6]"
   ]
  },
  {
   "cell_type": "code",
   "execution_count": 105,
   "id": "3053c532",
   "metadata": {},
   "outputs": [],
   "source": [
    "discount_tag=driver.find_elements_by_xpath('//div[@class=\"_3Ay6Sb\"]')"
   ]
  },
  {
   "cell_type": "code",
   "execution_count": 106,
   "id": "69d23d8c",
   "metadata": {},
   "outputs": [
    {
     "data": {
      "text/plain": [
       "['87% off', '15% off', '87% off', '88% off', '88% off', '77% off']"
      ]
     },
     "execution_count": 106,
     "metadata": {},
     "output_type": "execute_result"
    }
   ],
   "source": [
    "discount=[]\n",
    "for i in discount_tag:\n",
    "    discount.append(i.text.strip())\n",
    "discount[:6]"
   ]
  },
  {
   "cell_type": "code",
   "execution_count": 108,
   "id": "d50be44b",
   "metadata": {},
   "outputs": [
    {
     "data": {
      "text/html": [
       "<div>\n",
       "<style scoped>\n",
       "    .dataframe tbody tr th:only-of-type {\n",
       "        vertical-align: middle;\n",
       "    }\n",
       "\n",
       "    .dataframe tbody tr th {\n",
       "        vertical-align: top;\n",
       "    }\n",
       "\n",
       "    .dataframe thead th {\n",
       "        text-align: right;\n",
       "    }\n",
       "</style>\n",
       "<table border=\"1\" class=\"dataframe\">\n",
       "  <thead>\n",
       "    <tr style=\"text-align: right;\">\n",
       "      <th></th>\n",
       "      <th>Brand</th>\n",
       "      <th>Product Description</th>\n",
       "      <th>Price</th>\n",
       "      <th>Discount %</th>\n",
       "    </tr>\n",
       "  </thead>\n",
       "  <tbody>\n",
       "    <tr>\n",
       "      <th>0</th>\n",
       "      <td>PIRASO</td>\n",
       "      <td>UV Protection Aviator Sunglasses (54)</td>\n",
       "      <td>₹200</td>\n",
       "      <td>87% off</td>\n",
       "    </tr>\n",
       "    <tr>\n",
       "      <th>1</th>\n",
       "      <td>Fastrack</td>\n",
       "      <td>UV Protection Wayfarer Sunglasses (Free Size)</td>\n",
       "      <td>₹758</td>\n",
       "      <td>15% off</td>\n",
       "    </tr>\n",
       "    <tr>\n",
       "      <th>2</th>\n",
       "      <td>PIRASO</td>\n",
       "      <td>UV Protection Aviator Sunglasses (54)</td>\n",
       "      <td>₹200</td>\n",
       "      <td>87% off</td>\n",
       "    </tr>\n",
       "    <tr>\n",
       "      <th>3</th>\n",
       "      <td>Elligator</td>\n",
       "      <td>UV Protection Round Sunglasses (54)</td>\n",
       "      <td>₹295</td>\n",
       "      <td>88% off</td>\n",
       "    </tr>\n",
       "    <tr>\n",
       "      <th>4</th>\n",
       "      <td>SHAAH COLLECTIONS</td>\n",
       "      <td>UV Protection, Polarized, Mirrored Rectangular...</td>\n",
       "      <td>₹198</td>\n",
       "      <td>88% off</td>\n",
       "    </tr>\n",
       "    <tr>\n",
       "      <th>5</th>\n",
       "      <td>ROZZETTA CRAFT</td>\n",
       "      <td>UV Protection Retro Square Sunglasses (Free Size)</td>\n",
       "      <td>₹499</td>\n",
       "      <td>77% off</td>\n",
       "    </tr>\n",
       "    <tr>\n",
       "      <th>6</th>\n",
       "      <td>PIRASO</td>\n",
       "      <td>UV Protection Aviator Sunglasses (54)</td>\n",
       "      <td>₹200</td>\n",
       "      <td>87% off</td>\n",
       "    </tr>\n",
       "    <tr>\n",
       "      <th>7</th>\n",
       "      <td>New Specs</td>\n",
       "      <td>Mirrored, UV Protection, Riding Glasses, Other...</td>\n",
       "      <td>₹299</td>\n",
       "      <td>81% off</td>\n",
       "    </tr>\n",
       "    <tr>\n",
       "      <th>8</th>\n",
       "      <td>GANSTA</td>\n",
       "      <td>UV Protection Aviator Sunglasses (57)</td>\n",
       "      <td>₹239</td>\n",
       "      <td>88% off</td>\n",
       "    </tr>\n",
       "    <tr>\n",
       "      <th>9</th>\n",
       "      <td>kingsunglasses</td>\n",
       "      <td>Mirrored, UV Protection Wayfarer Sunglasses (F...</td>\n",
       "      <td>₹284</td>\n",
       "      <td>89% off</td>\n",
       "    </tr>\n",
       "    <tr>\n",
       "      <th>10</th>\n",
       "      <td>Rich Club</td>\n",
       "      <td>Polarized Round Sunglasses (48)</td>\n",
       "      <td>₹199</td>\n",
       "      <td>60% off</td>\n",
       "    </tr>\n",
       "    <tr>\n",
       "      <th>11</th>\n",
       "      <td>Elligator</td>\n",
       "      <td>UV Protection Round Sunglasses (55)</td>\n",
       "      <td>₹266</td>\n",
       "      <td>86% off</td>\n",
       "    </tr>\n",
       "    <tr>\n",
       "      <th>12</th>\n",
       "      <td>Fastrack</td>\n",
       "      <td>UV Protection Aviator Sunglasses (Free Size)</td>\n",
       "      <td>₹546</td>\n",
       "      <td>31% off</td>\n",
       "    </tr>\n",
       "    <tr>\n",
       "      <th>13</th>\n",
       "      <td>NuVew</td>\n",
       "      <td>UV Protection, Night Vision, Riding Glasses Sp...</td>\n",
       "      <td>₹216</td>\n",
       "      <td>72% off</td>\n",
       "    </tr>\n",
       "    <tr>\n",
       "      <th>14</th>\n",
       "      <td>PHENOMENAL</td>\n",
       "      <td>UV Protection Retro Square Sunglasses (Free Size)</td>\n",
       "      <td>₹379</td>\n",
       "      <td>81% off</td>\n",
       "    </tr>\n",
       "    <tr>\n",
       "      <th>15</th>\n",
       "      <td>Fastrack</td>\n",
       "      <td>Gradient, UV Protection Wayfarer Sunglasses (F...</td>\n",
       "      <td>₹509</td>\n",
       "      <td>36% off</td>\n",
       "    </tr>\n",
       "    <tr>\n",
       "      <th>16</th>\n",
       "      <td>Singco India</td>\n",
       "      <td>UV Protection, Riding Glasses, Others Aviator,...</td>\n",
       "      <td>₹229</td>\n",
       "      <td>67% off</td>\n",
       "    </tr>\n",
       "    <tr>\n",
       "      <th>17</th>\n",
       "      <td>SHAAH COLLECTIONS</td>\n",
       "      <td>UV Protection Round Sunglasses (Free Size)</td>\n",
       "      <td>₹331</td>\n",
       "      <td>80% off</td>\n",
       "    </tr>\n",
       "    <tr>\n",
       "      <th>18</th>\n",
       "      <td>SHAAH COLLECTIONS</td>\n",
       "      <td>UV Protection, Polarized, Mirrored Rectangular...</td>\n",
       "      <td>₹215</td>\n",
       "      <td>78% off</td>\n",
       "    </tr>\n",
       "    <tr>\n",
       "      <th>19</th>\n",
       "      <td>Fastrack</td>\n",
       "      <td>UV Protection Shield Sunglasses (Free Size)</td>\n",
       "      <td>₹879</td>\n",
       "      <td>2% off</td>\n",
       "    </tr>\n",
       "    <tr>\n",
       "      <th>20</th>\n",
       "      <td>Silver Kartz</td>\n",
       "      <td>UV Protection Oval Sunglasses (56)</td>\n",
       "      <td>₹224</td>\n",
       "      <td>81% off</td>\n",
       "    </tr>\n",
       "    <tr>\n",
       "      <th>21</th>\n",
       "      <td>GANSTA</td>\n",
       "      <td>UV Protection, Night Vision, Riding Glasses Av...</td>\n",
       "      <td>₹248</td>\n",
       "      <td>87% off</td>\n",
       "    </tr>\n",
       "    <tr>\n",
       "      <th>22</th>\n",
       "      <td>kingsunglasses</td>\n",
       "      <td>UV Protection Round Sunglasses (54)</td>\n",
       "      <td>₹213</td>\n",
       "      <td>80% off</td>\n",
       "    </tr>\n",
       "    <tr>\n",
       "      <th>23</th>\n",
       "      <td>PIRASO</td>\n",
       "      <td>UV Protection Aviator Sunglasses (58)</td>\n",
       "      <td>₹319</td>\n",
       "      <td>87% off</td>\n",
       "    </tr>\n",
       "    <tr>\n",
       "      <th>24</th>\n",
       "      <td>Singco India</td>\n",
       "      <td>UV Protection Round Sunglasses (Free Size)</td>\n",
       "      <td>₹183</td>\n",
       "      <td>81% off</td>\n",
       "    </tr>\n",
       "    <tr>\n",
       "      <th>25</th>\n",
       "      <td>Fastrack</td>\n",
       "      <td>UV Protection Rectangular Sunglasses (Free Size)</td>\n",
       "      <td>₹513</td>\n",
       "      <td>35% off</td>\n",
       "    </tr>\n",
       "    <tr>\n",
       "      <th>26</th>\n",
       "      <td>SUNBEE</td>\n",
       "      <td>UV Protection, Polarized, Mirrored Wayfarer Su...</td>\n",
       "      <td>₹265</td>\n",
       "      <td>73% off</td>\n",
       "    </tr>\n",
       "    <tr>\n",
       "      <th>27</th>\n",
       "      <td>NuVew</td>\n",
       "      <td>UV Protection Sports Sunglasses (62)</td>\n",
       "      <td>₹291</td>\n",
       "      <td>76% off</td>\n",
       "    </tr>\n",
       "    <tr>\n",
       "      <th>28</th>\n",
       "      <td>Fastrack</td>\n",
       "      <td>Mirrored, UV Protection Wayfarer Sunglasses (F...</td>\n",
       "      <td>₹738</td>\n",
       "      <td>26% off</td>\n",
       "    </tr>\n",
       "    <tr>\n",
       "      <th>29</th>\n",
       "      <td>NuVew</td>\n",
       "      <td>UV Protection, Mirrored Aviator Sunglasses (58)</td>\n",
       "      <td>₹185</td>\n",
       "      <td>78% off</td>\n",
       "    </tr>\n",
       "    <tr>\n",
       "      <th>30</th>\n",
       "      <td>GANSTA</td>\n",
       "      <td>UV Protection, Riding Glasses Wayfarer Sunglas...</td>\n",
       "      <td>₹209</td>\n",
       "      <td>88% off</td>\n",
       "    </tr>\n",
       "    <tr>\n",
       "      <th>31</th>\n",
       "      <td>PHENOMENAL</td>\n",
       "      <td>UV Protection, Mirrored Retro Square Sunglasse...</td>\n",
       "      <td>₹319</td>\n",
       "      <td>84% off</td>\n",
       "    </tr>\n",
       "    <tr>\n",
       "      <th>32</th>\n",
       "      <td>Singco India</td>\n",
       "      <td>UV Protection Aviator Sunglasses (Free Size)</td>\n",
       "      <td>₹362</td>\n",
       "      <td>69% off</td>\n",
       "    </tr>\n",
       "    <tr>\n",
       "      <th>33</th>\n",
       "      <td>ROYAL SON</td>\n",
       "      <td>Mirrored Aviator Sunglasses (55)</td>\n",
       "      <td>₹319</td>\n",
       "      <td>78% off</td>\n",
       "    </tr>\n",
       "    <tr>\n",
       "      <th>34</th>\n",
       "      <td>ROZZETTA CRAFT</td>\n",
       "      <td>UV Protection, Gradient Rectangular Sunglasses...</td>\n",
       "      <td>₹404</td>\n",
       "      <td>79% off</td>\n",
       "    </tr>\n",
       "    <tr>\n",
       "      <th>35</th>\n",
       "      <td>hipe</td>\n",
       "      <td>Mirrored, UV Protection, Gradient Round Sungla...</td>\n",
       "      <td>₹210</td>\n",
       "      <td>85% off</td>\n",
       "    </tr>\n",
       "    <tr>\n",
       "      <th>36</th>\n",
       "      <td>ROYAL SON</td>\n",
       "      <td>Polarized, UV Protection Aviator Sunglasses (58)</td>\n",
       "      <td>₹599</td>\n",
       "      <td>70% off</td>\n",
       "    </tr>\n",
       "    <tr>\n",
       "      <th>37</th>\n",
       "      <td>Silver Kartz</td>\n",
       "      <td>UV Protection Wayfarer Sunglasses (Free Size)</td>\n",
       "      <td>₹194</td>\n",
       "      <td>87% off</td>\n",
       "    </tr>\n",
       "    <tr>\n",
       "      <th>38</th>\n",
       "      <td>GANSTA</td>\n",
       "      <td>UV Protection Aviator Sunglasses (57)</td>\n",
       "      <td>₹207</td>\n",
       "      <td>80% off</td>\n",
       "    </tr>\n",
       "    <tr>\n",
       "      <th>39</th>\n",
       "      <td>Fastrack</td>\n",
       "      <td>UV Protection Aviator Sunglasses (Free Size)</td>\n",
       "      <td>₹689</td>\n",
       "      <td>23% off</td>\n",
       "    </tr>\n",
       "  </tbody>\n",
       "</table>\n",
       "</div>"
      ],
      "text/plain": [
       "                Brand                                Product Description  \\\n",
       "0              PIRASO              UV Protection Aviator Sunglasses (54)   \n",
       "1            Fastrack      UV Protection Wayfarer Sunglasses (Free Size)   \n",
       "2              PIRASO              UV Protection Aviator Sunglasses (54)   \n",
       "3           Elligator                UV Protection Round Sunglasses (54)   \n",
       "4   SHAAH COLLECTIONS  UV Protection, Polarized, Mirrored Rectangular...   \n",
       "5      ROZZETTA CRAFT  UV Protection Retro Square Sunglasses (Free Size)   \n",
       "6              PIRASO              UV Protection Aviator Sunglasses (54)   \n",
       "7           New Specs  Mirrored, UV Protection, Riding Glasses, Other...   \n",
       "8              GANSTA              UV Protection Aviator Sunglasses (57)   \n",
       "9      kingsunglasses  Mirrored, UV Protection Wayfarer Sunglasses (F...   \n",
       "10          Rich Club                    Polarized Round Sunglasses (48)   \n",
       "11          Elligator                UV Protection Round Sunglasses (55)   \n",
       "12           Fastrack       UV Protection Aviator Sunglasses (Free Size)   \n",
       "13              NuVew  UV Protection, Night Vision, Riding Glasses Sp...   \n",
       "14         PHENOMENAL  UV Protection Retro Square Sunglasses (Free Size)   \n",
       "15           Fastrack  Gradient, UV Protection Wayfarer Sunglasses (F...   \n",
       "16       Singco India  UV Protection, Riding Glasses, Others Aviator,...   \n",
       "17  SHAAH COLLECTIONS         UV Protection Round Sunglasses (Free Size)   \n",
       "18  SHAAH COLLECTIONS  UV Protection, Polarized, Mirrored Rectangular...   \n",
       "19           Fastrack        UV Protection Shield Sunglasses (Free Size)   \n",
       "20       Silver Kartz                 UV Protection Oval Sunglasses (56)   \n",
       "21             GANSTA  UV Protection, Night Vision, Riding Glasses Av...   \n",
       "22     kingsunglasses                UV Protection Round Sunglasses (54)   \n",
       "23             PIRASO              UV Protection Aviator Sunglasses (58)   \n",
       "24       Singco India         UV Protection Round Sunglasses (Free Size)   \n",
       "25           Fastrack   UV Protection Rectangular Sunglasses (Free Size)   \n",
       "26             SUNBEE  UV Protection, Polarized, Mirrored Wayfarer Su...   \n",
       "27              NuVew               UV Protection Sports Sunglasses (62)   \n",
       "28           Fastrack  Mirrored, UV Protection Wayfarer Sunglasses (F...   \n",
       "29              NuVew    UV Protection, Mirrored Aviator Sunglasses (58)   \n",
       "30             GANSTA  UV Protection, Riding Glasses Wayfarer Sunglas...   \n",
       "31         PHENOMENAL  UV Protection, Mirrored Retro Square Sunglasse...   \n",
       "32       Singco India       UV Protection Aviator Sunglasses (Free Size)   \n",
       "33          ROYAL SON                   Mirrored Aviator Sunglasses (55)   \n",
       "34     ROZZETTA CRAFT  UV Protection, Gradient Rectangular Sunglasses...   \n",
       "35               hipe  Mirrored, UV Protection, Gradient Round Sungla...   \n",
       "36          ROYAL SON   Polarized, UV Protection Aviator Sunglasses (58)   \n",
       "37       Silver Kartz      UV Protection Wayfarer Sunglasses (Free Size)   \n",
       "38             GANSTA              UV Protection Aviator Sunglasses (57)   \n",
       "39           Fastrack       UV Protection Aviator Sunglasses (Free Size)   \n",
       "\n",
       "   Price Discount %   \n",
       "0   ₹200     87% off  \n",
       "1   ₹758     15% off  \n",
       "2   ₹200     87% off  \n",
       "3   ₹295     88% off  \n",
       "4   ₹198     88% off  \n",
       "5   ₹499     77% off  \n",
       "6   ₹200     87% off  \n",
       "7   ₹299     81% off  \n",
       "8   ₹239     88% off  \n",
       "9   ₹284     89% off  \n",
       "10  ₹199     60% off  \n",
       "11  ₹266     86% off  \n",
       "12  ₹546     31% off  \n",
       "13  ₹216     72% off  \n",
       "14  ₹379     81% off  \n",
       "15  ₹509     36% off  \n",
       "16  ₹229     67% off  \n",
       "17  ₹331     80% off  \n",
       "18  ₹215     78% off  \n",
       "19  ₹879      2% off  \n",
       "20  ₹224     81% off  \n",
       "21  ₹248     87% off  \n",
       "22  ₹213     80% off  \n",
       "23  ₹319     87% off  \n",
       "24  ₹183     81% off  \n",
       "25  ₹513     35% off  \n",
       "26  ₹265     73% off  \n",
       "27  ₹291     76% off  \n",
       "28  ₹738     26% off  \n",
       "29  ₹185     78% off  \n",
       "30  ₹209     88% off  \n",
       "31  ₹319     84% off  \n",
       "32  ₹362     69% off  \n",
       "33  ₹319     78% off  \n",
       "34  ₹404     79% off  \n",
       "35  ₹210     85% off  \n",
       "36  ₹599     70% off  \n",
       "37  ₹194     87% off  \n",
       "38  ₹207     80% off  \n",
       "39  ₹689     23% off  "
      ]
     },
     "execution_count": 108,
     "metadata": {},
     "output_type": "execute_result"
    }
   ],
   "source": [
    "import pandas as pd\n",
    "sunglass=pd.DataFrame({})\n",
    "sunglass['Brand']=brand[:40]\n",
    "sunglass['Product Description']=product_des[:40]\n",
    "sunglass['Price']=price[:100]\n",
    "sunglass['Discount % ']=discount[:40]\n",
    "\n",
    "sunglass"
   ]
  },
  {
   "cell_type": "markdown",
   "id": "04465fa7",
   "metadata": {},
   "source": [
    "### Q7: Scrape 100 reviews data from flipkart.com for iphone11 phone.  "
   ]
  },
  {
   "cell_type": "code",
   "execution_count": 109,
   "id": "12a31e34",
   "metadata": {},
   "outputs": [],
   "source": [
    "import pandas as pd\n",
    "import selenium\n",
    "from selenium import webdriver\n",
    "import time"
   ]
  },
  {
   "cell_type": "code",
   "execution_count": 110,
   "id": "322d2de1",
   "metadata": {},
   "outputs": [],
   "source": [
    "#lets first connect to the web driver\n",
    "driver=webdriver.Chrome(r\"C:\\Program Files\\chromedriver.exe\")"
   ]
  },
  {
   "cell_type": "code",
   "execution_count": 111,
   "id": "25faeb2e",
   "metadata": {},
   "outputs": [],
   "source": [
    "driver.get(\"https://www.flipkart.com/apple-iphone-11-black-64-gb-includes-earpods-power-adapter/p/itm0f37c2240b217?pid=MOBFKCTSVZAXUHGR&lid=LSTMOBFKC\")"
   ]
  },
  {
   "cell_type": "code",
   "execution_count": 112,
   "id": "74646e5c",
   "metadata": {},
   "outputs": [],
   "source": [
    "import time\n",
    "for i in range(3):\n",
    "    time.sleep(3)\n",
    "    try:\n",
    "        driver.find_element_by_xpath('//a[@class=\"_2MImiq _1Qnn1K\"]/a[1]')\n",
    "    except:\n",
    "        driver.find_elements_by_xpath('//a[@class=\"_2MImiq _1Qnn1K\"]/a[9]')"
   ]
  },
  {
   "cell_type": "code",
   "execution_count": 113,
   "id": "e8f3cbd2",
   "metadata": {},
   "outputs": [],
   "source": [
    "rating_tag=driver.find_elements_by_xpath('//div[@class=\"_3LWZlK _1BLPMq\"]')"
   ]
  },
  {
   "cell_type": "code",
   "execution_count": 114,
   "id": "e6a2ace0",
   "metadata": {},
   "outputs": [
    {
     "data": {
      "text/plain": [
       "['5', '5', '5']"
      ]
     },
     "execution_count": 114,
     "metadata": {},
     "output_type": "execute_result"
    }
   ],
   "source": [
    "rating=[]\n",
    "for i in rating_tag:\n",
    "    rating.append(i.text.strip())\n",
    "rating[:3]"
   ]
  },
  {
   "cell_type": "code",
   "execution_count": 115,
   "id": "663503fc",
   "metadata": {},
   "outputs": [],
   "source": [
    "review_tag=driver.find_elements_by_xpath('//p[@class=\"_2-N8zT\"]')"
   ]
  },
  {
   "cell_type": "code",
   "execution_count": 116,
   "id": "7244b63e",
   "metadata": {},
   "outputs": [
    {
     "data": {
      "text/plain": [
       "['Brilliant', 'Simply awesome', 'Perfect product!']"
      ]
     },
     "execution_count": 116,
     "metadata": {},
     "output_type": "execute_result"
    }
   ],
   "source": [
    "review=[]\n",
    "for i in review_tag:\n",
    "    review.append(i.text.strip())\n",
    "review[:3]"
   ]
  },
  {
   "cell_type": "code",
   "execution_count": 117,
   "id": "ee248e51",
   "metadata": {},
   "outputs": [],
   "source": [
    "full_review_tag=driver.find_elements_by_xpath('//div[@class=\"t-ZTKy\"]')"
   ]
  },
  {
   "cell_type": "code",
   "execution_count": 122,
   "id": "953ae416",
   "metadata": {},
   "outputs": [
    {
     "data": {
      "text/plain": [
       "['The Best Phone for the Money\\n\\nThe iPhone 11 offers superb cameras, a more durable design and excellent battery life for an affordable price.\\n\\nCompelling ultra-wide camera\\nNew Night mode is excellent\\nLong battery life',\n",
       " 'Really satisfied with the Product I received... It’s totally genuine and the packaging was also really good so if ur planning to buy just go for it.',\n",
       " 'Amazing phone with great cameras and better battery which gives you the best performance. I just love the camera .']"
      ]
     },
     "execution_count": 122,
     "metadata": {},
     "output_type": "execute_result"
    }
   ],
   "source": [
    "full_review=[]\n",
    "for i in full_review_tag:\n",
    "    full_review.append(i.text.strip())\n",
    "full_review[:3]"
   ]
  },
  {
   "cell_type": "code",
   "execution_count": 123,
   "id": "f020a403",
   "metadata": {},
   "outputs": [],
   "source": [
    "iphone=pd.DataFrame({})\n",
    "iphone['Ratings']=rating[:3]\n",
    "iphone['Review_summary']=review[:3]\n",
    "iphone['Full Review']=full_review[:3]"
   ]
  },
  {
   "cell_type": "code",
   "execution_count": 124,
   "id": "dff62824",
   "metadata": {
    "scrolled": true
   },
   "outputs": [
    {
     "data": {
      "text/html": [
       "<div>\n",
       "<style scoped>\n",
       "    .dataframe tbody tr th:only-of-type {\n",
       "        vertical-align: middle;\n",
       "    }\n",
       "\n",
       "    .dataframe tbody tr th {\n",
       "        vertical-align: top;\n",
       "    }\n",
       "\n",
       "    .dataframe thead th {\n",
       "        text-align: right;\n",
       "    }\n",
       "</style>\n",
       "<table border=\"1\" class=\"dataframe\">\n",
       "  <thead>\n",
       "    <tr style=\"text-align: right;\">\n",
       "      <th></th>\n",
       "      <th>Ratings</th>\n",
       "      <th>Review_summary</th>\n",
       "      <th>Full Review</th>\n",
       "    </tr>\n",
       "  </thead>\n",
       "  <tbody>\n",
       "    <tr>\n",
       "      <th>0</th>\n",
       "      <td>5</td>\n",
       "      <td>Brilliant</td>\n",
       "      <td>The Best Phone for the Money\\n\\nThe iPhone 11 ...</td>\n",
       "    </tr>\n",
       "    <tr>\n",
       "      <th>1</th>\n",
       "      <td>5</td>\n",
       "      <td>Simply awesome</td>\n",
       "      <td>Really satisfied with the Product I received.....</td>\n",
       "    </tr>\n",
       "    <tr>\n",
       "      <th>2</th>\n",
       "      <td>5</td>\n",
       "      <td>Perfect product!</td>\n",
       "      <td>Amazing phone with great cameras and better ba...</td>\n",
       "    </tr>\n",
       "  </tbody>\n",
       "</table>\n",
       "</div>"
      ],
      "text/plain": [
       "  Ratings    Review_summary                                        Full Review\n",
       "0       5         Brilliant  The Best Phone for the Money\\n\\nThe iPhone 11 ...\n",
       "1       5    Simply awesome  Really satisfied with the Product I received.....\n",
       "2       5  Perfect product!  Amazing phone with great cameras and better ba..."
      ]
     },
     "execution_count": 124,
     "metadata": {},
     "output_type": "execute_result"
    }
   ],
   "source": [
    "iphone"
   ]
  }
 ],
 "metadata": {
  "kernelspec": {
   "display_name": "Python 3",
   "language": "python",
   "name": "python3"
  },
  "language_info": {
   "codemirror_mode": {
    "name": "ipython",
    "version": 3
   },
   "file_extension": ".py",
   "mimetype": "text/x-python",
   "name": "python",
   "nbconvert_exporter": "python",
   "pygments_lexer": "ipython3",
   "version": "3.8.8"
  }
 },
 "nbformat": 4,
 "nbformat_minor": 5
}
